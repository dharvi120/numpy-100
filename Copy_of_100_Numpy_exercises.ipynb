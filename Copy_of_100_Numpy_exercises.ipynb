{
  "cells": [
    {
      "cell_type": "markdown",
      "metadata": {
        "id": "view-in-github",
        "colab_type": "text"
      },
      "source": [
        "<a href=\"https://colab.research.google.com/github/dharvi120/numpy-100/blob/master/Copy_of_100_Numpy_exercises.ipynb\" target=\"_parent\"><img src=\"https://colab.research.google.com/assets/colab-badge.svg\" alt=\"Open In Colab\"/></a>"
      ]
    },
    {
      "cell_type": "markdown",
      "id": "3780a226",
      "metadata": {
        "id": "3780a226"
      },
      "source": [
        "# 100 numpy exercises\n",
        "\n",
        "This is a collection of exercises that have been collected in the numpy mailing list, on stack overflow\n",
        "and in the numpy documentation. The goal of this collection is to offer a quick reference for both old\n",
        "and new users but also to provide a set of exercises for those who teach.\n",
        "\n",
        "\n",
        "If you find an error or think you've a better way to solve some of them, feel\n",
        "free to open an issue at <https://github.com/rougier/numpy-100>."
      ]
    },
    {
      "cell_type": "markdown",
      "id": "63ded581",
      "metadata": {
        "id": "63ded581"
      },
      "source": [
        "File automatically generated. See the documentation to update questions/answers/hints programmatically."
      ]
    },
    {
      "cell_type": "markdown",
      "id": "456258e7",
      "metadata": {
        "id": "456258e7"
      },
      "source": [
        "Run the `initialize.py` module, then for each question you can query the\n",
        "answer or an hint with `hint(n)` or `answer(n)` for `n` question number."
      ]
    },
    {
      "cell_type": "code",
      "execution_count": null,
      "id": "ad8f85b1",
      "metadata": {
        "id": "ad8f85b1"
      },
      "outputs": [],
      "source": [
        "%run initialise.py"
      ]
    },
    {
      "cell_type": "markdown",
      "id": "40518c2e",
      "metadata": {
        "id": "40518c2e"
      },
      "source": [
        "#### 1. Import the numpy package under the name `np` (★☆☆)"
      ]
    },
    {
      "cell_type": "code",
      "execution_count": null,
      "id": "08ee02d9",
      "metadata": {
        "id": "08ee02d9"
      },
      "outputs": [],
      "source": [
        "import numpy as np\n"
      ]
    },
    {
      "cell_type": "markdown",
      "id": "47c48198",
      "metadata": {
        "id": "47c48198"
      },
      "source": [
        "#### 2. Print the numpy version and the configuration (★☆☆)"
      ]
    },
    {
      "cell_type": "code",
      "execution_count": null,
      "id": "8a94ff73",
      "metadata": {
        "colab": {
          "base_uri": "https://localhost:8080/"
        },
        "id": "8a94ff73",
        "outputId": "a2cae9a7-723c-48fa-f4a8-eb3d43961b21"
      },
      "outputs": [
        {
          "output_type": "stream",
          "name": "stdout",
          "text": [
            "2.0.2\n",
            "Build Dependencies:\n",
            "  blas:\n",
            "    detection method: pkgconfig\n",
            "    found: true\n",
            "    include directory: /opt/_internal/cpython-3.11.8/lib/python3.11/site-packages/scipy_openblas64/include\n",
            "    lib directory: /opt/_internal/cpython-3.11.8/lib/python3.11/site-packages/scipy_openblas64/lib\n",
            "    name: scipy-openblas\n",
            "    openblas configuration: OpenBLAS 0.3.27  USE64BITINT DYNAMIC_ARCH NO_AFFINITY\n",
            "      Zen MAX_THREADS=64\n",
            "    pc file directory: /project/.openblas\n",
            "    version: 0.3.27\n",
            "  lapack:\n",
            "    detection method: pkgconfig\n",
            "    found: true\n",
            "    include directory: /opt/_internal/cpython-3.11.8/lib/python3.11/site-packages/scipy_openblas64/include\n",
            "    lib directory: /opt/_internal/cpython-3.11.8/lib/python3.11/site-packages/scipy_openblas64/lib\n",
            "    name: scipy-openblas\n",
            "    openblas configuration: OpenBLAS 0.3.27  USE64BITINT DYNAMIC_ARCH NO_AFFINITY\n",
            "      Zen MAX_THREADS=64\n",
            "    pc file directory: /project/.openblas\n",
            "    version: 0.3.27\n",
            "Compilers:\n",
            "  c:\n",
            "    commands: cc\n",
            "    linker: ld.bfd\n",
            "    name: gcc\n",
            "    version: 10.2.1\n",
            "  c++:\n",
            "    commands: c++\n",
            "    linker: ld.bfd\n",
            "    name: gcc\n",
            "    version: 10.2.1\n",
            "  cython:\n",
            "    commands: cython\n",
            "    linker: cython\n",
            "    name: cython\n",
            "    version: 3.0.11\n",
            "Machine Information:\n",
            "  build:\n",
            "    cpu: x86_64\n",
            "    endian: little\n",
            "    family: x86_64\n",
            "    system: linux\n",
            "  host:\n",
            "    cpu: x86_64\n",
            "    endian: little\n",
            "    family: x86_64\n",
            "    system: linux\n",
            "Python Information:\n",
            "  path: /tmp/build-env-zm_4loqi/bin/python\n",
            "  version: '3.11'\n",
            "SIMD Extensions:\n",
            "  baseline:\n",
            "  - SSE\n",
            "  - SSE2\n",
            "  - SSE3\n",
            "  found:\n",
            "  - SSSE3\n",
            "  - SSE41\n",
            "  - POPCNT\n",
            "  - SSE42\n",
            "  - AVX\n",
            "  - F16C\n",
            "  - FMA3\n",
            "  - AVX2\n",
            "  not found:\n",
            "  - AVX512F\n",
            "  - AVX512CD\n",
            "  - AVX512_KNL\n",
            "  - AVX512_KNM\n",
            "  - AVX512_SKX\n",
            "  - AVX512_CLX\n",
            "  - AVX512_CNL\n",
            "  - AVX512_ICL\n",
            "\n"
          ]
        }
      ],
      "source": [
        "import numpy as np\n",
        "print(np.__version__)\n",
        "np.show_config()\n",
        "\n"
      ]
    },
    {
      "cell_type": "markdown",
      "id": "4f405544",
      "metadata": {
        "id": "4f405544"
      },
      "source": [
        "#### 3. Create a null vector of size 10 (★☆☆)"
      ]
    },
    {
      "cell_type": "code",
      "execution_count": null,
      "id": "4a0d86fc",
      "metadata": {
        "colab": {
          "base_uri": "https://localhost:8080/"
        },
        "id": "4a0d86fc",
        "outputId": "b852f6bf-566a-47e7-eeb0-55e9ec3db7ec"
      },
      "outputs": [
        {
          "output_type": "stream",
          "name": "stdout",
          "text": [
            "[0. 0. 0. 0. 0. 0. 0. 0. 0. 0.]\n"
          ]
        }
      ],
      "source": [
        "import numpy as np\n",
        "null_vector=np.zeros(10)\n",
        "print(null_vector)"
      ]
    },
    {
      "cell_type": "markdown",
      "id": "c8754c7a",
      "metadata": {
        "id": "c8754c7a"
      },
      "source": [
        "#### 4. How to find the memory size of any array (★☆☆)"
      ]
    },
    {
      "cell_type": "code",
      "execution_count": null,
      "id": "4fa4c3e1",
      "metadata": {
        "colab": {
          "base_uri": "https://localhost:8080/"
        },
        "id": "4fa4c3e1",
        "outputId": "a7a5a0d2-dcb0-46f3-9f1a-5eccc9e581ce"
      },
      "outputs": [
        {
          "output_type": "stream",
          "name": "stdout",
          "text": [
            "40\n"
          ]
        }
      ],
      "source": [
        "import numpy as np\n",
        "array=np.array([1,2,3,4,5])\n",
        "print(array.nbytes)"
      ]
    },
    {
      "cell_type": "markdown",
      "id": "0381891d",
      "metadata": {
        "id": "0381891d"
      },
      "source": [
        "#### 5. How to get the documentation of the numpy add function from the command line? (★☆☆)"
      ]
    },
    {
      "cell_type": "code",
      "execution_count": null,
      "id": "79c56ec6",
      "metadata": {
        "colab": {
          "base_uri": "https://localhost:8080/"
        },
        "id": "79c56ec6",
        "outputId": "2316c5fd-4a15-4e09-e4df-44df77a20fa2"
      },
      "outputs": [
        {
          "output_type": "stream",
          "name": "stdout",
          "text": [
            "add(x1, x2, /, out=None, *, where=True, casting='same_kind', order='K', dtype=None, subok=True[, signature])\n",
            "\n",
            "Add arguments element-wise.\n",
            "\n",
            "Parameters\n",
            "----------\n",
            "x1, x2 : array_like\n",
            "    The arrays to be added.\n",
            "    If ``x1.shape != x2.shape``, they must be broadcastable to a common\n",
            "    shape (which becomes the shape of the output).\n",
            "out : ndarray, None, or tuple of ndarray and None, optional\n",
            "    A location into which the result is stored. If provided, it must have\n",
            "    a shape that the inputs broadcast to. If not provided or None,\n",
            "    a freshly-allocated array is returned. A tuple (possible only as a\n",
            "    keyword argument) must have length equal to the number of outputs.\n",
            "where : array_like, optional\n",
            "    This condition is broadcast over the input. At locations where the\n",
            "    condition is True, the `out` array will be set to the ufunc result.\n",
            "    Elsewhere, the `out` array will retain its original value.\n",
            "    Note that if an uninitialized `out` array is created via the default\n",
            "    ``out=None``, locations within it where the condition is False will\n",
            "    remain uninitialized.\n",
            "**kwargs\n",
            "    For other keyword-only arguments, see the\n",
            "    :ref:`ufunc docs <ufuncs.kwargs>`.\n",
            "\n",
            "Returns\n",
            "-------\n",
            "add : ndarray or scalar\n",
            "    The sum of `x1` and `x2`, element-wise.\n",
            "    This is a scalar if both `x1` and `x2` are scalars.\n",
            "\n",
            "Notes\n",
            "-----\n",
            "Equivalent to `x1` + `x2` in terms of array broadcasting.\n",
            "\n",
            "Examples\n",
            "--------\n",
            ">>> np.add(1.0, 4.0)\n",
            "5.0\n",
            ">>> x1 = np.arange(9.0).reshape((3, 3))\n",
            ">>> x2 = np.arange(3.0)\n",
            ">>> np.add(x1, x2)\n",
            "array([[  0.,   2.,   4.],\n",
            "       [  3.,   5.,   7.],\n",
            "       [  6.,   8.,  10.]])\n",
            "\n",
            "The ``+`` operator can be used as a shorthand for ``np.add`` on ndarrays.\n",
            "\n",
            ">>> x1 = np.arange(9.0).reshape((3, 3))\n",
            ">>> x2 = np.arange(3.0)\n",
            ">>> x1 + x2\n",
            "array([[ 0.,  2.,  4.],\n",
            "       [ 3.,  5.,  7.],\n",
            "       [ 6.,  8., 10.]])\n"
          ]
        }
      ],
      "source": [
        "import numpy as np\n",
        "np.info(np.add)"
      ]
    },
    {
      "cell_type": "markdown",
      "id": "fb0edf87",
      "metadata": {
        "id": "fb0edf87"
      },
      "source": [
        "#### 6. Create a null vector of size 10 but the fifth value which is 1 (★☆☆)"
      ]
    },
    {
      "cell_type": "code",
      "execution_count": null,
      "id": "5b8c3d98",
      "metadata": {
        "colab": {
          "base_uri": "https://localhost:8080/"
        },
        "id": "5b8c3d98",
        "outputId": "4c3f1d6d-94ea-4286-aa2f-87bfa02dd85d"
      },
      "outputs": [
        {
          "output_type": "stream",
          "name": "stdout",
          "text": [
            "[0. 0. 0. 0. 1. 0. 0. 0. 0. 0.]\n"
          ]
        }
      ],
      "source": [
        "import numpy as np\n",
        "null_vector=np.zeros(10)\n",
        "null_vector[4]=1\n",
        "print(null_vector)"
      ]
    },
    {
      "cell_type": "markdown",
      "id": "6aedaa04",
      "metadata": {
        "id": "6aedaa04"
      },
      "source": [
        "#### 7. Create a vector with values ranging from 10 to 49 (★☆☆)"
      ]
    },
    {
      "cell_type": "code",
      "execution_count": null,
      "id": "399d0f91",
      "metadata": {
        "colab": {
          "base_uri": "https://localhost:8080/"
        },
        "id": "399d0f91",
        "outputId": "9046f087-a4e7-4deb-c39e-eeeb3165dbe1"
      },
      "outputs": [
        {
          "output_type": "stream",
          "name": "stdout",
          "text": [
            "[10 11 12 13 14 15 16 17 18 19 20 21 22 23 24 25 26 27 28 29 30 31 32 33\n",
            " 34 35 36 37 38 39 40 41 42 43 44 45 46 47 48 49]\n"
          ]
        }
      ],
      "source": [
        "import numpy as np\n",
        "array=np.arange(10,50)\n",
        "print(array)"
      ]
    },
    {
      "cell_type": "markdown",
      "id": "c05183de",
      "metadata": {
        "id": "c05183de"
      },
      "source": [
        "#### 8. Reverse a vector (first element becomes last) (★☆☆)"
      ]
    },
    {
      "cell_type": "code",
      "execution_count": null,
      "id": "beb3ed87",
      "metadata": {
        "colab": {
          "base_uri": "https://localhost:8080/"
        },
        "id": "beb3ed87",
        "outputId": "7a1cf96e-2f01-435b-f1bc-dc690aec7f9b"
      },
      "outputs": [
        {
          "output_type": "stream",
          "name": "stdout",
          "text": [
            "[0 1 2 3 4 5 6 7 8 9]\n"
          ]
        }
      ],
      "source": [
        "import numpy as np\n",
        "vector=np.arange(10)\n",
        "sorted_vector=vector[::-1]\n",
        "print(sorted_vector)"
      ]
    },
    {
      "cell_type": "markdown",
      "id": "49ffe24b",
      "metadata": {
        "id": "49ffe24b"
      },
      "source": [
        "#### 9. Create a 3x3 matrix with values ranging from 0 to 8 (★☆☆)"
      ]
    },
    {
      "cell_type": "code",
      "execution_count": null,
      "id": "6bcbb69c",
      "metadata": {
        "colab": {
          "base_uri": "https://localhost:8080/"
        },
        "id": "6bcbb69c",
        "outputId": "9916d6e8-9447-406a-ab76-df32c86c0f88"
      },
      "outputs": [
        {
          "output_type": "execute_result",
          "data": {
            "text/plain": [
              "array([[0, 1, 2],\n",
              "       [3, 4, 5],\n",
              "       [6, 7, 8]])"
            ]
          },
          "metadata": {},
          "execution_count": 16
        }
      ],
      "source": [
        "matrix=np.arange(9)\n",
        "matrix.reshape(3,3)\n"
      ]
    },
    {
      "cell_type": "markdown",
      "id": "d74c5259",
      "metadata": {
        "id": "d74c5259"
      },
      "source": [
        "#### 10. Find indices of non-zero elements from [1,2,0,0,4,0] (★☆☆)"
      ]
    },
    {
      "cell_type": "code",
      "execution_count": null,
      "id": "5a70a7b4",
      "metadata": {
        "colab": {
          "base_uri": "https://localhost:8080/"
        },
        "id": "5a70a7b4",
        "outputId": "6a872422-f655-4e1b-9d2c-7ac2eb104986"
      },
      "outputs": [
        {
          "output_type": "execute_result",
          "data": {
            "text/plain": [
              "(array([0, 1, 4]),)"
            ]
          },
          "metadata": {},
          "execution_count": 17
        }
      ],
      "source": [
        "array=([1,2,0,0,4,0])\n",
        "np.nonzero(array)"
      ]
    },
    {
      "cell_type": "markdown",
      "id": "8a986270",
      "metadata": {
        "id": "8a986270"
      },
      "source": [
        "#### 11. Create a 3x3 identity matrix (★☆☆)"
      ]
    },
    {
      "cell_type": "code",
      "execution_count": null,
      "id": "c681b2ae",
      "metadata": {
        "colab": {
          "base_uri": "https://localhost:8080/"
        },
        "id": "c681b2ae",
        "outputId": "79c13179-7958-418c-e189-20884d1a4d00"
      },
      "outputs": [
        {
          "output_type": "stream",
          "name": "stdout",
          "text": [
            "[[1. 0. 0.]\n",
            " [0. 1. 0.]\n",
            " [0. 0. 1.]]\n"
          ]
        }
      ],
      "source": [
        "identity_matrix=np.eye(3)\n",
        "print(identity_matrix)"
      ]
    },
    {
      "cell_type": "markdown",
      "id": "b024a4bf",
      "metadata": {
        "id": "b024a4bf"
      },
      "source": [
        "#### 12. Create a 3x3x3 array with random values (★☆☆)"
      ]
    },
    {
      "cell_type": "code",
      "execution_count": null,
      "id": "e7b54796",
      "metadata": {
        "colab": {
          "base_uri": "https://localhost:8080/"
        },
        "id": "e7b54796",
        "outputId": "834ee929-d349-4273-8f61-13c9a0e7acff"
      },
      "outputs": [
        {
          "output_type": "stream",
          "name": "stdout",
          "text": [
            "[[[0.13314281 0.43309583 0.73642103]\n",
            "  [0.99879993 0.82472369 0.83531686]\n",
            "  [0.4703369  0.74656373 0.65454463]]\n",
            "\n",
            " [[0.70746397 0.35922732 0.2315124 ]\n",
            "  [0.33632407 0.37351115 0.49952836]\n",
            "  [0.80995972 0.69008935 0.36852873]]\n",
            "\n",
            " [[0.86017268 0.28501265 0.92464746]\n",
            "  [0.41963283 0.34108048 0.1900916 ]\n",
            "  [0.30436978 0.79055179 0.53379822]]]\n"
          ]
        }
      ],
      "source": [
        "array=np.random.rand(3,3,3)\n",
        "print(array)"
      ]
    },
    {
      "cell_type": "markdown",
      "id": "629c0620",
      "metadata": {
        "id": "629c0620"
      },
      "source": [
        "#### 13. Create a 10x10 array with random values and find the minimum and maximum values (★☆☆)"
      ]
    },
    {
      "cell_type": "code",
      "execution_count": null,
      "id": "0f12525b",
      "metadata": {
        "colab": {
          "base_uri": "https://localhost:8080/"
        },
        "id": "0f12525b",
        "outputId": "1b02f814-a9d3-46f5-81de-500e30acb14c"
      },
      "outputs": [
        {
          "output_type": "stream",
          "name": "stdout",
          "text": [
            "[[0.39031346 0.18176148 0.43717973 0.91066134 0.43982544 0.07679665\n",
            "  0.36034209 0.98540337 0.77825338 0.94581104]\n",
            " [0.03016924 0.96959778 0.00863489 0.57236463 0.99231549 0.64806745\n",
            "  0.49277321 0.5824721  0.77782125 0.91681002]\n",
            " [0.70753182 0.81996344 0.03739883 0.95933485 0.54335864 0.13695871\n",
            "  0.64034428 0.56416978 0.96321041 0.66797489]\n",
            " [0.18503973 0.24100781 0.71281027 0.60169877 0.2458622  0.45672312\n",
            "  0.49801621 0.17936236 0.92150417 0.00938824]\n",
            " [0.40480514 0.77697814 0.95458347 0.65673746 0.76540057 0.85734516\n",
            "  0.66760143 0.06100852 0.16395612 0.20122888]\n",
            " [0.85575443 0.60089617 0.09939684 0.75294989 0.45848422 0.58089145\n",
            "  0.3525659  0.48272007 0.40307908 0.27540904]\n",
            " [0.84247862 0.09799173 0.63935893 0.05363131 0.76144411 0.48570507\n",
            "  0.02662626 0.44790336 0.84091193 0.36694906]\n",
            " [0.4008385  0.59744177 0.43829083 0.63295267 0.80498859 0.28241394\n",
            "  0.48488207 0.51304236 0.39493705 0.69694497]\n",
            " [0.76858281 0.85879153 0.37800335 0.41170834 0.32355184 0.24077859\n",
            "  0.42739837 0.99893558 0.77251625 0.39735703]\n",
            " [0.34478784 0.18225632 0.81095871 0.5258829  0.91078765 0.89429672\n",
            "  0.76440858 0.87275992 0.27843475 0.54596368]]\n",
            "maximum value: 0.9989355832659002\n",
            "minimum value: 0.008634888321475076\n"
          ]
        }
      ],
      "source": [
        "array=np.random.rand(10,10)\n",
        "print(array)\n",
        "print('maximum value:',np.max(array))\n",
        "print('minimum value:',np.min(array))"
      ]
    },
    {
      "cell_type": "markdown",
      "id": "25f9f091",
      "metadata": {
        "id": "25f9f091"
      },
      "source": [
        "#### 14. Create a random vector of size 30 and find the mean value (★☆☆)"
      ]
    },
    {
      "cell_type": "code",
      "execution_count": null,
      "id": "03dce2ff",
      "metadata": {
        "colab": {
          "base_uri": "https://localhost:8080/"
        },
        "id": "03dce2ff",
        "outputId": "c796f01c-e1b0-49a6-d44c-5c9419ef5d20"
      },
      "outputs": [
        {
          "output_type": "stream",
          "name": "stdout",
          "text": [
            "[ 0  1  2  3  4  5  6  7  8  9 10 11 12 13 14 15 16 17 18 19 20 21 22 23\n",
            " 24 25 26 27 28 29]\n",
            "mean value: 14.5\n"
          ]
        }
      ],
      "source": [
        "ran_vector=np.arange(30)\n",
        "print(ran_vector)\n",
        "print('mean value:',np.mean(ran_vector))"
      ]
    },
    {
      "cell_type": "markdown",
      "id": "9c4ac621",
      "metadata": {
        "id": "9c4ac621"
      },
      "source": [
        "#### 15. Create a 2d array with 1 on the border and 0 inside (★☆☆)"
      ]
    },
    {
      "cell_type": "code",
      "execution_count": null,
      "id": "0a811a3b",
      "metadata": {
        "colab": {
          "base_uri": "https://localhost:8080/"
        },
        "id": "0a811a3b",
        "outputId": "91f300b5-fd1e-425b-c8c7-407312c2cd64"
      },
      "outputs": [
        {
          "output_type": "stream",
          "name": "stdout",
          "text": [
            "[[1 1 1 1 1]\n",
            " [1 0 0 0 1]\n",
            " [1 0 0 0 1]\n",
            " [1 0 0 0 1]\n",
            " [1 1 1 1 1]]\n"
          ]
        }
      ],
      "source": [
        "import numpy as np\n",
        "\n",
        "import numpy as np\n",
        "\n",
        "# inner zeros (3x3), border of 1's added\n",
        "array = np.pad(np.zeros((3,3), dtype=int), pad_width=1, mode='constant', constant_values=1)\n",
        "print(array)\n"
      ]
    },
    {
      "cell_type": "markdown",
      "id": "c0110caf",
      "metadata": {
        "id": "c0110caf"
      },
      "source": [
        "#### 16. How to add a border (filled with 0's) around an existing array? (★☆☆)"
      ]
    },
    {
      "cell_type": "code",
      "execution_count": null,
      "id": "5e461b43",
      "metadata": {
        "colab": {
          "base_uri": "https://localhost:8080/"
        },
        "id": "5e461b43",
        "outputId": "0f8714e7-ed7a-4b4e-af01-885a47eff33e"
      },
      "outputs": [
        {
          "output_type": "stream",
          "name": "stdout",
          "text": [
            "[[0. 0. 0. 0. 0. 0.]\n",
            " [0. 1. 1. 1. 1. 0.]\n",
            " [0. 1. 1. 1. 1. 0.]\n",
            " [0. 1. 1. 1. 1. 0.]\n",
            " [0. 1. 1. 1. 1. 0.]\n",
            " [0. 0. 0. 0. 0. 0.]]\n"
          ]
        }
      ],
      "source": [
        "array=np.ones((4,4))\n",
        "array=np.pad(array,pad_width=1,mode='constant',constant_values=0)\n",
        "print(array)\n"
      ]
    },
    {
      "cell_type": "markdown",
      "id": "c097faee",
      "metadata": {
        "id": "c097faee"
      },
      "source": [
        "#### 17. What is the result of the following expression? (★☆☆)\n",
        "```python\n",
        "0 * np.nan\n",
        "np.nan == np.nan\n",
        "np.inf > np.nan\n",
        "np.nan - np.nan\n",
        "np.nan in set([np.nan])\n",
        "0.3 == 3 * 0.1\n",
        "```"
      ]
    },
    {
      "cell_type": "code",
      "execution_count": null,
      "id": "de307b6d",
      "metadata": {
        "id": "de307b6d"
      },
      "outputs": [],
      "source": [
        "nan\n",
        "false\n",
        "false\n",
        "nan\n",
        "true\n",
        "false"
      ]
    },
    {
      "cell_type": "markdown",
      "id": "7539be84",
      "metadata": {
        "id": "7539be84"
      },
      "source": [
        "#### 18. Create a 5x5 matrix with values 1,2,3,4 just below the diagonal (★☆☆)"
      ]
    },
    {
      "cell_type": "code",
      "execution_count": null,
      "id": "897eeebd",
      "metadata": {
        "colab": {
          "base_uri": "https://localhost:8080/"
        },
        "id": "897eeebd",
        "outputId": "6316774c-841a-4731-dddf-34eaf98a3ac9"
      },
      "outputs": [
        {
          "output_type": "stream",
          "name": "stdout",
          "text": [
            "[[0 0 0 0 0]\n",
            " [1 0 0 0 0]\n",
            " [0 2 0 0 0]\n",
            " [0 0 3 0 0]\n",
            " [0 0 0 4 0]]\n"
          ]
        }
      ],
      "source": [
        "import numpy as np\n",
        "matrix=np.zeros((5,5),dtype=int)\n",
        "matrix=np.diag([1,2,3,4],k=-1)\n",
        "\n",
        "print(matrix)"
      ]
    },
    {
      "cell_type": "markdown",
      "id": "69207418",
      "metadata": {
        "id": "69207418"
      },
      "source": [
        "#### 19. Create a 8x8 matrix and fill it with a checkerboard pattern (★☆☆)"
      ]
    },
    {
      "cell_type": "code",
      "execution_count": null,
      "id": "da9fc94e",
      "metadata": {
        "colab": {
          "base_uri": "https://localhost:8080/"
        },
        "id": "da9fc94e",
        "outputId": "454730ed-990f-4b58-e96c-3cd32b6fee0b"
      },
      "outputs": [
        {
          "output_type": "stream",
          "name": "stdout",
          "text": [
            "[[0 1 0 1 0 1 0 1]\n",
            " [1 0 1 0 1 0 1 0]\n",
            " [0 1 0 1 0 1 0 1]\n",
            " [1 0 1 0 1 0 1 0]\n",
            " [0 1 0 1 0 1 0 1]\n",
            " [1 0 1 0 1 0 1 0]\n",
            " [0 1 0 1 0 1 0 1]\n",
            " [1 0 1 0 1 0 1 0]]\n"
          ]
        }
      ],
      "source": [
        "import numpy as np\n",
        "matrix=np.zeros((8,8),dtype=int)\n",
        "matrix[1::2,::2]=1\n",
        "matrix[::2,1::2]=1\n",
        "print(matrix)"
      ]
    },
    {
      "cell_type": "markdown",
      "id": "aeb836d2",
      "metadata": {
        "id": "aeb836d2"
      },
      "source": [
        "#### 20. Consider a (6,7,8) shape array, what is the index (x,y,z) of the 100th element? (★☆☆)"
      ]
    },
    {
      "cell_type": "code",
      "execution_count": null,
      "id": "c026c791",
      "metadata": {
        "colab": {
          "base_uri": "https://localhost:8080/"
        },
        "id": "c026c791",
        "outputId": "4b80ae80-4d28-4792-9681-a102ab488648"
      },
      "outputs": [
        {
          "output_type": "stream",
          "name": "stdout",
          "text": [
            "[[[  0   1   2   3   4   5   6   7]\n",
            "  [  8   9  10  11  12  13  14  15]\n",
            "  [ 16  17  18  19  20  21  22  23]\n",
            "  [ 24  25  26  27  28  29  30  31]\n",
            "  [ 32  33  34  35  36  37  38  39]\n",
            "  [ 40  41  42  43  44  45  46  47]\n",
            "  [ 48  49  50  51  52  53  54  55]]\n",
            "\n",
            " [[ 56  57  58  59  60  61  62  63]\n",
            "  [ 64  65  66  67  68  69  70  71]\n",
            "  [ 72  73  74  75  76  77  78  79]\n",
            "  [ 80  81  82  83  84  85  86  87]\n",
            "  [ 88  89  90  91  92  93  94  95]\n",
            "  [ 96  97  98  99 100 101 102 103]\n",
            "  [104 105 106 107 108 109 110 111]]\n",
            "\n",
            " [[112 113 114 115 116 117 118 119]\n",
            "  [120 121 122 123 124 125 126 127]\n",
            "  [128 129 130 131 132 133 134 135]\n",
            "  [136 137 138 139 140 141 142 143]\n",
            "  [144 145 146 147 148 149 150 151]\n",
            "  [152 153 154 155 156 157 158 159]\n",
            "  [160 161 162 163 164 165 166 167]]\n",
            "\n",
            " [[168 169 170 171 172 173 174 175]\n",
            "  [176 177 178 179 180 181 182 183]\n",
            "  [184 185 186 187 188 189 190 191]\n",
            "  [192 193 194 195 196 197 198 199]\n",
            "  [200 201 202 203 204 205 206 207]\n",
            "  [208 209 210 211 212 213 214 215]\n",
            "  [216 217 218 219 220 221 222 223]]\n",
            "\n",
            " [[224 225 226 227 228 229 230 231]\n",
            "  [232 233 234 235 236 237 238 239]\n",
            "  [240 241 242 243 244 245 246 247]\n",
            "  [248 249 250 251 252 253 254 255]\n",
            "  [256 257 258 259 260 261 262 263]\n",
            "  [264 265 266 267 268 269 270 271]\n",
            "  [272 273 274 275 276 277 278 279]]\n",
            "\n",
            " [[280 281 282 283 284 285 286 287]\n",
            "  [288 289 290 291 292 293 294 295]\n",
            "  [296 297 298 299 300 301 302 303]\n",
            "  [304 305 306 307 308 309 310 311]\n",
            "  [312 313 314 315 316 317 318 319]\n",
            "  [320 321 322 323 324 325 326 327]\n",
            "  [328 329 330 331 332 333 334 335]]]\n",
            "(np.int64(1), np.int64(5), np.int64(3))\n"
          ]
        }
      ],
      "source": [
        "array=np.arange(336).reshape(6,7,8)\n",
        "print(array)\n",
        "print(np.unravel_index(99,(6,7,8)))"
      ]
    },
    {
      "cell_type": "markdown",
      "id": "9aef01d6",
      "metadata": {
        "id": "9aef01d6"
      },
      "source": [
        "#### 21. Create a checkerboard 8x8 matrix using the tile function (★☆☆)"
      ]
    },
    {
      "cell_type": "code",
      "execution_count": null,
      "id": "1cdf747e",
      "metadata": {
        "colab": {
          "base_uri": "https://localhost:8080/"
        },
        "id": "1cdf747e",
        "outputId": "4404f991-31cb-4a83-9753-c1187029ecbf"
      },
      "outputs": [
        {
          "output_type": "stream",
          "name": "stdout",
          "text": [
            "[[0 1 0 1 0 1 0 1]\n",
            " [1 0 1 0 1 0 1 0]\n",
            " [0 1 0 1 0 1 0 1]\n",
            " [1 0 1 0 1 0 1 0]\n",
            " [0 1 0 1 0 1 0 1]\n",
            " [1 0 1 0 1 0 1 0]\n",
            " [0 1 0 1 0 1 0 1]\n",
            " [1 0 1 0 1 0 1 0]]\n"
          ]
        }
      ],
      "source": [
        "matrix=np.array([[0,1],[1,0]])\n",
        "matrix=np.tile(matrix,(4,4))\n",
        "print(matrix)"
      ]
    },
    {
      "cell_type": "markdown",
      "id": "931830f8",
      "metadata": {
        "id": "931830f8"
      },
      "source": [
        "#### 22. Normalize a 5x5 random matrix (★☆☆)"
      ]
    },
    {
      "cell_type": "code",
      "execution_count": null,
      "id": "1d081cd3",
      "metadata": {
        "colab": {
          "base_uri": "https://localhost:8080/"
        },
        "id": "1d081cd3",
        "outputId": "976bc057-0869-4e3b-9e6f-ad397db4bbe4"
      },
      "outputs": [
        {
          "output_type": "stream",
          "name": "stdout",
          "text": [
            "[[ 0.13903814  0.56574227  0.58151941 -1.92724121  0.24822454]\n",
            " [ 0.33231466 -0.84237202  1.09077819 -1.09005089 -0.99481837]\n",
            " [ 1.07735216 -0.92091129 -0.60330924  1.21534422 -0.30832914]\n",
            " [ 0.24228537  1.37294219  1.30274202 -1.13113508  0.55959402]\n",
            " [ 1.33677565 -0.99870236  1.08309002 -1.66873986 -0.66213339]]\n"
          ]
        }
      ],
      "source": [
        "matrix=np.random.rand(5,5)\n",
        "matrix=(matrix-np.mean(matrix))/np.std(matrix)\n",
        "print(matrix)"
      ]
    },
    {
      "cell_type": "markdown",
      "id": "5f3b5379",
      "metadata": {
        "id": "5f3b5379"
      },
      "source": [
        "#### 23. Create a custom dtype that describes a color as four unsigned bytes (RGBA) (★☆☆)"
      ]
    },
    {
      "cell_type": "code",
      "execution_count": null,
      "id": "56847b08",
      "metadata": {
        "colab": {
          "base_uri": "https://localhost:8080/"
        },
        "id": "56847b08",
        "outputId": "725b8faf-6589-4738-aa56-6810f9e99a5c"
      },
      "outputs": [
        {
          "output_type": "stream",
          "name": "stdout",
          "text": [
            "[('red', 'u1'), ('green', 'u1'), ('blue', 'u1'), ('alpha', 'u1')]\n"
          ]
        }
      ],
      "source": [
        "unsigned_bytes=np.dtype([('red',np.uint8),('green',np.uint8),('blue',np.uint8),('alpha',np.uint8)])\n",
        "print(unsigned_bytes)"
      ]
    },
    {
      "cell_type": "markdown",
      "id": "27294dd6",
      "metadata": {
        "id": "27294dd6"
      },
      "source": [
        "#### 24. Multiply a 5x3 matrix by a 3x2 matrix (real matrix product) (★☆☆)"
      ]
    },
    {
      "cell_type": "code",
      "execution_count": null,
      "id": "5b219d77",
      "metadata": {
        "colab": {
          "base_uri": "https://localhost:8080/"
        },
        "id": "5b219d77",
        "outputId": "1b2bc30b-74b7-4eef-c849-87c0c5fb09d1"
      },
      "outputs": [
        {
          "output_type": "stream",
          "name": "stdout",
          "text": [
            "[[ 10  13]\n",
            " [ 28  40]\n",
            " [ 46  67]\n",
            " [ 64  94]\n",
            " [ 82 121]]\n"
          ]
        }
      ],
      "source": [
        "matrix1=np.arange(15).reshape(5,3)\n",
        "matrix2=np.arange(6).reshape(3,2)\n",
        "print(matrix1@matrix2)"
      ]
    },
    {
      "cell_type": "markdown",
      "id": "57a463f5",
      "metadata": {
        "id": "57a463f5"
      },
      "source": [
        "#### 25. Given a 1D array, negate all elements which are between 3 and 8, in place. (★☆☆)"
      ]
    },
    {
      "cell_type": "code",
      "source": [
        "import numpy as np\n",
        "array=np.arange(10)\n",
        "array[(array>3)&(array<8)]*=-1\n",
        "print(array)"
      ],
      "metadata": {
        "colab": {
          "base_uri": "https://localhost:8080/"
        },
        "id": "3gUclDNr6cZz",
        "outputId": "89d4f9b6-151c-402a-b485-31e5e1c1786c"
      },
      "id": "3gUclDNr6cZz",
      "execution_count": null,
      "outputs": [
        {
          "output_type": "stream",
          "name": "stdout",
          "text": [
            "[ 0  1  2  3 -4 -5 -6 -7  8  9]\n"
          ]
        }
      ]
    },
    {
      "cell_type": "markdown",
      "id": "4ec37bca",
      "metadata": {
        "id": "4ec37bca"
      },
      "source": [
        "#### 26. What is the output of the following script? (★☆☆)\n",
        "```python\n",
        "# Author: Jake VanderPlas\n",
        "\n",
        "print(sum(range(5),-1))\n",
        "from numpy import *\n",
        "print(sum(range(5),-1))\n",
        "```"
      ]
    },
    {
      "cell_type": "code",
      "execution_count": null,
      "id": "ae0f3d30",
      "metadata": {
        "colab": {
          "base_uri": "https://localhost:8080/"
        },
        "id": "ae0f3d30",
        "outputId": "cc474f33-bde2-4f76-da80-fe53cd73884b"
      },
      "outputs": [
        {
          "output_type": "stream",
          "name": "stdout",
          "text": [
            "0\n",
            "1\n",
            "2\n",
            "3\n",
            "4\n",
            "9\n",
            "10\n"
          ]
        }
      ],
      "source": [
        "9\n",
        "10"
      ]
    },
    {
      "cell_type": "markdown",
      "id": "fb875416",
      "metadata": {
        "id": "fb875416"
      },
      "source": [
        "#### 27. Consider an integer vector Z, which of these expressions are legal? (★☆☆)\n",
        "```python\n",
        "Z**Z\n",
        "2 << Z >> 2\n",
        "Z <- Z\n",
        "1j*Z\n",
        "Z/1/1\n",
        "Z<Z>Z\n",
        "```"
      ]
    },
    {
      "cell_type": "code",
      "execution_count": null,
      "id": "0b516d7c",
      "metadata": {
        "id": "0b516d7c"
      },
      "outputs": [],
      "source": [
        "legal\n",
        "legal\n",
        "legal\n",
        "legal\n",
        "legal\n",
        "illegal"
      ]
    },
    {
      "cell_type": "markdown",
      "id": "3322bcc4",
      "metadata": {
        "id": "3322bcc4"
      },
      "source": [
        "#### 28. What are the result of the following expressions? (★☆☆)\n",
        "```python\n",
        "np.array(0) / np.array(0)\n",
        "np.array(0) // np.array(0)\n",
        "np.array([np.nan]).astype(int).astype(float)\n",
        "```"
      ]
    },
    {
      "cell_type": "code",
      "execution_count": null,
      "id": "68a40ed3",
      "metadata": {
        "id": "68a40ed3"
      },
      "outputs": [],
      "source": [
        "nan (with RuntimeWarning)\n",
        "\tZeroDivisionError\n",
        "array([-9.22337204e+18]) (with warning)"
      ]
    },
    {
      "cell_type": "markdown",
      "id": "e85dae57",
      "metadata": {
        "id": "e85dae57"
      },
      "source": [
        "#### 29. How to round away from zero a float array ? (★☆☆)"
      ]
    },
    {
      "cell_type": "code",
      "execution_count": null,
      "id": "8981d8e2",
      "metadata": {
        "colab": {
          "base_uri": "https://localhost:8080/"
        },
        "id": "8981d8e2",
        "outputId": "059b05cb-9fa3-4648-e160-846121c0e26b"
      },
      "outputs": [
        {
          "output_type": "stream",
          "name": "stdout",
          "text": [
            "[ 2. -2.  4. -4.  0.]\n"
          ]
        }
      ],
      "source": [
        "import numpy as np\n",
        "\n",
        "arr = np.array([1.2, -1.2, 3.7, -3.7, 0.0])\n",
        "rounded = np.ceil(np.abs(arr)) * np.sign(arr)\n",
        "print(rounded)\n"
      ]
    },
    {
      "cell_type": "markdown",
      "id": "3d78851a",
      "metadata": {
        "id": "3d78851a"
      },
      "source": [
        "#### 30. How to find common values between two arrays? (★☆☆)"
      ]
    },
    {
      "cell_type": "code",
      "execution_count": null,
      "id": "ca4b0788",
      "metadata": {
        "colab": {
          "base_uri": "https://localhost:8080/"
        },
        "id": "ca4b0788",
        "outputId": "32013592-e475-418a-e46a-8edebd5abdc9"
      },
      "outputs": [
        {
          "output_type": "stream",
          "name": "stdout",
          "text": [
            "[3 4 5]\n"
          ]
        }
      ],
      "source": [
        "arr=np.array([1,2,3,4,5])\n",
        "arr2=np.array([3,4,5,6,7])\n",
        "print(np.intersect1d(arr,arr2))"
      ]
    },
    {
      "cell_type": "markdown",
      "id": "535563a3",
      "metadata": {
        "id": "535563a3"
      },
      "source": [
        "#### 31. How to ignore all numpy warnings (not recommended)? (★☆☆)"
      ]
    },
    {
      "cell_type": "code",
      "execution_count": null,
      "id": "b1884a9f",
      "metadata": {
        "id": "b1884a9f"
      },
      "outputs": [],
      "source": []
    },
    {
      "cell_type": "markdown",
      "id": "9ff18333",
      "metadata": {
        "id": "9ff18333"
      },
      "source": [
        "#### 32. Is the following expressions true? (★☆☆)\n",
        "```python\n",
        "np.sqrt(-1) == np.emath.sqrt(-1)\n",
        "```"
      ]
    },
    {
      "cell_type": "code",
      "execution_count": null,
      "id": "b47e3ad5",
      "metadata": {
        "colab": {
          "base_uri": "https://localhost:8080/"
        },
        "id": "b47e3ad5",
        "outputId": "15e9292e-eb2e-4856-836b-e38a19d4eed1"
      },
      "outputs": [
        {
          "output_type": "stream",
          "name": "stdout",
          "text": [
            "False\n"
          ]
        },
        {
          "output_type": "stream",
          "name": "stderr",
          "text": [
            "/tmp/ipython-input-3053658764.py:2: RuntimeWarning: invalid value encountered in sqrt\n",
            "  print(np.sqrt(-1) == np.emath.sqrt(-1))\n"
          ]
        }
      ],
      "source": [
        "import numpy as np\n",
        "print(np.sqrt(-1) == np.emath.sqrt(-1))\n",
        "##false"
      ]
    },
    {
      "cell_type": "markdown",
      "id": "94dfbdcb",
      "metadata": {
        "id": "94dfbdcb"
      },
      "source": [
        "#### 33. How to get the dates of yesterday, today and tomorrow? (★☆☆)"
      ]
    },
    {
      "cell_type": "code",
      "execution_count": null,
      "id": "3f686831",
      "metadata": {
        "colab": {
          "base_uri": "https://localhost:8080/"
        },
        "id": "3f686831",
        "outputId": "e2b30719-9d68-4e3c-d719-95aa53252148"
      },
      "outputs": [
        {
          "output_type": "stream",
          "name": "stdout",
          "text": [
            "2025-08-16\n",
            "2025-08-17\n",
            "2025-08-18\n"
          ]
        }
      ],
      "source": [
        "import numpy as np\n",
        "yesterday=np.datetime64('today','D')-np.timedelta64(1,'D')\n",
        "today=np.datetime64('today','D')\n",
        "tomorrow=np.datetime64('today','D')+np.timedelta64(1,'D')\n",
        "print(yesterday)\n",
        "print(today)\n",
        "print(tomorrow)"
      ]
    },
    {
      "cell_type": "markdown",
      "id": "eb1816a2",
      "metadata": {
        "id": "eb1816a2"
      },
      "source": [
        "#### 34. How to get all the dates corresponding to the month of July 2016? (★★☆)"
      ]
    },
    {
      "cell_type": "code",
      "execution_count": null,
      "id": "963239fb",
      "metadata": {
        "colab": {
          "base_uri": "https://localhost:8080/"
        },
        "id": "963239fb",
        "outputId": "9a54d3cd-04a9-4bdc-e23f-b8874a604475"
      },
      "outputs": [
        {
          "output_type": "stream",
          "name": "stdout",
          "text": [
            "['2016-07-01' '2016-07-02' '2016-07-03' '2016-07-04' '2016-07-05'\n",
            " '2016-07-06' '2016-07-07' '2016-07-08' '2016-07-09' '2016-07-10'\n",
            " '2016-07-11' '2016-07-12' '2016-07-13' '2016-07-14' '2016-07-15'\n",
            " '2016-07-16' '2016-07-17' '2016-07-18' '2016-07-19' '2016-07-20'\n",
            " '2016-07-21' '2016-07-22' '2016-07-23' '2016-07-24' '2016-07-25'\n",
            " '2016-07-26' '2016-07-27' '2016-07-28' '2016-07-29' '2016-07-30'\n",
            " '2016-07-31']\n"
          ]
        }
      ],
      "source": [
        "import numpy as np\n",
        "dates_july=np.arange('2016-07','2016-08',dtype='datetime64[D]')\n",
        "print(dates_july)"
      ]
    },
    {
      "cell_type": "markdown",
      "id": "9174632a",
      "metadata": {
        "id": "9174632a"
      },
      "source": [
        "#### 35. How to compute ((A+B)*(-A/2)) in place (without copy)? (★★☆)"
      ]
    },
    {
      "cell_type": "code",
      "execution_count": null,
      "id": "660f5868",
      "metadata": {
        "colab": {
          "base_uri": "https://localhost:8080/"
        },
        "id": "660f5868",
        "outputId": "61d83509-c6b0-4fba-8de5-0ae1b4ef6248"
      },
      "outputs": [
        {
          "output_type": "stream",
          "name": "stdout",
          "text": [
            "[ -5 -14 -27]\n"
          ]
        }
      ],
      "source": [
        "import numpy as np\n",
        "A=np.array([1,2,3])\n",
        "B=np.array([4,5,6])\n",
        "np.add(A,B,out=B)\n",
        "# np.divide(A,2,out=A)\n",
        "np.negative(A,out=A)\n",
        "np.multiply(A,B,out=A)\n",
        "print(A)"
      ]
    },
    {
      "cell_type": "markdown",
      "id": "b6b4504d",
      "metadata": {
        "id": "b6b4504d"
      },
      "source": [
        "#### 36. Extract the integer part of a random array of positive numbers using 4 different methods (★★☆)"
      ]
    },
    {
      "cell_type": "code",
      "execution_count": null,
      "id": "a125254d",
      "metadata": {
        "colab": {
          "base_uri": "https://localhost:8080/"
        },
        "id": "a125254d",
        "outputId": "bcf8df72-7d23-41c1-f39b-2d3a579405c1"
      },
      "outputs": [
        {
          "output_type": "stream",
          "name": "stdout",
          "text": [
            "[5.00298003 7.21124871 2.69975408 6.76432129]\n",
            "[5. 7. 2. 6.]\n",
            "[5. 7. 2. 6.]\n",
            "[5. 7. 2. 6.]\n",
            "[5 7 2 6]\n",
            "[5 7 2 6]\n",
            "[5. 7. 2. 6.]\n"
          ]
        }
      ],
      "source": [
        "import numpy as np\n",
        "arr=np.random.rand(4)*10\n",
        "print(arr)\n",
        "print(arr-arr%1)\n",
        "print(np.floor(arr))\n",
        "print(np.ceil(arr)-1)\n",
        "print(arr.astype(int))\n",
        "print(arr.astype(int))\n",
        "print(arr//1)"
      ]
    },
    {
      "cell_type": "markdown",
      "id": "dcd769b0",
      "metadata": {
        "id": "dcd769b0"
      },
      "source": [
        "#### 37. Create a 5x5 matrix with row values ranging from 0 to 4 (★★☆)"
      ]
    },
    {
      "cell_type": "code",
      "execution_count": null,
      "id": "6e5f39c8",
      "metadata": {
        "colab": {
          "base_uri": "https://localhost:8080/"
        },
        "id": "6e5f39c8",
        "outputId": "28b38a80-5491-49b5-9824-fdb87e0a5a3d"
      },
      "outputs": [
        {
          "output_type": "stream",
          "name": "stdout",
          "text": [
            "[[0. 1. 2. 3. 4.]\n",
            " [0. 1. 2. 3. 4.]\n",
            " [0. 1. 2. 3. 4.]\n",
            " [0. 1. 2. 3. 4.]\n",
            " [0. 1. 2. 3. 4.]]\n"
          ]
        }
      ],
      "source": [
        "matrix=np.zeros((5,5))\n",
        "matrix+=np.arange(5)\n",
        "print(matrix)"
      ]
    },
    {
      "cell_type": "markdown",
      "id": "83642768",
      "metadata": {
        "id": "83642768"
      },
      "source": [
        "#### 38. Consider a generator function that generates 10 integers and use it to build an array (★☆☆)"
      ]
    },
    {
      "cell_type": "code",
      "execution_count": null,
      "id": "a24bdb56",
      "metadata": {
        "colab": {
          "base_uri": "https://localhost:8080/"
        },
        "id": "a24bdb56",
        "outputId": "0bc5e32b-7436-4557-aa73-1aa7aa4cc31b"
      },
      "outputs": [
        {
          "output_type": "stream",
          "name": "stdout",
          "text": [
            "[0 1 2 3 4 5 6 7 8 9]\n"
          ]
        }
      ],
      "source": [
        "generator=(i for i in range(10))\n",
        "array=np.fromiter(generator,dtype=int)\n",
        "print(array)"
      ]
    },
    {
      "cell_type": "markdown",
      "id": "8ab76708",
      "metadata": {
        "id": "8ab76708"
      },
      "source": [
        "#### 39. Create a vector of size 10 with values ranging from 0 to 1, both excluded (★★☆)"
      ]
    },
    {
      "cell_type": "code",
      "execution_count": null,
      "id": "2b66dc48",
      "metadata": {
        "colab": {
          "base_uri": "https://localhost:8080/"
        },
        "id": "2b66dc48",
        "outputId": "5cd486e1-fb0e-4aa0-b564-1a4035ecaf12"
      },
      "outputs": [
        {
          "output_type": "stream",
          "name": "stdout",
          "text": [
            "[0.09090909 0.18181818 0.27272727 0.36363636 0.45454545 0.54545455\n",
            " 0.63636364 0.72727273 0.81818182 0.90909091]\n"
          ]
        }
      ],
      "source": [
        "import numpy as np\n",
        "vector=np.linspace(0,1,12,endpoint=True)[1:-1]\n",
        "print(vector)"
      ]
    },
    {
      "cell_type": "markdown",
      "id": "a77ffeff",
      "metadata": {
        "id": "a77ffeff"
      },
      "source": [
        "#### 40. Create a random vector of size 10 and sort it (★★☆)"
      ]
    },
    {
      "cell_type": "code",
      "execution_count": null,
      "id": "4bd4613d",
      "metadata": {
        "colab": {
          "base_uri": "https://localhost:8080/"
        },
        "id": "4bd4613d",
        "outputId": "667b5eeb-cf60-498c-a81c-e5c3898f310f"
      },
      "outputs": [
        {
          "output_type": "stream",
          "name": "stdout",
          "text": [
            "[0.40251976 0.40275754 0.48047748 0.51222725 0.55186799 0.70156008\n",
            " 0.70646916 0.78653258 0.85103584 0.98805924]\n"
          ]
        }
      ],
      "source": [
        "arr=np.random.rand(10)\n",
        "arr.sort()\n",
        "print(arr)"
      ]
    },
    {
      "cell_type": "markdown",
      "id": "0f131622",
      "metadata": {
        "id": "0f131622"
      },
      "source": [
        "#### 41. How to sum a small array faster than np.sum? (★★☆)"
      ]
    },
    {
      "cell_type": "code",
      "execution_count": null,
      "id": "50006b4f",
      "metadata": {
        "id": "50006b4f"
      },
      "outputs": [],
      "source": [
        "np.add.reduce(arr)"
      ]
    },
    {
      "cell_type": "markdown",
      "id": "0205ef5d",
      "metadata": {
        "id": "0205ef5d"
      },
      "source": [
        "#### 42. Consider two random arrays A and B, check if they are equal (★★☆)"
      ]
    },
    {
      "cell_type": "code",
      "execution_count": null,
      "id": "33df1c36",
      "metadata": {
        "colab": {
          "base_uri": "https://localhost:8080/"
        },
        "id": "33df1c36",
        "outputId": "633bdea0-0268-49fd-b6b0-96970b1bfd89"
      },
      "outputs": [
        {
          "output_type": "stream",
          "name": "stdout",
          "text": [
            "True\n"
          ]
        }
      ],
      "source": [
        "arr1=np.array([1,2,3])\n",
        "arr2=np.array([1,2,3])\n",
        "print(np.array_equal(arr1,arr2))"
      ]
    },
    {
      "cell_type": "markdown",
      "id": "be053e5d",
      "metadata": {
        "id": "be053e5d"
      },
      "source": [
        "#### 43. Make an array immutable (read-only) (★★☆)"
      ]
    },
    {
      "cell_type": "code",
      "execution_count": null,
      "id": "060a0518",
      "metadata": {
        "id": "060a0518"
      },
      "outputs": [],
      "source": [
        "arr=np.array([1,2,3])\n",
        "arr.flags.writeable=False\n",
        "arr[0]=4"
      ]
    },
    {
      "cell_type": "markdown",
      "id": "92732bec",
      "metadata": {
        "id": "92732bec"
      },
      "source": [
        "#### 44. Consider a random 10x2 matrix representing cartesian coordinates, convert them to polar coordinates (★★☆)"
      ]
    },
    {
      "cell_type": "code",
      "execution_count": null,
      "id": "d4f46c96",
      "metadata": {
        "colab": {
          "base_uri": "https://localhost:8080/"
        },
        "id": "d4f46c96",
        "outputId": "afc94077-52e6-405b-9c01-c9d0e7871fca"
      },
      "outputs": [
        {
          "output_type": "stream",
          "name": "stdout",
          "text": [
            "[[0.3087925  0.79804392]\n",
            " [0.65194363 0.1833542 ]\n",
            " [0.07359074 0.22326773]\n",
            " [0.34318329 0.74629952]\n",
            " [0.16694566 0.9777294 ]\n",
            " [0.3694745  0.27651875]\n",
            " [0.28102296 0.58713894]\n",
            " [0.82904599 0.93135829]\n",
            " [0.07999987 0.7331049 ]\n",
            " [0.05154342 0.70682419]]\n",
            "[0.85570258 0.67723649 0.23508313 0.82142422 0.99187985 0.46149109\n",
            " 0.65092706 1.24689435 0.73745696 0.70870103]\n",
            "[1.20160186 0.27416042 1.25240266 1.13978421 1.40167895 0.64248333\n",
            " 1.1243895  0.8434515  1.4621017  1.49800263]\n"
          ]
        }
      ],
      "source": [
        "arr=np.random.rand(10,2)\n",
        "print(arr)\n",
        "x,y=arr[:,0],arr[:,1]\n",
        "r=np.sqrt(x**2+y**2)\n",
        "t=np.arctan2(y,x)\n",
        "print(r)\n",
        "print(t)"
      ]
    },
    {
      "cell_type": "markdown",
      "id": "1f75774a",
      "metadata": {
        "id": "1f75774a"
      },
      "source": [
        "#### 45. Create random vector of size 10 and replace the maximum value by 0 (★★☆)"
      ]
    },
    {
      "cell_type": "code",
      "execution_count": 6,
      "id": "812354bf",
      "metadata": {
        "id": "812354bf",
        "colab": {
          "base_uri": "https://localhost:8080/"
        },
        "outputId": "7e73b19d-b58b-4edd-da95-6d4ef1e55023"
      },
      "outputs": [
        {
          "output_type": "stream",
          "name": "stdout",
          "text": [
            "[0.98479914 0.82695599 0.720148   0.82410697 0.36375989 0.2807897\n",
            " 0.34841141 0.9144216  0.94618354 0.29287063]\n",
            "[0.         0.82695599 0.720148   0.82410697 0.36375989 0.2807897\n",
            " 0.34841141 0.9144216  0.94618354 0.29287063]\n"
          ]
        }
      ],
      "source": [
        "import numpy as np\n",
        "vector=np.random.rand(10)\n",
        "print(vector)\n",
        "vector_max=np.max(vector)\n",
        "vector[vector==vector_max]=0\n",
        "print(vector)"
      ]
    },
    {
      "cell_type": "markdown",
      "id": "ed8431ad",
      "metadata": {
        "id": "ed8431ad"
      },
      "source": [
        "#### 46. Create a structured array with `x` and `y` coordinates covering the [0,1]x[0,1] area (★★☆)"
      ]
    },
    {
      "cell_type": "code",
      "execution_count": null,
      "id": "f0966336",
      "metadata": {
        "id": "f0966336"
      },
      "outputs": [],
      "source": [
        "arr=np.zeros((5,5),[('x',float),('y',float)])\n",
        "arr['x'],arr['y']=np.meshgrid(np.linspace(0,1,5),np.linspace(0,1,5))\n",
        "print(arr)"
      ]
    },
    {
      "cell_type": "markdown",
      "id": "34250c0f",
      "metadata": {
        "id": "34250c0f"
      },
      "source": [
        "#### 47. Given two arrays, X and Y, construct the Cauchy matrix C (Cij =1/(xi - yj)) (★★☆)"
      ]
    },
    {
      "cell_type": "code",
      "execution_count": 9,
      "id": "e8a7ac1a",
      "metadata": {
        "id": "e8a7ac1a",
        "colab": {
          "base_uri": "https://localhost:8080/"
        },
        "outputId": "3eef6884-3b89-40b3-9d84-d8ac9137151e"
      },
      "outputs": [
        {
          "output_type": "stream",
          "name": "stdout",
          "text": [
            "[[-0.33333333 -0.25       -0.2       ]\n",
            " [-0.5        -0.33333333 -0.25      ]\n",
            " [-1.         -0.5        -0.33333333]]\n"
          ]
        }
      ],
      "source": [
        "import numpy as np\n",
        "arrX=np.array([1,2,3])\n",
        "arrY=np.array([4,5,6])\n",
        "cauchy_matrix=1/np.subtract.outer(arrX,arrY)\n",
        "print(cauchy_matrix)"
      ]
    },
    {
      "cell_type": "markdown",
      "id": "5418176b",
      "metadata": {
        "id": "5418176b"
      },
      "source": [
        "#### 48. Print the minimum and maximum representable values for each numpy scalar type (★★☆)"
      ]
    },
    {
      "cell_type": "code",
      "execution_count": 11,
      "id": "ad633154",
      "metadata": {
        "id": "ad633154",
        "colab": {
          "base_uri": "https://localhost:8080/"
        },
        "outputId": "14a0320a-62a4-4e14-bde7-490531233609"
      },
      "outputs": [
        {
          "output_type": "stream",
          "name": "stdout",
          "text": [
            "-128\n",
            "127\n",
            "-2147483648\n",
            "2147483647\n",
            "-9223372036854775808\n",
            "9223372036854775807\n",
            "-3.4028235e+38\n",
            "3.4028235e+38\n",
            "1.1920929e-07\n",
            "-1.7976931348623157e+308\n",
            "1.7976931348623157e+308\n",
            "2.220446049250313e-16\n"
          ]
        }
      ],
      "source": [
        "for dtype in [np.int8, np.int32, np.int64]:\n",
        "   print(np.iinfo(dtype).min)\n",
        "   print(np.iinfo(dtype).max)\n",
        "for dtype in [np.float32, np.float64]:\n",
        "   print(np.finfo(dtype).min)\n",
        "   print(np.finfo(dtype).max)\n",
        "   print(np.finfo(dtype).eps)\n"
      ]
    },
    {
      "cell_type": "markdown",
      "id": "1d868ac4",
      "metadata": {
        "id": "1d868ac4"
      },
      "source": [
        "#### 49. How to print all the values of an array? (★★☆)"
      ]
    },
    {
      "cell_type": "code",
      "execution_count": 12,
      "id": "d12c9111",
      "metadata": {
        "id": "d12c9111",
        "colab": {
          "base_uri": "https://localhost:8080/"
        },
        "outputId": "b61f0f5a-9296-4cda-a4f3-d5a238c41d2d"
      },
      "outputs": [
        {
          "output_type": "stream",
          "name": "stdout",
          "text": [
            "[0.11317587 0.13487677 0.37120326 0.24203258 0.79085639 0.50916122\n",
            " 0.8461239  0.79551629 0.75823094 0.7857065 ]\n"
          ]
        }
      ],
      "source": [
        "arr=np.random.rand(10)\n",
        "np.set_printoptions(threshold=float('inf'))\n",
        "print(arr)"
      ]
    },
    {
      "cell_type": "markdown",
      "id": "c5f1c082",
      "metadata": {
        "id": "c5f1c082"
      },
      "source": [
        "#### 50. How to find the closest value (to a given scalar) in a vector? (★★☆)"
      ]
    },
    {
      "cell_type": "code",
      "execution_count": 13,
      "id": "4374f950",
      "metadata": {
        "id": "4374f950",
        "colab": {
          "base_uri": "https://localhost:8080/"
        },
        "outputId": "c5cc519d-af97-4608-b5ce-797a346ee9e6"
      },
      "outputs": [
        {
          "output_type": "stream",
          "name": "stdout",
          "text": [
            "66\n"
          ]
        }
      ],
      "source": [
        "Z = np.arange(100)\n",
        "v = np.random.uniform(0,100)\n",
        "index = (np.abs(Z-v)).argmin()\n",
        "print(Z[index])"
      ]
    },
    {
      "cell_type": "markdown",
      "id": "91d0c841",
      "metadata": {
        "id": "91d0c841"
      },
      "source": [
        "#### 51. Create a structured array representing a position (x,y) and a color (r,g,b) (★★☆)"
      ]
    },
    {
      "cell_type": "code",
      "execution_count": 14,
      "id": "11b8fc88",
      "metadata": {
        "id": "11b8fc88",
        "colab": {
          "base_uri": "https://localhost:8080/"
        },
        "outputId": "0e8fa23f-3a9b-4f50-d0d8-8a7c5d641895"
      },
      "outputs": [
        {
          "output_type": "stream",
          "name": "stdout",
          "text": [
            "[(([0.], [0.]), ([0.], [0.], [0.])) (([0.], [0.]), ([0.], [0.], [0.]))\n",
            " (([0.], [0.]), ([0.], [0.], [0.])) (([0.], [0.]), ([0.], [0.], [0.]))\n",
            " (([0.], [0.]), ([0.], [0.], [0.])) (([0.], [0.]), ([0.], [0.], [0.]))\n",
            " (([0.], [0.]), ([0.], [0.], [0.])) (([0.], [0.]), ([0.], [0.], [0.]))\n",
            " (([0.], [0.]), ([0.], [0.], [0.])) (([0.], [0.]), ([0.], [0.], [0.]))]\n"
          ]
        }
      ],
      "source": [
        "arr=np.zeros(10,[('position',[('x',float,1),('y',float,1)]),('color',[('r',float,1),('g',float,1),('b',float,1)])])\n",
        "print(arr)"
      ]
    },
    {
      "cell_type": "markdown",
      "id": "076d36d7",
      "metadata": {
        "id": "076d36d7"
      },
      "source": [
        "#### 52. Consider a random vector with shape (100,2) representing coordinates, find point by point distances (★★☆)"
      ]
    },
    {
      "cell_type": "code",
      "execution_count": 15,
      "id": "14c1ff07",
      "metadata": {
        "id": "14c1ff07",
        "colab": {
          "base_uri": "https://localhost:8080/"
        },
        "outputId": "4c8868cd-9701-42af-cc2b-81bc0ea717fc"
      },
      "outputs": [
        {
          "output_type": "stream",
          "name": "stdout",
          "text": [
            "[[0.47569675 0.52983554]\n",
            " [0.31348172 0.49148921]\n",
            " [0.34241307 0.99030311]\n",
            " [0.434343   0.16378308]\n",
            " [0.78993078 0.09548819]\n",
            " [0.19740272 0.82193729]\n",
            " [0.35503222 0.63274315]\n",
            " [0.681837   0.15724596]\n",
            " [0.22592113 0.06017888]\n",
            " [0.18404755 0.08602801]\n",
            " [0.873206   0.79761307]\n",
            " [0.19947376 0.73366062]\n",
            " [0.65072494 0.67401474]\n",
            " [0.83356911 0.1070748 ]\n",
            " [0.14003532 0.4859881 ]\n",
            " [0.47664615 0.53998644]\n",
            " [0.65424216 0.44049041]\n",
            " [0.89635358 0.42450384]\n",
            " [0.13544783 0.5713917 ]\n",
            " [0.68132304 0.83333701]\n",
            " [0.49847838 0.32583107]\n",
            " [0.51457987 0.9397256 ]\n",
            " [0.72949888 0.61902044]\n",
            " [0.84998669 0.96782183]\n",
            " [0.85669959 0.71330381]\n",
            " [0.43335609 0.85210189]\n",
            " [0.99839323 0.53502677]\n",
            " [0.19706382 0.12123475]\n",
            " [0.62212485 0.30931586]\n",
            " [0.85880362 0.21133306]\n",
            " [0.94749256 0.93761097]\n",
            " [0.58032586 0.47272853]\n",
            " [0.43615629 0.68421897]\n",
            " [0.70782716 0.21734791]\n",
            " [0.55055825 0.11915066]\n",
            " [0.65433724 0.3795178 ]\n",
            " [0.74430514 0.58007881]\n",
            " [0.9189939  0.59752325]\n",
            " [0.79232464 0.32711771]\n",
            " [0.35112766 0.42323347]\n",
            " [0.93234046 0.08377502]\n",
            " [0.80608669 0.03321376]\n",
            " [0.78832128 0.33821289]\n",
            " [0.26830337 0.98624266]\n",
            " [0.33281499 0.78468401]\n",
            " [0.53269155 0.00671202]\n",
            " [0.80435911 0.27298649]\n",
            " [0.81391207 0.14241231]\n",
            " [0.67150207 0.40787827]\n",
            " [0.02790502 0.84415458]\n",
            " [0.89315409 0.29119394]\n",
            " [0.23412694 0.09135347]\n",
            " [0.74640108 0.08683757]\n",
            " [0.17851642 0.27648183]\n",
            " [0.38899719 0.01422531]\n",
            " [0.44141261 0.05456644]\n",
            " [0.76537765 0.32974862]\n",
            " [0.53194476 0.60302502]\n",
            " [0.45854489 0.24800073]\n",
            " [0.49014639 0.64763907]\n",
            " [0.75987091 0.20516238]\n",
            " [0.61434169 0.25500105]\n",
            " [0.41810654 0.77230573]\n",
            " [0.64771452 0.29686216]\n",
            " [0.54884395 0.36581795]\n",
            " [0.6233045  0.24271459]\n",
            " [0.36979633 0.87086369]\n",
            " [0.79758118 0.45066842]\n",
            " [0.02454136 0.55086469]\n",
            " [0.12002337 0.86169324]\n",
            " [0.69568771 0.4394066 ]\n",
            " [0.73139047 0.55172345]\n",
            " [0.7259531  0.90279357]\n",
            " [0.62706554 0.49169894]\n",
            " [0.25567603 0.27258648]\n",
            " [0.21848567 0.61566419]\n",
            " [0.98538687 0.15539145]\n",
            " [0.85317666 0.25693394]\n",
            " [0.23956257 0.69781496]\n",
            " [0.10568689 0.53403321]\n",
            " [0.75096172 0.78975221]\n",
            " [0.56830138 0.62429699]\n",
            " [0.3216757  0.05852354]\n",
            " [0.13843669 0.07713088]\n",
            " [0.55027489 0.41840573]\n",
            " [0.1338416  0.46222716]\n",
            " [0.79728735 0.14003828]\n",
            " [0.9655566  0.00803297]\n",
            " [0.86560098 0.63482815]\n",
            " [0.34957821 0.3765185 ]\n",
            " [0.21351159 0.15051563]\n",
            " [0.54688391 0.83700795]\n",
            " [0.34158885 0.95954418]\n",
            " [0.55540783 0.0594669 ]\n",
            " [0.38919174 0.89143653]\n",
            " [0.20205884 0.73790024]\n",
            " [0.13759464 0.08340678]\n",
            " [0.63603489 0.05737927]\n",
            " [0.47245235 0.78363248]\n",
            " [0.02096907 0.34343695]]\n",
            "[[0.         0.1666858  0.47936929 0.36838097 0.53609762 0.40344888\n",
            "  0.15858721 0.42581311 0.53194477 0.53105968 0.47928948 0.34328385\n",
            "  0.22676532 0.55389465 0.3385132  0.01019519 0.19965225 0.43364379\n",
            "  0.34277724 0.36659966 0.20527258 0.41173019 0.26901574 0.57612928\n",
            "  0.42287559 0.32503589 0.52272227 0.49456134 0.26470761 0.49821151\n",
            "  0.62359609 0.11919925 0.15936653 0.38927247 0.41745217 0.23346917\n",
            "  0.273267   0.44843505 0.37596243 0.16395566 0.63835215 0.59648194\n",
            "  0.3666788  0.50131773 0.29216936 0.52621919 0.41712155 0.51428238\n",
            "  0.23068009 0.54709586 0.48085387 0.50062211 0.51916091 0.39051793\n",
            "  0.52284866 0.47650406 0.35206505 0.09230676 0.28235624 0.1186864\n",
            "  0.43147145 0.30782531 0.24921561 0.2895975  0.17958921 0.32284127\n",
            "  0.35709256 0.33147703 0.45164523 0.48644946 0.23785167 0.25662884\n",
            "  0.4491391  0.15609905 0.33850583 0.27115326 0.63244952 0.46579649\n",
            "  0.28978688 0.37003366 0.37858616 0.13228221 0.49584018 0.56452269\n",
            "  0.13408394 0.34847645 0.50533397 0.71570986 0.40379296 0.19852456\n",
            "  0.46111241 0.31531333 0.45014935 0.47707496 0.37180423 0.34375664\n",
            "  0.56001042 0.49892209 0.25381767 0.49144857]\n",
            " [0.1666858  0.         0.49965221 0.34928321 0.6195325  0.35024316\n",
            "  0.14723831 0.49739739 0.44010847 0.42561954 0.63796793 0.26766547\n",
            "  0.38346911 0.64673436 0.17353361 0.17021931 0.3445556  0.58670831\n",
            "  0.19514219 0.50216248 0.24832718 0.49128029 0.43512583 0.7174471\n",
            "  0.58676006 0.38001496 0.68629389 0.38812562 0.35839602 0.61307703\n",
            "  0.77523827 0.26750282 0.22845965 0.48027261 0.44140829 0.35877582\n",
            "  0.43983739 0.61472614 0.50626923 0.0779491  0.74109176 0.67281204\n",
            "  0.49896517 0.49681189 0.29383152 0.5320356  0.53731188 0.6101518\n",
            "  0.36765387 0.4537917  0.61330111 0.40792866 0.59258934 0.25385785\n",
            "  0.48320121 0.45526676 0.47996869 0.24528827 0.28342541 0.23578207\n",
            "  0.53032665 0.38267921 0.2996736  0.38677029 0.26681201 0.39733986\n",
            "  0.3835314  0.48581748 0.29497793 0.41770462 0.38573827 0.4222273\n",
            "  0.582498   0.31358389 0.2264065  0.15634473 0.75127773 0.58846138\n",
            "  0.21916741 0.21210535 0.52948047 0.28735164 0.4330432  0.44981506\n",
            "  0.24781485 0.1820078  0.59798465 0.81174601 0.57042241 0.12050403\n",
            "  0.35532662 0.41696496 0.46889814 0.49514798 0.4070502  0.27043198\n",
            "  0.44437319 0.54082529 0.33259487 0.32784618]\n",
            " [0.47936929 0.49965221 0.         0.83161678 1.00048281 0.22220497\n",
            "  0.35778257 0.89955145 0.93739077 0.91803763 0.56468627 0.29376353\n",
            "  0.44169508 1.010607   0.54340627 0.46989746 0.63208496 0.79181999\n",
            "  0.46724873 0.37349475 0.68255365 0.17944216 0.53636391 0.50807124\n",
            "  0.58413974 0.16543945 0.79849015 0.88113916 0.73619448 0.93458736\n",
            "  0.60736945 0.56963667 0.32011762 0.8549779  0.89567349 0.6858246\n",
            "  0.57428321 0.69765427 0.80139584 0.56713659 1.08157639 1.06349106\n",
            "  0.78997202 0.07422085 0.205843   1.001827   0.8531924  0.97017015\n",
            "  0.66896806 0.34680644 0.88998275 0.90544814 0.98967485 0.73239534\n",
            "  0.97718879 0.94095909 0.78436679 0.43116885 0.75133177 0.37315383\n",
            "  0.8892227  0.7839734  0.23076473 0.75767363 0.65771987 0.79861667\n",
            "  0.12253823 0.70596289 0.54235463 0.25690013 0.65443864 0.58622141\n",
            "  0.39339659 0.57413687 0.72293878 0.394604   1.05379921 0.89370564\n",
            "  0.31004442 0.51402481 0.4551183  0.4301     0.9320103  0.93567617\n",
            "  0.60850074 0.56777308 0.96429295 1.16325513 0.63252513 0.61382643\n",
            "  0.84962262 0.25555377 0.03076997 0.95489413 0.10937479 0.28880186\n",
            "  0.92973735 0.9780392  0.24417814 0.72233099]\n",
            " [0.36838097 0.34928321 0.83161678 0.         0.36208682 0.6995053\n",
            "  0.47561933 0.24758032 0.23275202 0.26209476 0.77093527 0.61637973\n",
            "  0.55421791 0.40323358 0.43638639 0.37857433 0.3534439  0.5304989\n",
            "  0.50545337 0.7136537  0.17427822 0.78007996 0.54254774 0.90511767\n",
            "  0.69307872 0.68831951 0.67525887 0.24106383 0.23757486 0.4271157\n",
            "  0.92851068 0.34169912 0.52043905 0.27868043 0.12449111 0.30812162\n",
            "  0.51901702 0.6503976  0.39348324 0.27246889 0.50438355 0.39400726\n",
            "  0.39462182 0.83905239 0.62914696 0.18532069 0.38579438 0.38017022\n",
            "  0.34033349 0.79252584 0.47617344 0.21291434 0.32140451 0.27955007\n",
            "  0.15628105 0.10944521 0.37030865 0.44995509 0.08762616 0.48706328\n",
            "  0.32814733 0.20179258 0.60873922 0.25147057 0.23222522 0.20478436\n",
            "  0.71002061 0.46286626 0.56371053 0.76542499 0.3798281  0.48860509\n",
            "  0.79446394 0.38035613 0.20918906 0.5007903  0.55110776 0.42906726\n",
            "  0.56844477 0.49507575 0.70148754 0.47960182 0.15418654 0.30833285\n",
            "  0.27977294 0.4235209  0.36372025 0.55357564 0.63864458 0.22900094\n",
            "  0.2212296  0.68256661 0.80114859 0.15980788 0.72905293 0.61932742\n",
            "  0.30744095 0.22803814 0.6210198  0.45072555]\n",
            " [0.53609762 0.6195325  1.00048281 0.36208682 0.         0.93745283\n",
            "  0.69121607 0.12449212 0.56511383 0.60595709 0.70704604 0.86942714\n",
            "  0.59503885 0.04515034 0.75819146 0.54380691 0.37072622 0.34579923\n",
            "  0.80921696 0.74579925 0.37148667 0.88800615 0.52700857 0.87439847\n",
            "  0.62141307 0.8364268  0.48646763 0.59342576 0.27181079 0.13477203\n",
            "  0.85673595 0.43156054 0.68684811 0.14693807 0.24053924 0.31473548\n",
            "  0.48673378 0.51835942 0.23164189 0.54769075 0.14289057 0.06433597\n",
            "  0.24273004 1.03224933 0.82701011 0.27212723 0.17808375 0.05269702\n",
            "  0.3340852  1.06826243 0.22125955 0.55581922 0.04438094 0.63764113\n",
            "  0.40908606 0.35091239 0.23554364 0.56934209 0.36479677 0.62828439\n",
            "  0.11371906 0.23722538 0.77222746 0.2465298  0.36221684 0.22235092\n",
            "  0.88188442 0.35526262 0.89061144 1.01776526 0.3565973  0.45997563\n",
            "  0.80983648 0.42837839 0.56284274 0.77274354 0.20442965 0.17339196\n",
            "  0.81590607 0.81271855 0.69535682 0.57337452 0.46971183 0.65175268\n",
            "  0.40213267 0.75163188 0.0451534  0.19619593 0.54462241 0.52238724\n",
            "  0.57903981 0.7803354  0.97344915 0.23727315 0.89113722 0.87079657\n",
            "  0.65244801 0.15854411 0.757849   0.80794846]\n",
            " [0.40344888 0.35024316 0.22220497 0.6995053  0.93745283 0.\n",
            "  0.24625491 0.82249082 0.76229206 0.73603046 0.67624089 0.08830096\n",
            "  0.47684602 0.956941   0.34081208 0.39682891 0.59515041 0.80404332\n",
            "  0.25809204 0.48405458 0.58031711 0.33834218 0.56947482 0.66869137\n",
            "  0.6681868  0.23787371 0.85082516 0.70070263 0.66570986 0.90016037\n",
            "  0.75895664 0.51824405 0.27562584 0.79124044 0.78652901 0.63602215\n",
            "  0.5979948  0.75568215 0.77380781 0.42731264 1.04164151 0.99628359\n",
            "  0.76365833 0.17895015 0.14044319 0.88148219 0.81837831 0.9175173\n",
            "  0.62945618 0.17094758 0.87507627 0.73150625 0.91748069 0.54578234\n",
            "  0.83012474 0.80523217 0.75156185 0.39980115 0.63055405 0.34070329\n",
            "  0.83473454 0.70374343 0.22621554 0.69172582 0.57580882 0.7189515\n",
            "  0.17920198 0.70572995 0.32149868 0.08699482 0.62818601 0.59846341\n",
            "  0.53469922 0.54191098 0.55243289 0.20734774 1.03208642 0.86560282\n",
            "  0.13108702 0.30215981 0.55449387 0.42027076 0.77346256 0.74713693\n",
            "  0.53605643 0.36528263 0.90821134 1.11915175 0.69390111 0.47069659\n",
            "  0.67161488 0.34980599 0.19931206 0.8423353  0.20399308 0.08416594\n",
            "  0.74094826 0.88144606 0.27770409 0.50999157]\n",
            " [0.15858721 0.14723831 0.35778257 0.47561933 0.69121607 0.24625491\n",
            "  0.         0.57697396 0.58694082 0.57282913 0.54377031 0.18542591\n",
            "  0.29855909 0.710862   0.26030887 0.15295018 0.35565111 0.57999347\n",
            "  0.22799409 0.38301905 0.33877992 0.34596773 0.37471802 0.59771034\n",
            "  0.50809464 0.23292248 0.65073949 0.53534556 0.41945642 0.65678923\n",
            "  0.66629846 0.27633658 0.09607744 0.5449931  0.54955225 0.39205431\n",
            "  0.39281922 0.56506037 0.53350874 0.20954606 0.79664974 0.75025704\n",
            "  0.52391553 0.36398323 0.15355659 0.65075174 0.57560361 0.67156165\n",
            "  0.38822337 0.38949582 0.63736254 0.55472595 0.6717012  0.39759271\n",
            "  0.61944971 0.58459378 0.5100873  0.17939123 0.3984239  0.1359328\n",
            "  0.58882907 0.45818173 0.15315378 0.44550979 0.32986672 0.47338388\n",
            "  0.23857781 0.47854027 0.34048244 0.32809648 0.39169527 0.38498017\n",
            "  0.45881318 0.30642389 0.37361007 0.1376105  0.79070325 0.62400356\n",
            "  0.13254275 0.26817297 0.42592489 0.21343634 0.57518764 0.59633768\n",
            "  0.28993143 0.27928658 0.66207831 0.87350033 0.51057301 0.25628269\n",
            "  0.50256489 0.28023415 0.32707741 0.6072858  0.26093895 0.185631\n",
            "  0.59080415 0.64031719 0.19119382 0.44192337]\n",
            " [0.42581311 0.49739739 0.89955145 0.24758032 0.12449212 0.82249082\n",
            "  0.57697396 0.         0.46613442 0.50285817 0.66835031 0.75161703\n",
            "  0.51770448 0.1598117  0.63373532 0.4342736  0.28458548 0.34270123\n",
            "  0.68560763 0.67609124 0.24908095 0.80015582 0.46422766 0.82783305\n",
            "  0.58290416 0.73794818 0.49287543 0.48610888 0.16337318 0.18504756\n",
            "  0.82434364 0.33141178 0.5814289  0.06548078 0.13669441 0.22396653\n",
            "  0.42742238 0.50008749 0.20264238 0.42440314 0.26105548 0.17556187\n",
            "  0.20997127 0.92641545 0.71797971 0.2119076  0.16854536 0.13290546\n",
            "  0.2508453  0.94840417 0.25019387 0.452533   0.09552938 0.51725119\n",
            "  0.32589885 0.26143253 0.19166692 0.47030485 0.24103069 0.52652701\n",
            "  0.09157115 0.11879257 0.66921766 0.14372553 0.24736496 0.10359026\n",
            "  0.77885792 0.31542584 0.7661418  0.90104413 0.28250039 0.39757771\n",
            "  0.74685171 0.33890811 0.44149361 0.65179884 0.30355554 0.1982296\n",
            "  0.69844221 0.68841672 0.63627225 0.48065268 0.37344648 0.54927436\n",
            "  0.29242609 0.6271463  0.1167257  0.32056408 0.51171667 0.39809088\n",
            "  0.46837376 0.69302864 0.87146499 0.15982827 0.79036513 0.75322406\n",
            "  0.54922852 0.10986896 0.6604559  0.68659559]\n",
            " [0.53194477 0.44010847 0.93739077 0.23275202 0.56511383 0.76229206\n",
            "  0.58694082 0.46613442 0.         0.0492095  0.98121704 0.67400083\n",
            "  0.74649363 0.60945491 0.43438447 0.54136709 0.57279644 0.7630284\n",
            "  0.51915698 0.89730953 0.38060286 0.92570314 0.75225955 1.10148697\n",
            "  0.90799429 0.81863992 0.90674896 0.06753195 0.46802417 0.65068259\n",
            "  1.13602483 0.54387492 0.65850198 0.50688808 0.32994989 0.53433857\n",
            "  0.7341784  0.87697711 0.62615436 0.38403817 0.7068133  0.58079187\n",
            "  0.62737297 0.9270331  0.73234826 0.31139492 0.61634209 0.59371347\n",
            "  0.56518779 0.80859649 0.70609332 0.03223648 0.52116223 0.22143661\n",
            "  0.16942707 0.21556456 0.60305985 0.62316322 0.29898305 0.64414631\n",
            "  0.55328345 0.43454138 0.73760415 0.4836617  0.44462837 0.43730176\n",
            "  0.82335287 0.69229856 0.53040209 0.80847981 0.60373364 0.70506405\n",
            "  0.97981197 0.58917434 0.21448157 0.55553507 0.76541077 0.65739033\n",
            "  0.63778199 0.48887033 0.89885753 0.65988899 0.09576888 0.08911172\n",
            "  0.48325133 0.41245783 0.57692017 0.74147139 0.85989074 0.33964957\n",
            "  0.09118512 0.84052395 0.90677283 0.32948747 0.84714024 0.67814133\n",
            "  0.09132965 0.41012332 0.76430541 0.34962907]\n",
            " [0.53105968 0.42561954 0.91803763 0.26209476 0.60595709 0.73603046\n",
            "  0.57282913 0.50285817 0.0492095  0.         0.99060218 0.64781631\n",
            "  0.75067715 0.64986247 0.4023744  0.54008536 0.58883493 0.78863538\n",
            "  0.48779078 0.89763782 0.39543932 0.91545136 0.76262578 1.10500466\n",
            "  0.91974763 0.80562022 0.92992408 0.03753582 0.4917003  0.6862923\n",
            "  1.14369657 0.55369107 0.64914655 0.53999074 0.36800435 0.55435427\n",
            "  0.74697708 0.89541808 0.65431283 0.3763287  0.74829631 0.62427721\n",
            "  0.65478543 0.90414902 0.71431922 0.35755233 0.64787337 0.6323832\n",
            "  0.58412285 0.77403901 0.73819045 0.05036176 0.56235412 0.19053412\n",
            "  0.21716349 0.25928094 0.63035262 0.62315197 0.31872238 0.63961198\n",
            "  0.58801832 0.46228231 0.72509359 0.50935067 0.45973778 0.46636612\n",
            "  0.806517   0.71371293 0.49144213 0.77830305 0.62181355 0.7186491\n",
            "  0.98018754 0.60069447 0.19983669 0.53075462 0.80433575 0.69061031\n",
            "  0.61430057 0.45480661 0.90366998 0.66135052 0.14034958 0.04647052\n",
            "  0.49456792 0.3795345  0.61561365 0.78539138 0.87504095 0.33434283\n",
            "  0.07089981 0.83403903 0.88760901 0.37230895 0.83112396 0.65212102\n",
            "  0.0465268  0.45289437 0.75487041 0.30471947]\n",
            " [0.47928948 0.63796793 0.56468627 0.77093527 0.70704604 0.67624089\n",
            "  0.54377031 0.66835031 0.98121704 0.99060218 0.         0.6767607\n",
            "  0.25450809 0.69167492 0.79664883 0.4728966  0.41890543 0.37382658\n",
            "  0.77166263 0.19518009 0.60249402 0.38575727 0.22923147 0.17178521\n",
            "  0.08590992 0.4432121  0.29090103 0.95637643 0.54906822 0.58645689\n",
            "  0.15848629 0.43741141 0.4515204  0.60337204 0.75127412 0.47191863\n",
            "  0.25285685 0.20526195 0.47739677 0.64243745 0.71628322 0.76734041\n",
            "  0.46717656 0.63363105 0.54054565 0.86108917 0.5291247  0.65787826\n",
            "  0.43883675 0.84658127 0.50681186 0.95248342 0.72199813 0.86843041\n",
            "  0.92095306 0.85939736 0.48012925 0.39284061 0.68848933 0.41137193\n",
            "  0.60319372 0.60119759 0.45580256 0.54917928 0.54005349 0.60857463\n",
            "  0.50871107 0.35509112 0.88380792 0.75590365 0.39978071 0.28385445\n",
            "  0.18095953 0.39264307 0.81055301 0.67953226 0.65194567 0.54104999\n",
            "  0.64145433 0.81151705 0.12249676 0.3507211  0.92219249 1.0290678\n",
            "  0.49807901 0.81187648 0.66194278 0.7949625  0.16296247 0.67194248\n",
            "  0.92408431 0.32869144 0.55573238 0.80365132 0.49302397 0.67379829\n",
            "  1.02528761 0.7773006  0.40099743 0.96570374]\n",
            " [0.34328385 0.26766547 0.29376353 0.61637973 0.86942714 0.08830096\n",
            "  0.18542591 0.75161703 0.67400083 0.64781631 0.6767607  0.\n",
            "  0.45517608 0.89145202 0.25470493 0.33813344 0.54107585 0.76237746\n",
            "  0.17444347 0.49205093 0.50569626 0.37650316 0.54228129 0.69137439\n",
            "  0.65754102 0.2621627  0.82324221 0.61243061 0.5989177  0.84115513\n",
            "  0.77532436 0.46166425 0.24179143 0.72457022 0.70773074 0.57647023\n",
            "  0.56606413 0.73228589 0.71885277 0.34549084 0.97951258 0.92660944\n",
            "  0.70930974 0.26179228 0.14276998 0.79968017 0.76033344 0.85270687\n",
            "  0.57353716 0.20407044 0.82278136 0.64324126 0.84705936 0.45765889\n",
            "  0.74398003 0.72090451 0.69526406 0.3572151  0.55043926 0.3031341\n",
            "  0.77029562 0.63342749 0.22202193 0.62586953 0.50731427 0.64858345\n",
            "  0.2187109  0.66167747 0.25301324 0.15068084 0.57690009 0.56217126\n",
            "  0.55297961 0.49130458 0.46448688 0.11951825 0.97573288 0.80907095\n",
            "  0.05377754 0.22056083 0.55433315 0.38470017 0.68610742 0.65936092\n",
            "  0.47164296 0.27925563 0.84247764 1.05518643 0.67341913 0.38740398\n",
            "  0.58331393 0.36245618 0.2668709  0.76238195 0.24675119 0.00496558\n",
            "  0.65319146 0.8049485  0.27751486 0.42911355]\n",
            " [0.22676532 0.38346911 0.44169508 0.55421791 0.59503885 0.47684602\n",
            "  0.29855909 0.51770448 0.74649363 0.75067715 0.25450809 0.45517608\n",
            "  0.         0.5956953  0.54420391 0.21969754 0.23355081 0.35012728\n",
            "  0.52539698 0.16223387 0.38001432 0.29855945 0.09607136 0.35500402\n",
            "  0.20968831 0.28100578 0.37442075 0.71510428 0.36581858 0.50731753\n",
            "  0.39693072 0.21324204 0.21481116 0.46022305 0.56383287 0.29451909\n",
            "  0.13259416 0.2789609  0.3746839  0.3907042  0.65398029 0.65936573\n",
            "  0.36289893 0.49369275 0.33662208 0.67766127 0.42944978 0.55608558\n",
            "  0.26694627 0.64564093 0.45312653 0.71627372 0.59492096 0.61726275\n",
            "  0.70980525 0.65385613 0.3628559  0.13837728 0.46735544 0.16273029\n",
            "  0.481389   0.42059032 0.25253206 0.37716459 0.32459975 0.43217091\n",
            "  0.34303119 0.26730194 0.63817851 0.56290974 0.23887785 0.14649944\n",
            "  0.24082988 0.18384455 0.56321247 0.43616003 0.61722663 0.46361955\n",
            "  0.41185064 0.56272667 0.15310968 0.09625746 0.69792751 0.78658095\n",
            "  0.27463826 0.55858962 0.55372501 0.73664828 0.21842001 0.42331237\n",
            "  0.68206072 0.19326082 0.42082322 0.6218958  0.34010565 0.45319161\n",
            "  0.78238127 0.61681042 0.20927772 0.71124829]\n",
            " [0.55389465 0.64673436 1.010607   0.40323358 0.04515034 0.956941\n",
            "  0.710862   0.1598117  0.60945491 0.64986247 0.69167492 0.89145202\n",
            "  0.5956953  0.         0.79029387 0.56107618 0.37858173 0.32357856\n",
            "  0.83842919 0.74204829 0.40017509 0.89166221 0.52241646 0.86090359\n",
            "  0.60667012 0.84571616 0.45859555 0.63666278 0.29259208 0.10726866\n",
            "  0.83831312 0.44478624 0.700737   0.16724592 0.28326838 0.32611233\n",
            "  0.48135315 0.49783239 0.22387494 0.57680678 0.10148231 0.07880822\n",
            "  0.23552534 1.04520882 0.84256094 0.31717502 0.16846339 0.04043685\n",
            "  0.34168472 1.0919621  0.19352061 0.59964829 0.08948637 0.67660385\n",
            "  0.45416431 0.39565622 0.23288132 0.58046866 0.40062861 0.64042868\n",
            "  0.12268904 0.26446708 0.78430946 0.26563353 0.38472904 0.25021863\n",
            "  0.89356515 0.34547317 0.92275423 1.03855501 0.35979954 0.45623776\n",
            "  0.80296299 0.43655407 0.60112771 0.79811704 0.15932084 0.15113643\n",
            "  0.83774561 0.84386374 0.6876572  0.58127942 0.51419071 0.69577707\n",
            "  0.42093059 0.78469853 0.04901997 0.16501509 0.52872454 0.55393781\n",
            "  0.62157737 0.7842135  0.98425029 0.28220597 0.90149574 0.89260628\n",
            "  0.69637679 0.2036895  0.7669     0.84627767]\n",
            " [0.3385132  0.17353361 0.54340627 0.43638639 0.75819146 0.34081208\n",
            "  0.26030887 0.63373532 0.43438447 0.4023744  0.79664883 0.25470493\n",
            "  0.54420391 0.79029387 0.         0.34091446 0.51621576 0.75881329\n",
            "  0.08552672 0.64315135 0.39259611 0.58835476 0.60428874 0.85801788\n",
            "  0.75185111 0.46912299 0.85975758 0.36918459 0.51344268 0.76945647\n",
            "  0.92517588 0.44049015 0.35634689 0.62813623 0.55054407 0.525207\n",
            "  0.61155136 0.78690314 0.6713577  0.22022288 0.88855095 0.80537508\n",
            "  0.66491518 0.51643713 0.3555042  0.61958412 0.69763585 0.75640875\n",
            "  0.537176   0.37530844 0.77790272 0.4056966  0.72594806 0.21301098\n",
            "  0.53342491 0.52626317 0.64456481 0.40901179 0.39760072 0.38562779\n",
            "  0.68048456 0.52756189 0.39912577 0.54176267 0.42610487 0.5410463\n",
            "  0.44824027 0.65849376 0.13246821 0.37623772 0.55760148 0.59499752\n",
            "  0.71904551 0.4870637  0.24272006 0.15155971 0.90769674 0.74902361\n",
            "  0.23404335 0.05906054 0.68227831 0.45004573 0.46445579 0.40886035\n",
            "  0.41576902 0.02455493 0.74273919 0.95390067 0.74067461 0.2364145\n",
            "  0.34342473 0.53734598 0.51466414 0.59536094 0.47588586 0.25943524\n",
            "  0.40258872 0.65553116 0.44619867 0.1857353 ]\n",
            " [0.01019519 0.17021931 0.46989746 0.37857433 0.54380691 0.39682891\n",
            "  0.15295018 0.4342736  0.54136709 0.54008536 0.4728966  0.33813344\n",
            "  0.21969754 0.56107618 0.34091446 0.         0.20356769 0.43530513\n",
            "  0.34264061 0.35769706 0.21526535 0.40153501 0.26491673 0.56782593\n",
            "  0.41770746 0.31510329 0.52177066 0.50350696 0.27271407 0.50404104\n",
            "  0.61628047 0.12358441 0.14980806 0.39691344 0.42727713 0.23942495\n",
            "  0.27064503 0.44607401 0.38074401 0.17142388 0.64481482 0.60444157\n",
            "  0.37128688 0.492495   0.28383852 0.53621143 0.42271119 0.52135735\n",
            "  0.2354175  0.54211333 0.48515623 0.50998736 0.52736289 0.39788945\n",
            "  0.53301698 0.486697   0.35716357 0.08385582 0.29254625 0.10849583\n",
            "  0.43854693 0.31650708 0.23958117 0.29727731 0.18853961 0.33148034\n",
            "  0.34770195 0.3331321  0.45223565 0.48028645 0.24103009 0.25501456\n",
            "  0.44020787 0.15797998 0.34688692 0.26902408 0.6377542  0.47105619\n",
            "  0.28481304 0.37100702 0.37098783 0.12453494 0.50578885 0.57325466\n",
            "  0.14213746 0.35151311 0.51261028 0.72250115 0.40035085 0.20704596\n",
            "  0.47002905 0.30521324 0.44075977 0.48693164 0.3621677  0.33847905\n",
            "  0.56870107 0.50824645 0.24368213 0.49625931]\n",
            " [0.19965225 0.3445556  0.63208496 0.3534439  0.37072622 0.59515041\n",
            "  0.35565111 0.28458548 0.57279644 0.58883493 0.41890543 0.54107585\n",
            "  0.23355081 0.37858173 0.51621576 0.20356769 0.         0.24263863\n",
            "  0.53505393 0.3937789  0.19341438 0.51840267 0.1937435  0.56248942\n",
            "  0.33972954 0.46713453 0.35689926 0.55761655 0.13504919 0.30717825\n",
            "  0.57716952 0.08064066 0.32705514 0.22948622 0.33765305 0.06097269\n",
            "  0.16612123 0.30781943 0.17866208 0.30360534 0.45231021 0.43466197\n",
            "  0.1686354  0.66842671 0.47094019 0.45048667 0.22492812 0.33814942\n",
            "  0.03689792 0.74514628 0.28172388 0.54625397 0.36546354 0.50320353\n",
            "  0.50205261 0.44071955 0.15689117 0.20340638 0.274499   0.26426878\n",
            "  0.25794711 0.18973231 0.4072609  0.14377651 0.1291695  0.20018095\n",
            "  0.51587847 0.14369992 0.63930086 0.68029519 0.04145971 0.13536858\n",
            "  0.46783189 0.05797312 0.43248895 0.46964835 0.43696479 0.27068046\n",
            "  0.48803185 0.55647385 0.36240651 0.20290559 0.50645744 0.63094012\n",
            "  0.106287   0.52085433 0.33276629 0.53285656 0.28712315 0.31130777\n",
            "  0.52756877 0.4107943  0.60594464 0.39363325 0.52307182 0.54122303\n",
            "  0.62803931 0.38354355 0.38832205 0.64066698]\n",
            " [0.43364379 0.58670831 0.79181999 0.5304989  0.34579923 0.80404332\n",
            "  0.57999347 0.34270123 0.7630284  0.78863538 0.37382658 0.76237746\n",
            "  0.35012728 0.32357856 0.75881329 0.43530513 0.24263863 0.\n",
            "  0.77495393 0.46193364 0.40992803 0.64125239 0.25627563 0.54529288\n",
            "  0.29150963 0.63024341 0.1504241  0.76221933 0.29743851 0.21645272\n",
            "  0.51564923 0.319686   0.52842549 0.2800996  0.46131873 0.24616184\n",
            "  0.2175369  0.17449442 0.14249939 0.5452274  0.34262396 0.40156697\n",
            "  0.13826462 0.84261353 0.66880901 0.55389536 0.17725826 0.29389153\n",
            "  0.22546531 0.9645256  0.13334829 0.74130512 0.36946483 0.73293976\n",
            "  0.65248676 0.58636589 0.1616578  0.40578763 0.4720485  0.46345832\n",
            "  0.25833736 0.32903176 0.59134286 0.27948842 0.3524301  0.32802916\n",
            "  0.69028955 0.10217912 0.88092202 0.89096754 0.2012185  0.20832104\n",
            "  0.50773752 0.277545   0.65844256 0.70430616 0.28345794 0.1730431\n",
            "  0.71138836 0.79821707 0.39312233 0.38410356 0.68131948 0.83373016\n",
            "  0.3461324  0.76344454 0.30122212 0.42218129 0.21256067 0.54887694\n",
            "  0.73575995 0.5406373  0.77073476 0.49949571 0.689376   0.76174963\n",
            "  0.83190283 0.4500514  0.55557684 0.87913018]\n",
            " [0.34277724 0.19514219 0.46724873 0.50545337 0.80921696 0.25809204\n",
            "  0.22799409 0.68560763 0.51915698 0.48779078 0.77166263 0.17444347\n",
            "  0.52539698 0.83842919 0.08552672 0.34264061 0.53505393 0.77495393\n",
            "  0.         0.60547097 0.43828211 0.52859338 0.59595733 0.81714297\n",
            "  0.73508036 0.40932572 0.86371128 0.45435428 0.55275516 0.8080135\n",
            "  0.8908048  0.45568726 0.32117841 0.67302682 0.61387182 0.55322854\n",
            "  0.60891928 0.7839817  0.70082589 0.26166515 0.93424188 0.85987904\n",
            "  0.69326481 0.43560522 0.29059835 0.69040982 0.73245339 0.80270608\n",
            "  0.56043804 0.29319796 0.80785491 0.49007578 0.77977983 0.29803815\n",
            "  0.61214513 0.60060203 0.6746873  0.39775681 0.45713612 0.36280122\n",
            "  0.72389784 0.57397071 0.34678869 0.58119156 0.4616892  0.5882455\n",
            "  0.38026661 0.6730488  0.11279009 0.29071102 0.57557692 0.59626712\n",
            "  0.67714376 0.49803505 0.32208598 0.0941028  0.94628356 0.78359323\n",
            "  0.16377643 0.04776369 0.65309927 0.43607472 0.54563226 0.49426986\n",
            "  0.44213821 0.10917636 0.78999831 1.00322162 0.73290368 0.28952959\n",
            "  0.42805446 0.48972609 0.43949569 0.66214304 0.40842951 0.17933801\n",
            "  0.48798964 0.71749299 0.398269   0.25508577]\n",
            " [0.36659966 0.50216248 0.37349475 0.7136537  0.74579925 0.48405458\n",
            "  0.38301905 0.67609124 0.89730953 0.89763782 0.19518009 0.49205093\n",
            "  0.16223387 0.74204829 0.64315135 0.35769706 0.3937789  0.46193364\n",
            "  0.60547097 0.         0.53943901 0.19779237 0.21966452 0.21571647\n",
            "  0.21252035 0.24867595 0.43534182 0.86116005 0.52735432 0.64682939\n",
            "  0.28586583 0.37448485 0.28695457 0.61655903 0.72605892 0.45462084\n",
            "  0.26097214 0.33480676 0.5182464  0.52651106 0.79047638 0.80979205\n",
            "  0.50655356 0.44041502 0.35188774 0.83988106 0.57369903 0.70353165\n",
            "  0.42557208 0.65350756 0.58205798 0.86632784 0.74933074 0.75026808\n",
            "  0.86971166 0.81488686 0.51055503 0.27451318 0.62629758 0.26651874\n",
            "  0.63306644 0.58220184 0.27019945 0.53752655 0.48592673 0.59346524\n",
            "  0.31377882 0.39993899 0.7149495  0.56201548 0.39419222 0.28602962\n",
            "  0.08255941 0.34591971 0.70400038 0.51146836 0.74301076 0.60147665\n",
            "  0.46208067 0.64879869 0.08215339 0.23763759 0.85421432 0.93089919\n",
            "  0.43513398 0.66140642 0.70293018 0.87287769 0.27085812 0.56456867\n",
            "  0.8277032  0.13448924 0.36241906 0.78404692 0.29785273 0.48867408\n",
            "  0.92630228 0.77727822 0.2147033  0.82223441]\n",
            " [0.20527258 0.24832718 0.68255365 0.17427822 0.37148667 0.58031711\n",
            "  0.33877992 0.24908095 0.38060286 0.39543932 0.60249402 0.50569626\n",
            "  0.38001432 0.40017509 0.39259611 0.21526535 0.19341438 0.40992803\n",
            "  0.43828211 0.53943901 0.         0.61410565 0.37326998 0.73192229\n",
            "  0.52769078 0.53028473 0.54192038 0.36429438 0.12474454 0.37807945\n",
            "  0.7588731  0.16816027 0.36376632 0.235787   0.21314103 0.16484614\n",
            "  0.3536562  0.50064953 0.29384908 0.1766337  0.4968173  0.42455595\n",
            "  0.29010725 0.69937401 0.48784258 0.32094783 0.31041193 0.36488471\n",
            "  0.19149136 0.70007039 0.39619268 0.35335736 0.34435963 0.32374527\n",
            "  0.33027909 0.27720209 0.26692801 0.27920689 0.08747711 0.32191585\n",
            "  0.28790099 0.13579837 0.45365103 0.15202178 0.06430895 0.14996635\n",
            "  0.56001753 0.32410932 0.52464887 0.65603084 0.22757619 0.32446173\n",
            "  0.62018584 0.20987331 0.24857186 0.40298779 0.51587744 0.36132766\n",
            "  0.45322115 0.44455965 0.52817673 0.30652432 0.32048791 0.43758634\n",
            "  0.10607991 0.38931205 0.35186042 0.56494043 0.47985226 0.15729106\n",
            "  0.33457671 0.51346363 0.65284503 0.27237993 0.57606693 0.50760768\n",
            "  0.4347489  0.30164244 0.45854061 0.47783377]\n",
            " [0.41173019 0.49128029 0.17944216 0.78007996 0.88800615 0.33834218\n",
            "  0.34596773 0.80015582 0.92570314 0.91545136 0.38575727 0.37650316\n",
            "  0.29855945 0.89166221 0.58835476 0.40153501 0.51840267 0.64125239\n",
            "  0.52859338 0.19779237 0.61410565 0.         0.38605956 0.33658155\n",
            "  0.41025935 0.11947893 0.63075868 0.8779201  0.63951728 0.80563372\n",
            "  0.43291786 0.47160237 0.2672712  0.74777941 0.8213633  0.57737761\n",
            "  0.42675463 0.52976708 0.6726296  0.54173863 0.95245751 0.95222893\n",
            "  0.66087207 0.2506311  0.23890661 0.93318936 0.72698903 0.85165031\n",
            "  0.55451435 0.49596998 0.75094058 0.89352622 0.88383204 0.74352602\n",
            "  0.93398168 0.88817801 0.65952365 0.33714807 0.69399079 0.2931067\n",
            "  0.7744358  0.69195385 0.19322659 0.65650456 0.57492958 0.70543985\n",
            "  0.1603254  0.56503687 0.62558016 0.4021988  0.53208941 0.44446879\n",
            "  0.21457544 0.46193172 0.71561568 0.43896192 0.9147892  0.76213662\n",
            "  0.36627213 0.57600328 0.27994357 0.31997064 0.90206933 0.94103844\n",
            "  0.52254046 0.61070974 0.84818826 1.03509959 0.46494976 0.5868797\n",
            "  0.84468602 0.10767761 0.17412257 0.88120502 0.13436523 0.37202536\n",
            "  0.93562801 0.89066625 0.16167804 0.7740877 ]\n",
            " [0.26901574 0.43512583 0.53636391 0.54254774 0.52700857 0.56947482\n",
            "  0.37471802 0.46422766 0.75225955 0.76262578 0.22923147 0.54228129\n",
            "  0.09607136 0.52241646 0.60428874 0.26491673 0.1937435  0.25627563\n",
            "  0.59595733 0.21966452 0.37326998 0.38605956 0.         0.36902537\n",
            "  0.15833311 0.37686537 0.28170749 0.72888798 0.32778973 0.42770167\n",
            "  0.38603261 0.20893518 0.30050079 0.40225674 0.53093271 0.2510195\n",
            "  0.04166144 0.1907105  0.29858714 0.42602502 0.57239179 0.59079197\n",
            "  0.28690234 0.58953664 0.42988664 0.64315995 0.35403891 0.48402572\n",
            "  0.21896266 0.73683059 0.36640584 0.7237581  0.53245121 0.64877913\n",
            "  0.69405947 0.63372076 0.29148837 0.19820061 0.45942539 0.24105734\n",
            "  0.41497102 0.38180007 0.34707574 0.33237725 0.31104293 0.39100299\n",
            "  0.43910244 0.18159736 0.70824453 0.65601104 0.1827685  0.06732357\n",
            "  0.28379528 0.16341161 0.58696216 0.51102422 0.52955689 0.38262622\n",
            "  0.49623196 0.62957463 0.17207554 0.16128383 0.69316413 0.80187207\n",
            "  0.26901207 0.61594782 0.48375529 0.655003   0.13701702 0.45071821\n",
            "  0.69695024 0.28437085 0.51616917 0.58601011 0.43591223 0.54067125\n",
            "  0.79826851 0.56936484 0.30523768 0.76023729]\n",
            " [0.57612928 0.7174471  0.50807124 0.90511767 0.87439847 0.66869137\n",
            "  0.59771034 0.82783305 1.10148697 1.10500466 0.17178521 0.69137439\n",
            "  0.35500402 0.86090359 0.85801788 0.56782593 0.56248942 0.54529288\n",
            "  0.81714297 0.21571647 0.73192229 0.33658155 0.36902537 0.\n",
            "  0.25460653 0.43240277 0.45753259 1.06912018 0.69681499 0.75654015\n",
            "  0.10207885 0.56376798 0.50168335 0.76381964 0.89994452 0.61998415\n",
            "  0.4018871  0.37667364 0.64329362 0.73853694 0.88787437 0.93563852\n",
            "  0.63262156 0.58197492 0.54864017 1.01213056 0.69633184 0.82619746\n",
            "  0.58770193 0.83133138 0.67800349 1.07120494 0.88705313 0.9637548\n",
            "  1.05917781 1.00048397 0.64365838 0.48397044 0.81937116 0.48166591\n",
            "  0.76796503 0.75076097 0.4740749  0.70078592 0.67312378 0.75971397\n",
            "  0.48988128 0.51980187 0.92477741 0.73763794 0.55048236 0.43266953\n",
            "  0.14004644 0.52572507 0.9146351  0.723055   0.82363604 0.71089505\n",
            "  0.66747383 0.86148404 0.20375165 0.4442476  1.05163486 1.14001482\n",
            "  0.62584759 0.87663548 0.82945935 0.96672181 0.33335956 0.77462783\n",
            "  1.03590056 0.33012659 0.50846523 0.95492689 0.46708318 0.68751323\n",
            "  1.13564625 0.93524384 0.42006891 1.03784714]\n",
            " [0.42287559 0.58676006 0.58413974 0.69307872 0.62141307 0.6681868\n",
            "  0.50809464 0.58290416 0.90799429 0.91974763 0.08590992 0.65754102\n",
            "  0.20968831 0.60667012 0.75185111 0.41770746 0.33972954 0.29150963\n",
            "  0.73508036 0.21252035 0.52769078 0.41025935 0.15833311 0.25460653\n",
            "  0.         0.44551613 0.22772745 0.88637753 0.46715262 0.50197516\n",
            "  0.24198568 0.36641356 0.42154785 0.51781778 0.66838647 0.39033783\n",
            "  0.17430264 0.13147516 0.39151479 0.58287544 0.6340568  0.68197077\n",
            "  0.38127259 0.64861832 0.52872508 0.77733723 0.44341726 0.57249268\n",
            "  0.35718746 0.8390604  0.4236811  0.88001075 0.63610196 0.8066882\n",
            "  0.8411042  0.77871573 0.3942769  0.34296809 0.61240029 0.37238838\n",
            "  0.51728474 0.51843878 0.44254388 0.4659382  0.46424295 0.52528799\n",
            "  0.51176157 0.26920685 0.84786425 0.75147273 0.31771765 0.20447637\n",
            "  0.23021949 0.31912461 0.74529261 0.6456396  0.57256145 0.45638346\n",
            "  0.61733136 0.77211269 0.13047932 0.30182071 0.84556948 0.95948819\n",
            "  0.42527752 0.76522098 0.57633599 0.71362231 0.07897888 0.60876632\n",
            "  0.8546469  0.33359926 0.5709408  0.71991626 0.50029476 0.65510266\n",
            "  0.95597185 0.69204762 0.39063033 0.91391848]\n",
            " [0.32503589 0.38001496 0.16543945 0.68831951 0.8364268  0.23787371\n",
            "  0.23292248 0.73794818 0.81863992 0.80562022 0.4432121  0.2621627\n",
            "  0.28100578 0.84571616 0.46912299 0.31510329 0.46713453 0.63024341\n",
            "  0.40932572 0.24867595 0.53028473 0.11947893 0.37686537 0.43240277\n",
            "  0.44551613 0.         0.64792253 0.76811511 0.57467409 0.76914907\n",
            "  0.52119872 0.40684672 0.16790627 0.69155403 0.74226265 0.52169761\n",
            "  0.41314145 0.54831958 0.63597705 0.43668024 0.91613949 0.89972543\n",
            "  0.6245656  0.21268791 0.12105241 0.85120595 0.68776296 0.80528389\n",
            "  0.50403188 0.40552895 0.72528058 0.78640347 0.82681718 0.62950911\n",
            "  0.83904998 0.79757614 0.61894365 0.26787873 0.60462607 0.21220316\n",
            "  0.72466726 0.62392724 0.08124024 0.59518122 0.49980948 0.638305\n",
            "  0.06627103 0.54204127 0.50781231 0.31347949 0.48901459 0.42314501\n",
            "  0.29695565 0.40916212 0.60614216 0.31948722 0.88890011 0.72833659\n",
            "  0.24771029 0.45665609 0.32366776 0.26477406 0.80139822 0.82919088\n",
            "  0.44917965 0.49164137 0.79967527 0.99784253 0.48378044 0.48290609\n",
            "  0.73522437 0.11452682 0.14129782 0.80197683 0.05914139 0.25795433\n",
            "  0.82363038 0.82016019 0.07884528 0.65483057]\n",
            " [0.52272227 0.68629389 0.79849015 0.67525887 0.48646763 0.85082516\n",
            "  0.65073949 0.49287543 0.90674896 0.92992408 0.29090103 0.82324221\n",
            "  0.37442075 0.45859555 0.85975758 0.52177066 0.35689926 0.1504241\n",
            "  0.86371128 0.43534182 0.54192038 0.63075868 0.28170749 0.45753259\n",
            "  0.22772745 0.64792253 0.         0.90186067 0.43877479 0.3525094\n",
            "  0.40578925 0.42268357 0.58169468 0.4305212  0.61115392 0.37756796\n",
            "  0.25805125 0.10104486 0.29272929 0.65684889 0.45606042 0.53739939\n",
            "  0.28786443 0.85826976 0.71086084 0.70426879 0.32605882 0.43379651\n",
            "  0.35074859 1.01853197 0.26557433 0.88371317 0.51417274 0.85967638\n",
            "  0.80162192 0.73557429 0.31054047 0.47137877 0.61140836 0.52057313\n",
            "  0.40706684 0.4752999  0.6269242  0.42390794 0.48033966 0.47553966\n",
            "  0.71268542 0.21781141 0.97398066 0.93714705 0.31744898 0.26752431\n",
            "  0.45768553 0.37384697 0.78772061 0.78406517 0.37985805 0.31372516\n",
            "  0.77609534 0.89270689 0.35511604 0.43925867 0.82764844 0.97426583\n",
            "  0.46304483 0.86761127 0.4432375  0.52801582 0.16611472 0.66789656\n",
            "  0.87400687 0.54318809 0.78205309 0.64991788 0.70580052 0.82177011\n",
            "  0.97207758 0.59954208 0.58173758 0.99602442]\n",
            " [0.49456134 0.38812562 0.88113916 0.24106383 0.59342576 0.70070263\n",
            "  0.53534556 0.48610888 0.06753195 0.03753582 0.95637643 0.61243061\n",
            "  0.71510428 0.63666278 0.36918459 0.50350696 0.55761655 0.76221933\n",
            "  0.45435428 0.86116005 0.36429438 0.8779201  0.72888798 1.06912018\n",
            "  0.88637753 0.76811511 0.90186067 0.         0.46481328 0.66784525\n",
            "  1.10887936 0.52003622 0.61165059 0.51972775 0.35350058 0.52517532\n",
            "  0.7141505  0.86488947 0.62985971 0.3390264  0.73623025 0.61535076\n",
            "  0.62981339 0.86793649 0.67719517 0.35462859 0.62596818 0.61721168\n",
            "  0.55430692 0.74244715 0.71653876 0.04760847 0.55041312 0.15635108\n",
            "  0.21974858 0.25328047 0.60535828 0.5867428  0.290589   0.6024939\n",
            "  0.56903046 0.4381943  0.68757058 0.48366419 0.42845093 0.4432138\n",
            "  0.76927243 0.68494354 0.46297504 0.74445551 0.5914889  0.68616725\n",
            "  0.94369384 0.56757836 0.16230446 0.49489329 0.78906268 0.66999875\n",
            "  0.57814434 0.4227911  0.86816962 0.62521112 0.13950204 0.0733641\n",
            "  0.46159361 0.34680379 0.600518   0.77678556 0.84304218 0.29737255\n",
            "  0.03358421 0.79668398 0.85067631 0.36362852 0.79380345 0.61668572\n",
            "  0.07048076 0.44359117 0.71736295 0.28351927]\n",
            " [0.26470761 0.35839602 0.73619448 0.23757486 0.27181079 0.66570986\n",
            "  0.41945642 0.16337318 0.46802417 0.4917003  0.54906822 0.5989177\n",
            "  0.36581858 0.29259208 0.51344268 0.27271407 0.13504919 0.29743851\n",
            "  0.55275516 0.52735432 0.12474454 0.63951728 0.32778973 0.69681499\n",
            "  0.46715262 0.57467409 0.43877479 0.46481328 0.         0.25615908\n",
            "  0.70754427 0.16867382 0.4184933  0.12570995 0.20318608 0.07723956\n",
            "  0.29705319 0.41375686 0.17112825 0.29396717 0.3835393  0.33177451\n",
            "  0.16868993 0.76381903 0.55648456 0.31554303 0.18582021 0.25424228\n",
            "  0.11023909 0.79946835 0.27163441 0.44502806 0.25483558 0.44482188\n",
            "  0.37606773 0.31233664 0.14470267 0.30724179 0.17469387 0.36315411\n",
            "  0.17269025 0.05486963 0.50594771 0.0284592  0.09253418 0.06661172\n",
            "  0.61563435 0.22531194 0.64455555 0.74647616 0.14944931 0.2658955\n",
            "  0.60249157 0.18244998 0.36828492 0.5067286  0.39452759 0.23691518\n",
            "  0.54523889 0.56321048 0.49741132 0.31954667 0.39136489 0.53652969\n",
            "  0.13062548 0.51166629 0.24359147 0.45685528 0.40649584 0.28070957\n",
            "  0.43838602 0.53302921 0.70816475 0.25860329 0.62699466 0.60011668\n",
            "  0.5346068  0.25232031 0.49737119 0.60212334]\n",
            " [0.49821151 0.61307703 0.93458736 0.4271157  0.13477203 0.90016037\n",
            "  0.65678923 0.18504756 0.65068259 0.6862923  0.58645689 0.84115513\n",
            "  0.50731753 0.10726866 0.76945647 0.50404104 0.30717825 0.21645272\n",
            "  0.8080135  0.64682939 0.37807945 0.80563372 0.42770167 0.75654015\n",
            "  0.50197516 0.76914907 0.3525094  0.66784525 0.25615908 0.\n",
            "  0.73167297 0.38193908 0.63423328 0.15109622 0.32173406 0.26475008\n",
            "  0.38611311 0.39085258 0.13351232 0.55012423 0.14723695 0.18575672\n",
            "  0.14514218 0.97425634 0.77807156 0.38499201 0.08225175 0.08225157\n",
            "  0.27149933 1.04444031 0.08693512 0.63609437 0.16773031 0.68339961\n",
            "  0.50947968 0.44585987 0.15083321 0.51015616 0.40193478 0.57120144\n",
            "  0.09912497 0.24833149 0.71337525 0.22775828 0.34632438 0.2375808\n",
            "  0.82104129 0.24704171 0.90070819 0.98425841 0.28040033 0.36345526\n",
            "  0.70410716 0.36374107 0.60623005 0.75729171 0.13839358 0.04594674\n",
            "  0.7874796  0.81934132 0.58838643 0.50490668 0.55844171 0.73276104\n",
            "  0.37157646 0.76714912 0.09416579 0.22962388 0.42354964 0.53534732\n",
            "  0.64815165 0.69911585 0.90957737 0.33928208 0.82648415 0.84177593\n",
            "  0.73246674 0.27079084 0.69050266 0.84818522]\n",
            " [0.62359609 0.77523827 0.60736945 0.92851068 0.85673595 0.75895664\n",
            "  0.66629846 0.82434364 1.13602483 1.14369657 0.15848629 0.77532436\n",
            "  0.39693072 0.83831312 0.92517588 0.61628047 0.57716952 0.51564923\n",
            "  0.8908048  0.28586583 0.7588731  0.43291786 0.38603261 0.10207885\n",
            "  0.24198568 0.52119872 0.40578925 1.10887936 0.70754427 0.73167297\n",
            "  0.         0.59239098 0.57067704 0.7590905  0.90963406 0.63040307\n",
            "  0.41123518 0.34127969 0.62990404 0.78755019 0.85397038 0.91538513\n",
            "  0.6201722  0.68092804 0.63341549 1.01913333 0.6798624  0.80634028\n",
            "  0.59731691 0.92432426 0.64869689 1.10681627 0.87421574 1.0141085\n",
            "  1.07914695 1.01778414 0.63455692 0.53350514 0.84535916 0.54152491\n",
            "  0.75609709 0.75956949 0.55459479 0.70740788 0.69704231 0.76679781\n",
            "  0.58153946 0.50949629 1.00070556 0.8309445  0.55822332 0.44227739\n",
            "  0.22425874 0.54910019 0.95961851 0.7969321  0.78313687 0.68718026\n",
            "  0.7474403  0.93354796 0.24594021 0.49188576 1.07909288 1.18110008\n",
            "  0.65372468 0.94234689 0.81159337 0.9297535  0.31366171 0.81995508\n",
            "  1.07621891 0.41304753 0.60630057 0.96170028 0.560207   0.77172263\n",
            "  1.17711488 0.93370966 0.49937218 1.1006764 ]\n",
            " [0.11919925 0.26750282 0.56963667 0.34169912 0.43156054 0.51824405\n",
            "  0.27633658 0.33141178 0.54387492 0.55369107 0.43741141 0.46166425\n",
            "  0.21324204 0.44478624 0.44049015 0.12358441 0.08064066 0.319686\n",
            "  0.45568726 0.37448485 0.16816027 0.47160237 0.20893518 0.56376798\n",
            "  0.36641356 0.40684672 0.42268357 0.52003622 0.16867382 0.38193908\n",
            "  0.59239098 0.         0.25595521 0.28543974 0.35482872 0.1190207\n",
            "  0.19599308 0.36092903 0.25718864 0.2344815  0.52459424 0.49410645\n",
            "  0.24770255 0.60087835 0.39821834 0.46844468 0.30014627 0.40456313\n",
            "  0.11188682 0.66567716 0.36168537 0.51507342 0.42011048 0.44717289\n",
            "  0.49682176 0.44063184 0.23385341 0.13898887 0.25560358 0.19678931\n",
            "  0.32222363 0.22036863 0.34067815 0.18833537 0.11144947 0.23399482\n",
            "  0.45037128 0.21837244 0.5612501  0.60263747 0.12007792 0.17047203\n",
            "  0.45405201 0.05044278 0.38138478 0.38904874 0.5145651  0.34787191\n",
            "  0.40839138 0.47858167 0.36002862 0.15204468 0.48832948 0.59309657\n",
            "  0.06208081 0.44660774 0.39718395 0.60360972 0.32811306 0.2500017\n",
            "  0.48823546 0.36581123 0.54220368 0.41401218 0.46027018 0.46195452\n",
            "  0.58956115 0.41906862 0.32908655 0.57410481]\n",
            " [0.15936653 0.22845965 0.32011762 0.52043905 0.68684811 0.27562584\n",
            "  0.09607744 0.5814289  0.65850198 0.64914655 0.4515204  0.24179143\n",
            "  0.21481116 0.700737   0.35634689 0.14980806 0.32705514 0.52842549\n",
            "  0.32117841 0.28695457 0.36376632 0.2672712  0.30050079 0.50168335\n",
            "  0.42154785 0.16790627 0.58169468 0.61165059 0.4184933  0.63423328\n",
            "  0.57067704 0.25595521 0.         0.54016077 0.57653274 0.3747609\n",
            "  0.32527048 0.49055918 0.50435821 0.27448734 0.77892982 0.74876985\n",
            "  0.49370071 0.34553279 0.14412719 0.68434986 0.55198322 0.66049519\n",
            "  0.36297634 0.43846151 0.60275672 0.62634285 0.6731392  0.48231513\n",
            "  0.67165131 0.62967447 0.4837726  0.12557026 0.43679241 0.06521518\n",
            "  0.57817503 0.4647344  0.08991702 0.44136401 0.33775394 0.47953161\n",
            "  0.19809063 0.43031827 0.43267796 0.3625426  0.35677676 0.32360205\n",
            "  0.36298354 0.27112784 0.44946016 0.22821099 0.7624387  0.59705819\n",
            "  0.19706329 0.36299557 0.33202368 0.14509641 0.63608221 0.67616042\n",
            "  0.2892745  0.37506604 0.65310663 0.85877366 0.4322756  0.31964878\n",
            "  0.57828187 0.18869308 0.29111333 0.63603151 0.21247302 0.24017347\n",
            "  0.67090561 0.65793577 0.10583218 0.53713388]\n",
            " [0.38927247 0.48027261 0.8549779  0.27868043 0.14693807 0.79124044\n",
            "  0.5449931  0.06548078 0.50688808 0.53999074 0.60337204 0.72457022\n",
            "  0.46022305 0.16724592 0.62813623 0.39691344 0.22948622 0.2800996\n",
            "  0.67302682 0.61655903 0.235787   0.74777941 0.40225674 0.76381964\n",
            "  0.51781778 0.69155403 0.4305212  0.51972775 0.12570995 0.15109622\n",
            "  0.7590905  0.28543974 0.54016077 0.         0.18540823 0.17076371\n",
            "  0.36456049 0.43488468 0.13852521 0.41185362 0.26124306 0.20871109\n",
            "  0.14521586 0.88565247 0.68007674 0.27393423 0.11141844 0.12988207\n",
            "  0.19396218 0.92475982 0.19949763 0.49016986 0.1360915  0.53260368\n",
            "  0.37803616 0.31220909 0.12627739 0.42388849 0.2511598  0.48221925\n",
            "  0.05345127 0.10078339 0.62603212 0.09967972 0.21752934 0.0882471\n",
            "  0.73576336 0.24998849 0.76033738 0.87217785 0.22239027 0.33520476\n",
            "  0.68568528 0.28599113 0.45551284 0.63096034 0.28439056 0.15064372\n",
            "  0.67091007 0.68033998 0.57402724 0.43020344 0.41753818 0.58640117\n",
            "  0.25543486 0.62403948 0.11823664 0.33201989 0.44629847 0.39201734\n",
            "  0.49881303 0.64021972 0.82763869 0.21944946 0.74560311 0.72579359\n",
            "  0.58575196 0.17533995 0.61325322 0.69833551]\n",
            " [0.41745217 0.44140829 0.89567349 0.12449111 0.24053924 0.78652901\n",
            "  0.54955225 0.13669441 0.32994989 0.36800435 0.75127412 0.70773074\n",
            "  0.56383287 0.28326838 0.55054407 0.42727713 0.33765305 0.46131873\n",
            "  0.61387182 0.72605892 0.21314103 0.8213633  0.53093271 0.89994452\n",
            "  0.66838647 0.74226265 0.61115392 0.35350058 0.20318608 0.32173406\n",
            "  0.90963406 0.35482872 0.57653274 0.18540823 0.         0.28028757\n",
            "  0.49999261 0.60380888 0.31890639 0.36364669 0.38341765 0.26959216\n",
            "  0.32329479 0.91187518 0.70024764 0.11384932 0.29678332 0.26437916\n",
            "  0.3130352  0.89375448 0.38336771 0.31764989 0.19849069 0.40394085\n",
            "  0.19264295 0.12682228 0.30083031 0.48423223 0.15833129 0.53193006\n",
            "  0.22629584 0.15007883 0.66644954 0.20253572 0.24667324 0.1433878\n",
            "  0.77314122 0.41342999 0.68049303 0.85832963 0.3516055  0.46884913\n",
            "  0.80303148 0.38032299 0.3324125  0.5973256  0.43633625 0.33250885\n",
            "  0.65694039 0.60830753 0.69990569 0.50545784 0.23677598 0.41425819\n",
            "  0.2992552  0.5397724  0.24761168 0.42961701 0.60429727 0.3265443\n",
            "  0.33850289 0.71786669 0.86598468 0.05988046 0.78896426 0.71014286\n",
            "  0.41450762 0.10546071 0.66905651 0.57512524]\n",
            " [0.23346917 0.35877582 0.6858246  0.30812162 0.31473548 0.63602215\n",
            "  0.39205431 0.22396653 0.53433857 0.55435427 0.47191863 0.57647023\n",
            "  0.29451909 0.32611233 0.525207   0.23942495 0.06097269 0.24616184\n",
            "  0.55322854 0.45462084 0.16484614 0.57737761 0.2510195  0.61998415\n",
            "  0.39033783 0.52169761 0.37756796 0.52517532 0.07723956 0.26475008\n",
            "  0.63040307 0.1190207  0.3747609  0.17076371 0.28028757 0.\n",
            "  0.2198157  0.34288413 0.1476018  0.30634476 0.40589355 0.37809308\n",
            "  0.14020634 0.71912252 0.51723903 0.39215025 0.18399859 0.28580262\n",
            "  0.03315038 0.77993888 0.25462637 0.50952465 0.3068183  0.48684891\n",
            "  0.4514908  0.38849746 0.12168378 0.25482425 0.23586306 0.31440047\n",
            "  0.20380668 0.13078251 0.45835281 0.08292053 0.10637914 0.14027882\n",
            "  0.56778898 0.15994136 0.65268876 0.71971138 0.07277727 0.18865839\n",
            "  0.52815373 0.11544849 0.41275304 0.49571333 0.39978303 0.2335892\n",
            "  0.52282991 0.56999317 0.42146004 0.2594591  0.46227807 0.59798932\n",
            "  0.11109115 0.52702614 0.27889993 0.48462198 0.33138458 0.30477379\n",
            "  0.49675874 0.46993984 0.65897053 0.33499194 0.57650926 0.57705609\n",
            "  0.59557086 0.32265804 0.44316    0.63439504]\n",
            " [0.273267   0.43983739 0.57428321 0.51901702 0.48673378 0.5979948\n",
            "  0.39281922 0.42742238 0.7341784  0.74697708 0.25285685 0.56606413\n",
            "  0.13259416 0.48135315 0.61155136 0.27064503 0.16612123 0.2175369\n",
            "  0.60891928 0.26097214 0.3536562  0.42675463 0.04166144 0.4018871\n",
            "  0.17430264 0.41314145 0.25805125 0.7141505  0.29705319 0.38611311\n",
            "  0.41123518 0.19599308 0.32527048 0.36456049 0.49999261 0.2198157\n",
            "  0.         0.17555761 0.25747853 0.4233072  0.53073038 0.55034384\n",
            "  0.24583845 0.62573696 0.45955133 0.61117084 0.31290921 0.44316711\n",
            "  0.18695805 0.76352153 0.32497766 0.70649434 0.4932457  0.64209656\n",
            "  0.6681571  0.60655348 0.25121556 0.21359648 0.43810361 0.2629849\n",
            "  0.37523942 0.35009434 0.37862476 0.29923472 0.29002206 0.35840727\n",
            "  0.47414417 0.13994779 0.72035641 0.68486087 0.14883657 0.03115791\n",
            "  0.32323616 0.14682004 0.57733001 0.52702222 0.48834389 0.3409921\n",
            "  0.51829225 0.64027608 0.20977903 0.18147333 0.67129393 0.78742187\n",
            "  0.25255874 0.62173526 0.44321866 0.6133422  0.13307956 0.44412402\n",
            "  0.68283696 0.32401809 0.55333026 0.55382213 0.4722808  0.56474654\n",
            "  0.78407954 0.53379515 0.33961453 0.76106138]\n",
            " [0.44843505 0.61472614 0.69765427 0.6503976  0.51835942 0.75568215\n",
            "  0.56506037 0.50008749 0.87697711 0.89541808 0.20526195 0.73228589\n",
            "  0.2789609  0.49783239 0.78690314 0.44607401 0.30781943 0.17449442\n",
            "  0.7839817  0.33480676 0.50064953 0.52976708 0.1907105  0.37667364\n",
            "  0.13147516 0.54831958 0.10104486 0.86488947 0.41375686 0.39085258\n",
            "  0.34127969 0.36092903 0.49055918 0.43488468 0.60380888 0.34288413\n",
            "  0.17555761 0.         0.29860385 0.59401094 0.51392156 0.57549391\n",
            "  0.29037424 0.7579584  0.61533314 0.70589477 0.34418781 0.46708475\n",
            "  0.31179709 0.92458986 0.30741722 0.85161647 0.53906229 0.80707775\n",
            "  0.78811992 0.72310856 0.30870894 0.38708825 0.57808242 0.43176589\n",
            "  0.42339955 0.45840422 0.53050642 0.40495629 0.43669021 0.46186731\n",
            "  0.61345984 0.19054498 0.89566868 0.84151036 0.27361749 0.1931131\n",
            "  0.36118516 0.31051724 0.73863016 0.70074309 0.44708898 0.34689046\n",
            "  0.68679354 0.81578139 0.25531703 0.35171306 0.8045556  0.93812462\n",
            "  0.40992291 0.79672402 0.47339728 0.59132637 0.06513417 0.61080057\n",
            "  0.83517729 0.44251414 0.6815099  0.64938391 0.60586743 0.73054883\n",
            "  0.93536119 0.60977154 0.48377267 0.93327833]\n",
            " [0.37596243 0.50626923 0.80139584 0.39348324 0.23164189 0.77380781\n",
            "  0.53350874 0.20264238 0.62615436 0.65431283 0.47739677 0.71885277\n",
            "  0.3746839  0.22387494 0.6713577  0.38074401 0.17866208 0.14249939\n",
            "  0.70082589 0.5182464  0.29384908 0.6726296  0.29858714 0.64329362\n",
            "  0.39151479 0.63597705 0.29272929 0.62985971 0.17112825 0.13351232\n",
            "  0.62990404 0.25718864 0.50435821 0.13852521 0.31890639 0.1476018\n",
            "  0.25747853 0.29860385 0.         0.45154515 0.28074916 0.29422598\n",
            "  0.01179533 0.8420475  0.64847208 0.41239441 0.05545284 0.18596264\n",
            "  0.14532846 0.92285669 0.10703782 0.60594509 0.24462936 0.61589327\n",
            "  0.51046517 0.44432358 0.02707513 0.37937122 0.34302831 0.44050612\n",
            "  0.12619963 0.1920384  0.58157679 0.14774128 0.24653713 0.18892246\n",
            "  0.68861446 0.12366248 0.79972113 0.85892956 0.14814686 0.23272454\n",
            "  0.57948932 0.23323283 0.53941208 0.64230073 0.25838524 0.09289095\n",
            "  0.66555418 0.71713696 0.46447989 0.3721585  0.54189783 0.70004491\n",
            "  0.25869207 0.67220122 0.18714524 0.36307628 0.31631493 0.44549393\n",
            "  0.60515522 0.56588798 0.77661187 0.35744444 0.69352135 0.7191356\n",
            "  0.69861749 0.31174559 0.55742624 0.77152818]\n",
            " [0.16395566 0.0779491  0.56713659 0.27246889 0.54769075 0.42731264\n",
            "  0.20954606 0.42440314 0.38403817 0.3763287  0.64243745 0.34549084\n",
            "  0.3907042  0.57680678 0.22022288 0.17142388 0.30360534 0.5452274\n",
            "  0.26166515 0.52651106 0.1766337  0.54173863 0.42602502 0.73853694\n",
            "  0.58287544 0.43668024 0.65684889 0.3390264  0.29396717 0.55012423\n",
            "  0.78755019 0.2344815  0.27448734 0.41185362 0.36364669 0.30634476\n",
            "  0.4233072  0.59401094 0.45154515 0.         0.67308273 0.59925211\n",
            "  0.44538384 0.56906871 0.36191414 0.45437382 0.47748602 0.5413224\n",
            "  0.32074218 0.53070467 0.55787731 0.35189985 0.51904074 0.22656276\n",
            "  0.41075756 0.37956126 0.42466748 0.25498985 0.20553583 0.26397742\n",
            "  0.4632775  0.31238402 0.35544002 0.32238715 0.20588413 0.3265996\n",
            "  0.44801935 0.44729568 0.3506399  0.49563712 0.34493941 0.40138446\n",
            "  0.60866411 0.28430483 0.17834105 0.23371666 0.68849408 0.52887497\n",
            "  0.29638111 0.2692912  0.54240507 0.2959577  0.36589719 0.40623202\n",
            "  0.19920574 0.22075719 0.52844866 0.74156212 0.55628689 0.04674066\n",
            "  0.3054721  0.45774428 0.53639553 0.4172008  0.46974778 0.34819059\n",
            "  0.4013459  0.46370404 0.38027243 0.3396648 ]\n",
            " [0.63835215 0.74109176 1.08157639 0.50438355 0.14289057 1.04164151\n",
            "  0.79664974 0.26105548 0.7068133  0.74829631 0.71628322 0.97951258\n",
            "  0.65398029 0.10148231 0.88855095 0.64481482 0.45231021 0.34262396\n",
            "  0.93424188 0.79047638 0.4968173  0.95245751 0.57239179 0.88787437\n",
            "  0.6340568  0.91613949 0.45606042 0.73623025 0.3835393  0.14723695\n",
            "  0.85397038 0.52459424 0.77892982 0.26124306 0.38341765 0.40589355\n",
            "  0.53073038 0.51392156 0.28074916 0.67308273 0.         0.13600168\n",
            "  0.29236989 1.12044325 0.92233627 0.407011   0.22842987 0.13214997\n",
            "  0.41602833 1.18160083 0.21108808 0.69825464 0.1859646  0.77806593\n",
            "  0.54777648 0.49179598 0.29728705 0.65569602 0.50145022 0.71657397\n",
            "  0.21090433 0.36116695 0.85936666 0.35555317 0.47604389 0.34751261\n",
            "  0.96745257 0.3908591  1.02091722 1.12472921 0.42717484 0.50927068\n",
            "  0.84462247 0.50950436 0.702513   0.89022174 0.08912258 0.19039674\n",
            "  0.92573552 0.94132277 0.72890468 0.65168125 0.61118662 0.79393158\n",
            "  0.50788956 0.88364385 0.14630412 0.08270532 0.55507991 0.65215841\n",
            "  0.72192053 0.84613036 1.05638964 0.37771562 0.97330758 0.98040352\n",
            "  0.7947459  0.29747895 0.83743509 0.94764029]\n",
            " [0.59648194 0.67281204 1.06349106 0.39400726 0.06433597 0.99628359\n",
            "  0.75025704 0.17556187 0.58079187 0.62427721 0.76734041 0.92660944\n",
            "  0.65936573 0.07880822 0.80537508 0.60444157 0.43466197 0.40156697\n",
            "  0.85987904 0.80979205 0.42455595 0.95222893 0.59079197 0.93563852\n",
            "  0.68197077 0.89972543 0.53739939 0.61535076 0.33177451 0.18575672\n",
            "  0.91538513 0.49410645 0.74876985 0.20871109 0.26959216 0.37809308\n",
            "  0.55034384 0.57549391 0.29422598 0.59925211 0.13600168 0.\n",
            "  0.30551608 1.09429199 0.88808425 0.27467661 0.23977895 0.10947858\n",
            "  0.39810364 1.12391802 0.27227652 0.5749071  0.08023642 0.67307042\n",
            "  0.41752151 0.36529867 0.29931613 0.63232797 0.4085569  0.6908956\n",
            "  0.17805119 0.2931821  0.8347368  0.30755848 0.42047517 0.27802864\n",
            "  0.94446106 0.4175413  0.93743031 1.07566775 0.42092821 0.5238624\n",
            "  0.87326424 0.49219633 0.60020929 0.82735932 0.21696991 0.22862236\n",
            "  0.8732951  0.86103426 0.75854412 0.63711948 0.48507173 0.66909285\n",
            "  0.46239867 0.79747473 0.10718632 0.16144573 0.60455092 0.5711901\n",
            "  0.60407365 0.84455383 1.03626555 0.25204983 0.95412144 0.92813398\n",
            "  0.67037374 0.17176025 0.82124303 0.84418487]\n",
            " [0.3666788  0.49896517 0.78997202 0.39462182 0.24273004 0.76365833\n",
            "  0.52391553 0.20997127 0.62737297 0.65478543 0.46717656 0.70930974\n",
            "  0.36289893 0.23552534 0.66491518 0.37128688 0.1686354  0.13826462\n",
            "  0.69326481 0.50655356 0.29010725 0.66087207 0.28690234 0.63262156\n",
            "  0.38127259 0.6245656  0.28786443 0.62981339 0.16868993 0.14514218\n",
            "  0.6201722  0.24770255 0.49370071 0.14521586 0.32329479 0.14020634\n",
            "  0.24583845 0.29037424 0.01179533 0.44538384 0.29236989 0.30551608\n",
            "  0.         0.83087977 0.63782634 0.41861604 0.06716916 0.19746583\n",
            "  0.13601467 0.9133509  0.1148943  0.6066885  0.25484673 0.61292144\n",
            "  0.51422532 0.44810817 0.02445515 0.3685843  0.34189282 0.42971249\n",
            "  0.1360583  0.19285515 0.57052217 0.14656106 0.24106313 0.19065797\n",
            "  0.67740683 0.11283613 0.79283072 0.84891329 0.13719018 0.2209703\n",
            "  0.56801508 0.22262385 0.53667289 0.63379164 0.26880946 0.10398311\n",
            "  0.65608671 0.71016569 0.45308221 0.36090562 0.54404432 0.7003669\n",
            "  0.25119111 0.6661255  0.19837733 0.37474143 0.30651715 0.44041208\n",
            "  0.60467879 0.55415567 0.76525972 0.36324647 0.68217357 0.70954467\n",
            "  0.69883568 0.31946622 0.54605108 0.76736999]\n",
            " [0.50131773 0.49681189 0.07422085 0.83905239 1.03224933 0.17895015\n",
            "  0.36398323 0.92641545 0.9270331  0.90414902 0.63363105 0.26179228\n",
            "  0.49369275 1.04520882 0.51643713 0.492495   0.66842671 0.84261353\n",
            "  0.43560522 0.44041502 0.69937401 0.2506311  0.58953664 0.58197492\n",
            "  0.64861832 0.21268791 0.85826976 0.86793649 0.76381903 0.97425634\n",
            "  0.68092804 0.60087835 0.34553279 0.88565247 0.91187518 0.71912252\n",
            "  0.62573696 0.7579584  0.8420475  0.56906871 1.12044325 1.09429199\n",
            "  0.83087977 0.         0.2116309  1.01458434 0.89223882 1.00485745\n",
            "  0.70503515 0.27924969 0.93462888 0.89554156 1.01858084 0.71541745\n",
            "  0.97948186 0.94762196 0.82344839 0.46514787 0.76236014 0.40480454\n",
            "  0.9228895  0.80898505 0.26117044 0.78689153 0.68090369 0.82392947\n",
            "  0.15366563 0.75297726 0.49897284 0.19364792 0.69403677 0.63502488\n",
            "  0.46519569 0.61096954 0.71376788 0.37391202 1.09750739 0.93486253\n",
            "  0.28985612 0.48055957 0.52112146 0.47011006 0.92925312 0.91834067\n",
            "  0.63399267 0.54099188 0.99794082 1.20127276 0.69300547 0.61511718\n",
            "  0.83752122 0.31603499 0.07799724 0.97022794 0.15363007 0.25702586\n",
            "  0.91224853 0.99900634 0.28762422 0.68874772]\n",
            " [0.29216936 0.29383152 0.205843   0.62914696 0.82701011 0.14044319\n",
            "  0.15355659 0.71797971 0.73234826 0.71431922 0.54054565 0.14276998\n",
            "  0.33662208 0.84256094 0.3555042  0.28383852 0.47094019 0.66880901\n",
            "  0.29059835 0.35188774 0.48784258 0.23890661 0.42988664 0.54864017\n",
            "  0.52872508 0.12105241 0.71086084 0.67719517 0.55648456 0.77807156\n",
            "  0.63341549 0.39821834 0.14412719 0.68007674 0.70024764 0.51723903\n",
            "  0.45955133 0.61533314 0.64847208 0.36191414 0.92233627 0.88808425\n",
            "  0.63782634 0.2116309  0.         0.80323786 0.69583634 0.80247575\n",
            "  0.50664732 0.31065549 0.7466675  0.7003189  0.81119856 0.53110969\n",
            "  0.77250439 0.73814978 0.62775525 0.26954156 0.55121407 0.20864919\n",
            "  0.71987642 0.59985108 0.0861851  0.58063058 0.47129321 0.61491056\n",
            "  0.09377931 0.57234083 0.38691614 0.2262978  0.5008923  0.46166334\n",
            "  0.41049659 0.41523925 0.51787479 0.20405609 0.90656449 0.74114533\n",
            "  0.12744507 0.33824989 0.41817745 0.28491724 0.7262459  0.73376723\n",
            "  0.42596782 0.37890477 0.79454558 1.00177282 0.55345974 0.40850959\n",
            "  0.64529282 0.22037082 0.17508016 0.75860887 0.12072465 0.13887365\n",
            "  0.7279428  0.78798128 0.13964133 0.54032105]\n",
            " [0.52621919 0.5320356  1.001827   0.18532069 0.27212723 0.88148219\n",
            "  0.65075174 0.2119076  0.31139492 0.35755233 0.86108917 0.79968017\n",
            "  0.67766127 0.31717502 0.61958412 0.53621143 0.45048667 0.55389536\n",
            "  0.69040982 0.83988106 0.32094783 0.93318936 0.64315995 1.01213056\n",
            "  0.77733723 0.85120595 0.70426879 0.35462859 0.31554303 0.38499201\n",
            "  1.01913333 0.46844468 0.68434986 0.27393423 0.11384932 0.39215025\n",
            "  0.61117084 0.70589477 0.41239441 0.45437382 0.407011   0.27467661\n",
            "  0.41861604 1.01458434 0.80323786 0.         0.38040157 0.31224918\n",
            "  0.42450291 0.97781362 0.45919843 0.31033047 0.22823643 0.4452143\n",
            "  0.14389065 0.10306256 0.39811489 0.59631347 0.25242419 0.64233759\n",
            "  0.30165047 0.26136983 0.77412108 0.31211759 0.35946901 0.25280016\n",
            "  0.87937078 0.51697563 0.74452586 0.94936185 0.46237685 0.58010234\n",
            "  0.91668543 0.49408376 0.38396201 0.68523579 0.4764857  0.40659773\n",
            "  0.75069826 0.67852828 0.81289225 0.61861075 0.21728351 0.40049434\n",
            "  0.41206904 0.60545465 0.29628843 0.43286706 0.71088576 0.41265886\n",
            "  0.35007903 0.83041722 0.97180727 0.05743786 0.8962866  0.80246758\n",
            "  0.40247193 0.11509568 0.77925231 0.61257129]\n",
            " [0.41712155 0.53731188 0.8531924  0.38579438 0.17808375 0.81837831\n",
            "  0.57560361 0.16854536 0.61634209 0.64787337 0.5291247  0.76033344\n",
            "  0.42944978 0.16846339 0.69763585 0.42271119 0.22492812 0.17725826\n",
            "  0.73245339 0.57369903 0.31041193 0.72698903 0.35403891 0.69633184\n",
            "  0.44341726 0.68776296 0.32605882 0.62596818 0.18582021 0.08225175\n",
            "  0.6798624  0.30014627 0.55198322 0.11141844 0.29678332 0.18399859\n",
            "  0.31290921 0.34418781 0.05545284 0.47748602 0.22842987 0.23977895\n",
            "  0.06716916 0.89223882 0.69583634 0.38040157 0.         0.13092316\n",
            "  0.18933247 0.96390556 0.09064248 0.59846075 0.19496295 0.62585245\n",
            "  0.48936987 0.42360061 0.06885851 0.42794276 0.34671568 0.48897259\n",
            "  0.08111294 0.19086669 0.63127708 0.1584537  0.27185598 0.18356786\n",
            "  0.73912243 0.17781117 0.82784782 0.90271315 0.19875897 0.28812968\n",
            "  0.63466878 0.28154599 0.54868322 0.67873094 0.2158695  0.05138908\n",
            "  0.706735   0.74584734 0.51951717 0.42325208 0.52818332 0.69412686\n",
            "  0.29275509 0.69671067 0.13313615 0.31013706 0.36698767 0.46641671\n",
            "  0.60340691 0.62001104 0.82796001 0.32797462 0.74487878 0.76086163\n",
            "  0.69319212 0.27353156 0.60903319 0.78655147]\n",
            " [0.51428238 0.6101518  0.97017015 0.38017022 0.05269702 0.9175173\n",
            "  0.67156165 0.13290546 0.59371347 0.6323832  0.65787826 0.85270687\n",
            "  0.55608558 0.04043685 0.75640875 0.52135735 0.33814942 0.29389153\n",
            "  0.80270608 0.70353165 0.36488471 0.85165031 0.48402572 0.82619746\n",
            "  0.57249268 0.80528389 0.43379651 0.61721168 0.25424228 0.08225157\n",
            "  0.80634028 0.40456313 0.66049519 0.12988207 0.26437916 0.28580262\n",
            "  0.44316711 0.46708475 0.18596264 0.5413224  0.13214997 0.10947858\n",
            "  0.19746583 1.00485745 0.80247575 0.31224918 0.13092316 0.\n",
            "  0.30125202 1.05368368 0.16856829 0.58202904 0.08744304 0.64938607\n",
            "  0.44382943 0.38271758 0.19352127 0.54006447 0.37072193 0.60006524\n",
            "  0.08281316 0.22913874 0.74392724 0.22688407 0.34665716 0.21538755\n",
            "  0.85315896 0.3086884  0.88878539 0.99942312 0.31966015 0.41754691\n",
            "  0.76545179 0.39612217 0.57321269 0.76059183 0.1719653  0.12106573\n",
            "  0.79896774 0.80928971 0.65039349 0.54086732 0.49933353 0.67862262\n",
            "  0.38167647 0.75151672 0.01679337 0.20261755 0.4951213  0.5200112\n",
            "  0.60045516 0.74415532 0.94381869 0.27148551 0.86106018 0.85379755\n",
            "  0.67888653 0.19715707 0.72646957 0.81802782]\n",
            " [0.23068009 0.36765387 0.66896806 0.34033349 0.3340852  0.62945618\n",
            "  0.38822337 0.2508453  0.56518779 0.58412285 0.43883675 0.57353716\n",
            "  0.26694627 0.34168472 0.537176   0.2354175  0.03689792 0.22546531\n",
            "  0.56043804 0.42557208 0.19149136 0.55451435 0.21896266 0.58770193\n",
            "  0.35718746 0.50403188 0.35074859 0.55430692 0.11023909 0.27149933\n",
            "  0.59731691 0.11188682 0.36297634 0.19396218 0.3130352  0.03315038\n",
            "  0.18695805 0.31179709 0.14532846 0.32074218 0.41602833 0.39810364\n",
            "  0.13601467 0.70503515 0.50664732 0.42450291 0.18933247 0.30125202\n",
            "  0.         0.77753083 0.25048922 0.53989346 0.32966193 0.51019592\n",
            "  0.48453241 0.42162828 0.12213462 0.23991352 0.2662923  0.30062456\n",
            "  0.22113973 0.16321383 0.4438656  0.113536   0.12966914 0.17205245\n",
            "  0.55261367 0.13314255 0.66257323 0.7141966  0.03973639 0.15581417\n",
            "  0.49790167 0.09487102 0.43728156 0.49839628 0.40283155 0.23619874\n",
            "  0.52022593 0.57970845 0.39005326 0.2397654  0.4943958  0.62733766\n",
            "  0.12168343 0.54040039 0.29590571 0.49633086 0.29863126 0.32344769\n",
            "  0.52534827 0.44685789 0.64278925 0.36724426 0.55993546 0.57383923\n",
            "  0.62477107 0.3522889  0.42521997 0.65371697]\n",
            " [0.54709586 0.4537917  0.34680644 0.79252584 1.06826243 0.17094758\n",
            "  0.38949582 0.94840417 0.80859649 0.77403901 0.84658127 0.20407044\n",
            "  0.64564093 1.0919621  0.37530844 0.54211333 0.74514628 0.9645256\n",
            "  0.29319796 0.65350756 0.70007039 0.49596998 0.73683059 0.83133138\n",
            "  0.8390604  0.40552895 1.01853197 0.74244715 0.79946835 1.04444031\n",
            "  0.92432426 0.66567716 0.43846151 0.92475982 0.89375448 0.77993888\n",
            "  0.76352153 0.92458986 0.92285669 0.53070467 1.18160083 1.12391802\n",
            "  0.9133509  0.27924969 0.31065549 0.97781362 0.96390556 1.05368368\n",
            "  0.77753083 0.         1.02685024 0.78053635 1.04391841 0.58731265\n",
            "  0.90508018 0.89131249 0.8991548  0.55874817 0.73542512 0.50228023\n",
            "  0.97164041 0.83127002 0.39676124 0.82685718 0.70723638 0.84630408\n",
            "  0.342933   0.86442625 0.29330917 0.0937731  0.78086787 0.76184496\n",
            "  0.70050671 0.69513905 0.6152802  0.29753797 1.17947706 1.01286788\n",
            "  0.2573212  0.31972689 0.72510041 0.58340859 0.8387594  0.77494684\n",
            "  0.67389343 0.39634721 1.04294244 1.25630005 0.86345357 0.56758888\n",
            "  0.71804233 0.51902809 0.3342339  0.94551254 0.3643675  0.20400866\n",
            "  0.768615   0.994403   0.44864825 0.50076566]\n",
            " [0.48085387 0.61330111 0.88998275 0.47617344 0.22125955 0.87507627\n",
            "  0.63736254 0.25019387 0.70609332 0.73819045 0.50681186 0.82278136\n",
            "  0.45312653 0.19352061 0.77790272 0.48515623 0.28172388 0.13334829\n",
            "  0.80785491 0.58205798 0.39619268 0.75094058 0.36640584 0.67800349\n",
            "  0.4236811  0.72528058 0.26557433 0.71653876 0.27163441 0.08693512\n",
            "  0.64869689 0.36168537 0.60275672 0.19949763 0.38336771 0.25462637\n",
            "  0.32497766 0.30741722 0.10703782 0.55787731 0.21108808 0.27227652\n",
            "  0.1148943  0.93462888 0.7466675  0.45919843 0.09064248 0.16856829\n",
            "  0.25048922 1.02685024 0.         0.68866029 0.25159088 0.71478909\n",
            "  0.57522674 0.50996366 0.13346641 0.47719053 0.43675028 0.53802262\n",
            "  0.15863743 0.2811517  0.67612035 0.24550501 0.35230415 0.27416974\n",
            "  0.78097399 0.18592012 0.90659637 0.96083326 0.24690072 0.30666446\n",
            "  0.6340428  0.33317468 0.63774957 0.7486377  0.16416212 0.05264924\n",
            "  0.76975485 0.82406037 0.51843902 0.46528155 0.6170276  0.78448795\n",
            "  0.36571708 0.77833657 0.17899291 0.29227086 0.34473706 0.55023178\n",
            "  0.69404921 0.64638686 0.86655424 0.4095973  0.78375329 0.82289682\n",
            "  0.7836106  0.34753357 0.64767713 0.87374827]\n",
            " [0.50062211 0.40792866 0.90544814 0.21291434 0.55581922 0.73150625\n",
            "  0.55472595 0.452533   0.03223648 0.05036176 0.95248342 0.64324126\n",
            "  0.71627372 0.59964829 0.4056966  0.50998736 0.54625397 0.74130512\n",
            "  0.49007578 0.86632784 0.35335736 0.89352622 0.7237581  1.07120494\n",
            "  0.88001075 0.78640347 0.88371317 0.04760847 0.44502806 0.63609437\n",
            "  1.10681627 0.51507342 0.62634285 0.49016986 0.31764989 0.50952465\n",
            "  0.70649434 0.85161647 0.60594509 0.35189985 0.69825464 0.5749071\n",
            "  0.6066885  0.89554156 0.7003189  0.31033047 0.59846075 0.58202904\n",
            "  0.53989346 0.78053635 0.68866029 0.         0.51229404 0.19330039\n",
            "  0.17301313 0.21052466 0.58228821 0.59203313 0.27368189 0.61237213\n",
            "  0.53792117 0.41393693 0.70536832 0.46183168 0.41758537 0.41757557\n",
            "  0.7912284  0.66827233 0.50505117 0.77874449 0.57808245 0.67765149\n",
            "  0.94885616 0.56096099 0.18250963 0.52454398 0.75398431 0.64081155\n",
            "  0.60648585 0.46093622 0.86883772 0.62904797 0.09350181 0.09674145\n",
            "  0.45487659 0.38419324 0.56526087 0.73616007 0.83314115 0.3076493\n",
            "  0.06265105 0.80858984 0.87481608 0.32285935 0.81497117 0.64734156\n",
            "  0.09685884 0.40334135 0.73215383 0.33012477]\n",
            " [0.51916091 0.59258934 0.98967485 0.32140451 0.04438094 0.91748069\n",
            "  0.6717012  0.09552938 0.52116223 0.56235412 0.72199813 0.84705936\n",
            "  0.59492096 0.08948637 0.72594806 0.52736289 0.36546354 0.36946483\n",
            "  0.77977983 0.74933074 0.34435963 0.88383204 0.53245121 0.88705313\n",
            "  0.63610196 0.82681718 0.51417274 0.55041312 0.25483558 0.16773031\n",
            "  0.87421574 0.42011048 0.6731392  0.1360915  0.19849069 0.3068183\n",
            "  0.4932457  0.53906229 0.24462936 0.51904074 0.1859646  0.08023642\n",
            "  0.25484673 1.01858084 0.81119856 0.22823643 0.19496295 0.08744304\n",
            "  0.32966193 1.04391841 0.25159088 0.51229404 0.         0.59871356\n",
            "  0.36470547 0.30669104 0.24365116 0.55896422 0.32990112 0.61657505\n",
            "  0.11908904 0.21381917 0.76002888 0.23205466 0.34184627 0.19862129\n",
            "  0.86978624 0.36741298 0.85813905 0.99636858 0.35619766 0.46512816\n",
            "  0.81621218 0.42208257 0.52470347 0.74722973 0.24862389 0.20083277\n",
            "  0.79383793 0.78134411 0.70292943 0.56619973 0.4256681  0.60804188\n",
            "  0.38523101 0.71843334 0.07361881 0.23289333 0.56080504 0.49130788\n",
            "  0.53668063 0.77624912 0.96202379 0.19294449 0.88032835 0.84864073\n",
            "  0.60881611 0.11422998 0.74871293 0.769477  ]\n",
            " [0.39051793 0.25385785 0.73239534 0.27955007 0.63764113 0.54578234\n",
            "  0.39759271 0.51725119 0.22143661 0.19053412 0.86843041 0.45765889\n",
            "  0.61726275 0.67660385 0.21301098 0.39788945 0.50320353 0.73293976\n",
            "  0.29803815 0.75026808 0.32374527 0.74352602 0.64877913 0.9637548\n",
            "  0.8066882  0.62950911 0.85967638 0.15635108 0.44482188 0.68339961\n",
            "  1.0141085  0.44717289 0.48231513 0.53260368 0.40394085 0.48684891\n",
            "  0.64209656 0.80707775 0.61589327 0.22656276 0.77806593 0.67307042\n",
            "  0.61292144 0.71541745 0.53110969 0.4452143  0.62585245 0.64938607\n",
            "  0.51019592 0.58731265 0.71478909 0.19330039 0.59871356 0.\n",
            "  0.33627463 0.34403611 0.58927366 0.48118816 0.28147312 0.48463485\n",
            "  0.58571281 0.43635431 0.55067664 0.46964051 0.38095068 0.446068\n",
            "  0.62440196 0.64310352 0.31463356 0.5881274  0.54222746 0.6175983\n",
            "  0.83183732 0.49750851 0.07725787 0.34152923 0.81590612 0.67494337\n",
            "  0.42573259 0.26765062 0.76885636 0.52240569 0.26076885 0.20334007\n",
            "  0.39792808 0.19104232 0.63363578 0.831563   0.77491759 0.19816526\n",
            "  0.13073693 0.67073403 0.70225835 0.43490529 0.65004106 0.46201862\n",
            "  0.19736404 0.50727614 0.58617413 0.17118457]\n",
            " [0.52284866 0.48320121 0.97718879 0.15628105 0.40908606 0.83012474\n",
            "  0.61944971 0.32589885 0.16942707 0.21716349 0.92095306 0.74398003\n",
            "  0.70980525 0.45416431 0.53342491 0.53301698 0.50205261 0.65248676\n",
            "  0.61214513 0.86971166 0.33027909 0.93398168 0.69405947 1.05917781\n",
            "  0.8411042  0.83904998 0.80162192 0.21974858 0.37606773 0.50947968\n",
            "  1.07914695 0.49682176 0.67165131 0.37803616 0.19264295 0.4514908\n",
            "  0.6681571  0.78811992 0.51046517 0.41075756 0.54777648 0.41752151\n",
            "  0.51422532 0.97948186 0.77250439 0.14389065 0.48936987 0.44382943\n",
            "  0.48453241 0.90508018 0.57522674 0.17301313 0.36470547 0.33627463\n",
            "  0.         0.06614215 0.49113868 0.60590354 0.24390127 0.64143912\n",
            "  0.4171382  0.32977734 0.75863909 0.38316869 0.38622321 0.32727246\n",
            "  0.85685354 0.59784903 0.6486986  0.88912811 0.52425013 0.63728911\n",
            "  0.95031197 0.53353313 0.29073187 0.6251423  0.6128691  0.52380345\n",
            "  0.69973245 0.59200082 0.85583893 0.63587533 0.08058856 0.25833636\n",
            "  0.43516929 0.51556767 0.42723502 0.57659266 0.7824954  0.36443135\n",
            "  0.22219416 0.83779441 0.9465069  0.17245087 0.87721124 0.74742983\n",
            "  0.26074761 0.25077857 0.77391999 0.49378639]\n",
            " [0.47650406 0.45526676 0.94095909 0.10944521 0.35091239 0.80523217\n",
            "  0.58459378 0.26143253 0.21556456 0.25928094 0.85939736 0.72090451\n",
            "  0.65385613 0.39565622 0.52626317 0.486697   0.44071955 0.58636589\n",
            "  0.60060203 0.81488686 0.27720209 0.88817801 0.63372076 1.00048397\n",
            "  0.77871573 0.79757614 0.73557429 0.25328047 0.31233664 0.44585987\n",
            "  1.01778414 0.44063184 0.62967447 0.31220909 0.12682228 0.38849746\n",
            "  0.60655348 0.72310856 0.44432358 0.37956126 0.49179598 0.36529867\n",
            "  0.44810817 0.94762196 0.73814978 0.10306256 0.42360061 0.38271758\n",
            "  0.42162828 0.89131249 0.50996366 0.21052466 0.30669104 0.34403611\n",
            "  0.06614215 0.         0.42506302 0.55588027 0.1941915  0.59507152\n",
            "  0.35227095 0.26472343 0.71811758 0.31822585 0.32927039 0.26169521\n",
            "  0.81943279 0.53268455 0.64814628 0.86876044 0.46125673 0.57554517\n",
            "  0.89468014 0.47492297 0.28641022 0.6037608  0.55323925 0.45880522\n",
            "  0.67417512 0.58532055 0.7976959  0.58368969 0.11980228 0.30381502\n",
            "  0.37977628 0.51067327 0.3659949  0.52620555 0.71877633 0.3347935\n",
            "  0.2472754  0.78951814 0.91046663 0.1141005  0.8384978  0.72404096\n",
            "  0.30518376 0.1946426  0.72972649 0.5101166 ]\n",
            " [0.35206505 0.47996869 0.78436679 0.37030865 0.23554364 0.75156185\n",
            "  0.5100873  0.19166692 0.60305985 0.63035262 0.48012925 0.69526406\n",
            "  0.3628559  0.23288132 0.64456481 0.35716357 0.15689117 0.1616578\n",
            "  0.6746873  0.51055503 0.26692801 0.65952365 0.29148837 0.64365838\n",
            "  0.3942769  0.61894365 0.31054047 0.60535828 0.14470267 0.15083321\n",
            "  0.63455692 0.23385341 0.4837726  0.12627739 0.30083031 0.12168378\n",
            "  0.25121556 0.30870894 0.02707513 0.42466748 0.29728705 0.29931613\n",
            "  0.02445515 0.82344839 0.62775525 0.39811489 0.06885851 0.19352127\n",
            "  0.12213462 0.8991548  0.13346641 0.58228821 0.24365116 0.58927366\n",
            "  0.49113868 0.42506302 0.         0.35940354 0.31753591 0.42048375\n",
            "  0.12470788 0.16852021 0.56254245 0.12217254 0.21951728 0.16661243\n",
            "  0.67029106 0.12513459 0.77313047 0.83632961 0.12992906 0.22456169\n",
            "  0.57439952 0.21297451 0.51289692 0.61712117 0.28072136 0.11406421\n",
            "  0.64183668 0.6905969  0.46022942 0.35439779 0.52003313 0.6759221\n",
            "  0.232657   0.6452816  0.19237526 0.37890972 0.32112028 0.41842155\n",
            "  0.58024185 0.55231471 0.75910433 0.34225652 0.67602451 0.69564059\n",
            "  0.6743855  0.3015205  0.54019976 0.74453442]\n",
            " [0.09230676 0.24528827 0.43116885 0.44995509 0.56934209 0.39980115\n",
            "  0.17939123 0.47030485 0.62316322 0.62315197 0.39284061 0.3572151\n",
            "  0.13837728 0.58046866 0.40901179 0.08385582 0.20340638 0.40578763\n",
            "  0.39775681 0.27451318 0.27920689 0.33714807 0.19820061 0.48397044\n",
            "  0.34296809 0.26787873 0.47137877 0.5867428  0.30724179 0.51015616\n",
            "  0.53350514 0.13898887 0.12557026 0.42388849 0.48423223 0.25482425\n",
            "  0.21359648 0.38708825 0.37937122 0.25498985 0.65569602 0.63232797\n",
            "  0.3685843  0.46514787 0.26954156 0.59631347 0.42794276 0.54006447\n",
            "  0.23991352 0.55874817 0.47719053 0.59203313 0.55896422 0.48118816\n",
            "  0.60590354 0.55588027 0.35940354 0.         0.36253246 0.06113524\n",
            "  0.45852481 0.35764499 0.20399779 0.32731992 0.23780828 0.37171253\n",
            "  0.3130969  0.30622743 0.51007736 0.48640362 0.23147946 0.20593796\n",
            "  0.35707201 0.14642903 0.43071341 0.3137138  0.63716996 0.4721959\n",
            "  0.30736375 0.43180509 0.28781152 0.04212245 0.58369078 0.65682056\n",
            "  0.18552702 0.42226788 0.53363228 0.7362301  0.33516848 0.29079677\n",
            "  0.55332127 0.23445936 0.40415503 0.54406428 0.32180681 0.35639311\n",
            "  0.6523152  0.55548541 0.19015362 0.57313359]\n",
            " [0.28235624 0.28342541 0.75133177 0.08762616 0.36479677 0.63055405\n",
            "  0.3984239  0.24103069 0.29898305 0.31872238 0.68848933 0.55043926\n",
            "  0.46735544 0.40062861 0.39760072 0.29254625 0.274499   0.4720485\n",
            "  0.45713612 0.62629758 0.08747711 0.69399079 0.45942539 0.81937116\n",
            "  0.61240029 0.60462607 0.61140836 0.290589   0.17469387 0.40193478\n",
            "  0.84535916 0.25560358 0.43679241 0.2511598  0.15833129 0.23586306\n",
            "  0.43810361 0.57808242 0.34302831 0.20553583 0.50145022 0.4085569\n",
            "  0.34189282 0.76236014 0.55121407 0.25242419 0.34671568 0.37072193\n",
            "  0.2662923  0.73542512 0.43675028 0.27368189 0.32990112 0.28147312\n",
            "  0.24390127 0.1941915  0.31753591 0.36253246 0.         0.40088584\n",
            "  0.30435586 0.15595399 0.52586214 0.19537806 0.14844129 0.16484438\n",
            "  0.62915386 0.39499342 0.52923118 0.70086754 0.30475059 0.40827956\n",
            "  0.70729118 0.29629044 0.20435321 0.43909549 0.53491957 0.39473286\n",
            "  0.50028602 0.4542283  0.6156316  0.39197623 0.23374084 0.36285778\n",
            "  0.19352586 0.38900538 0.35553107 0.56093261 0.56154261 0.16849497\n",
            "  0.26371322 0.5955949  0.72109139 0.21196092 0.64716265 0.55297977\n",
            "  0.36069409 0.26045968 0.53581227 0.44786234]\n",
            " [0.1186864  0.23578207 0.37315383 0.48706328 0.62828439 0.34070329\n",
            "  0.1359328  0.52652701 0.64414631 0.63961198 0.41137193 0.3031341\n",
            "  0.16273029 0.64042868 0.38562779 0.10849583 0.26426878 0.46345832\n",
            "  0.36280122 0.26651874 0.32191585 0.2931067  0.24105734 0.48166591\n",
            "  0.37238838 0.21220316 0.52057313 0.6024939  0.36315411 0.57120144\n",
            "  0.54152491 0.19678931 0.06521518 0.48221925 0.53193006 0.31440047\n",
            "  0.2629849  0.43176589 0.44050612 0.26397742 0.71657397 0.6908956\n",
            "  0.42971249 0.40480454 0.20864919 0.64233759 0.48897259 0.60006524\n",
            "  0.30062456 0.50228023 0.53802262 0.61237213 0.61657505 0.48463485\n",
            "  0.64143912 0.59507152 0.42048375 0.06113524 0.40088584 0.\n",
            "  0.51820549 0.41181196 0.14398443 0.38454149 0.28786898 0.42625686\n",
            "  0.25360081 0.36512133 0.47555581 0.42756314 0.29258844 0.25961224\n",
            "  0.34743147 0.2075191  0.44231301 0.27353599 0.69826274 0.53333055\n",
            "  0.25555796 0.40089325 0.29701983 0.08156626 0.61273116 0.67020841\n",
            "  0.2369881  0.4016599  0.59329093 0.79693841 0.37567308 0.30539446\n",
            "  0.56890994 0.19768591 0.34547669 0.59178167 0.26387316 0.30189653\n",
            "  0.66532008 0.60802145 0.13713966 0.5591657 ]\n",
            " [0.43147145 0.53032665 0.8892227  0.32814733 0.11371906 0.83473454\n",
            "  0.58882907 0.09157115 0.55328345 0.58801832 0.60319372 0.77029562\n",
            "  0.481389   0.12268904 0.68048456 0.43854693 0.25794711 0.25833736\n",
            "  0.72389784 0.63306644 0.28790099 0.7744358  0.41497102 0.76796503\n",
            "  0.51728474 0.72466726 0.40706684 0.56903046 0.17269025 0.09912497\n",
            "  0.75609709 0.32222363 0.57817503 0.05345127 0.22629584 0.20380668\n",
            "  0.37523942 0.42339955 0.12619963 0.4632775  0.21090433 0.17805119\n",
            "  0.1360583  0.9228895  0.71987642 0.30165047 0.08111294 0.08281316\n",
            "  0.22113973 0.97164041 0.15863743 0.53792117 0.11908904 0.58571281\n",
            "  0.4171382  0.35227095 0.12470788 0.45852481 0.30435586 0.51820549\n",
            "  0.         0.15382667 0.66215893 0.14487203 0.26522177 0.14163528\n",
            "  0.7715675  0.24838535 0.812539   0.91675385 0.24287824 0.34772936\n",
            "  0.69845522 0.31581713 0.50868309 0.67941865 0.23094284 0.10670641\n",
            "  0.71653843 0.7321972  0.58465771 0.46083913 0.46208007 0.63448606\n",
            "  0.2990037  0.67675327 0.07510752 0.28489754 0.44248335 0.44463807\n",
            "  0.54908539 0.66677753 0.86258436 0.25106239 0.77998413 0.77133905\n",
            "  0.63407584 0.19280874 0.64593891 0.75172853]\n",
            " [0.30782531 0.38267921 0.7839734  0.20179258 0.23722538 0.70374343\n",
            "  0.45818173 0.11879257 0.43454138 0.46228231 0.60119759 0.63342749\n",
            "  0.42059032 0.26446708 0.52756189 0.31650708 0.18973231 0.32903176\n",
            "  0.57397071 0.58220184 0.13579837 0.69195385 0.38180007 0.75076097\n",
            "  0.51843878 0.62392724 0.4752999  0.4381943  0.05486963 0.24833149\n",
            "  0.75956949 0.22036863 0.4647344  0.10078339 0.15007883 0.13078251\n",
            "  0.35009434 0.45840422 0.1920384  0.31238402 0.36116695 0.2931821\n",
            "  0.19285515 0.80898505 0.59985108 0.26136983 0.19086669 0.22913874\n",
            "  0.16321383 0.83127002 0.2811517  0.41393693 0.21381917 0.43635431\n",
            "  0.32977734 0.26472343 0.16852021 0.35764499 0.15595399 0.41181196\n",
            "  0.15382667 0.         0.55327422 0.05353596 0.12872583 0.01520818\n",
            "  0.66263809 0.26807169 0.65984826 0.78257652 0.20155045 0.3189743\n",
            "  0.65733725 0.23703963 0.35909651 0.53551834 0.38418302 0.23884279\n",
            "  0.58012374 0.58016261 0.55192738 0.37215481 0.35250076 0.50805843\n",
            "  0.17551537 0.52328099 0.2160684  0.42935433 0.45541174 0.29131803\n",
            "  0.41422454 0.58590322 0.75549662 0.20422243 0.67508712 0.63495574\n",
            "  0.50668761 0.19880886 0.54734246 0.59992664]\n",
            " [0.24921561 0.2996736  0.23076473 0.60873922 0.77222746 0.22621554\n",
            "  0.15315378 0.66921766 0.73760415 0.72509359 0.45580256 0.22202193\n",
            "  0.25253206 0.78430946 0.39912577 0.23958117 0.4072609  0.59134286\n",
            "  0.34678869 0.27019945 0.45365103 0.19322659 0.34707574 0.4740749\n",
            "  0.44254388 0.08124024 0.6269242  0.68757058 0.50594771 0.71337525\n",
            "  0.55459479 0.34067815 0.08991702 0.62603212 0.66644954 0.45835281\n",
            "  0.37862476 0.53050642 0.58157679 0.35544002 0.85936666 0.8347368\n",
            "  0.57052217 0.26117044 0.0861851  0.77412108 0.63127708 0.74392724\n",
            "  0.4438656  0.39676124 0.67612035 0.70536832 0.76002888 0.55067664\n",
            "  0.75863909 0.71811758 0.56254245 0.20399779 0.52586214 0.14398443\n",
            "  0.66215893 0.55327422 0.         0.52798334 0.42699483 0.56795508\n",
            "  0.10976133 0.49744503 0.45158575 0.31119721 0.43344334 0.38314927\n",
            "  0.33435996 0.34986288 0.52545504 0.25374212 0.83808722 0.67445836\n",
            "  0.19346014 0.39291198 0.33331209 0.21086744 0.72026656 0.74932189\n",
            "  0.37777464 0.42066052 0.73725179 0.94011404 0.46813604 0.40167606\n",
            "  0.65458538 0.14411797 0.2022701  0.72594134 0.12258962 0.21877008\n",
            "  0.74382033 0.74740391 0.05551363 0.58450543]\n",
            " [0.2895975  0.38677029 0.75767363 0.25147057 0.2465298  0.69172582\n",
            "  0.44550979 0.14372553 0.4836617  0.50935067 0.54917928 0.62586953\n",
            "  0.37716459 0.26563353 0.54176267 0.29727731 0.14377651 0.27948842\n",
            "  0.58119156 0.53752655 0.15202178 0.65650456 0.33237725 0.70078592\n",
            "  0.4659382  0.59518122 0.42390794 0.48366419 0.0284592  0.22775828\n",
            "  0.70740788 0.18833537 0.44136401 0.09967972 0.20253572 0.08292053\n",
            "  0.29923472 0.40495629 0.14774128 0.32238715 0.35555317 0.30755848\n",
            "  0.14656106 0.78689153 0.58063058 0.31211759 0.1584537  0.22688407\n",
            "  0.113536   0.82685718 0.24550501 0.46183168 0.23205466 0.46964051\n",
            "  0.38316869 0.31822585 0.12217254 0.32731992 0.19537806 0.38454149\n",
            "  0.14487203 0.05353596 0.52798334 0.         0.12054165 0.05939536\n",
            "  0.63774312 0.21474725 0.67295028 0.77297613 0.15040062 0.26824605\n",
            "  0.61096166 0.19592792 0.39278937 0.53467012 0.36611006 0.20930588\n",
            "  0.5721461  0.59164521 0.50358771 0.33692731 0.40386459 0.55465823\n",
            "  0.15577972 0.53982493 0.21671585 0.42947164 0.40211381 0.30859422\n",
            "  0.45820245 0.54947637 0.72997287 0.2547097  0.64834613 0.62699568\n",
            "  0.55297874 0.23976753 0.51736077 0.6284736 ]\n",
            " [0.17958921 0.26681201 0.65771987 0.23222522 0.36221684 0.57580882\n",
            "  0.32986672 0.24736496 0.44462837 0.45973778 0.54005349 0.50731427\n",
            "  0.32459975 0.38472904 0.42610487 0.18853961 0.1291695  0.3524301\n",
            "  0.4616892  0.48592673 0.06430895 0.57492958 0.31104293 0.67312378\n",
            "  0.46424295 0.49980948 0.48033966 0.42845093 0.09253418 0.34632438\n",
            "  0.69704231 0.11144947 0.33775394 0.21752934 0.24667324 0.10637914\n",
            "  0.29002206 0.43669021 0.24653713 0.20588413 0.47604389 0.42047517\n",
            "  0.24106313 0.68090369 0.47129321 0.35946901 0.27185598 0.34665716\n",
            "  0.12966914 0.70723638 0.35230415 0.41758537 0.34184627 0.38095068\n",
            "  0.38622321 0.32927039 0.21951728 0.23780828 0.14844129 0.28786898\n",
            "  0.26522177 0.12872583 0.42699483 0.12054165 0.         0.1438708\n",
            "  0.53584444 0.26281136 0.55599956 0.65557562 0.16425097 0.26054575\n",
            "  0.56542946 0.14820473 0.30763539 0.4141977  0.48461225 0.32322457\n",
            "  0.4537367  0.47400902 0.46965078 0.25921035 0.3821456  0.50177121\n",
            "  0.05260725 0.42605362 0.33570907 0.5492354  0.4155737  0.19955284\n",
            "  0.39850078 0.47119408 0.62886049 0.30642135 0.54933025 0.50863066\n",
            "  0.4988808  0.32052563 0.4247407  0.52834912]\n",
            " [0.32284127 0.39733986 0.79861667 0.20478436 0.22235092 0.7189515\n",
            "  0.47338388 0.10359026 0.43730176 0.46636612 0.60857463 0.64858345\n",
            "  0.43217091 0.25021863 0.5410463  0.33148034 0.20018095 0.32802916\n",
            "  0.5882455  0.59346524 0.14996635 0.70543985 0.39100299 0.75971397\n",
            "  0.52528799 0.638305   0.47553966 0.4432138  0.06661172 0.2375808\n",
            "  0.76679781 0.23399482 0.47953161 0.0882471  0.1433878  0.14027882\n",
            "  0.35840727 0.46186731 0.18892246 0.3265996  0.34751261 0.27802864\n",
            "  0.19065797 0.82392947 0.61491056 0.25280016 0.18356786 0.21538755\n",
            "  0.17205245 0.84630408 0.27416974 0.41757557 0.19862129 0.446068\n",
            "  0.32727246 0.26169521 0.16661243 0.37171253 0.16484438 0.42625686\n",
            "  0.14163528 0.01520818 0.56795508 0.05939536 0.1438708  0.\n",
            "  0.67737559 0.27132482 0.67340462 0.79776341 0.20958787 0.32736684\n",
            "  0.66801272 0.24901275 0.3688401  0.55042682 0.37246339 0.23031153\n",
            "  0.59529338 0.59396508 0.56173527 0.38552622 0.35342081 0.51236194\n",
            "  0.19026482 0.53643237 0.20202094 0.4149843  0.46093451 0.30467945\n",
            "  0.42003675 0.5991867  0.77020021 0.19542178 0.68967306 0.65012055\n",
            "  0.51116831 0.18577203 0.56155901 0.61069875]\n",
            " [0.35709256 0.3835314  0.12253823 0.71002061 0.88188442 0.17920198\n",
            "  0.23857781 0.77885792 0.82335287 0.806517   0.50871107 0.2187109\n",
            "  0.34303119 0.89356515 0.44824027 0.34770195 0.51587847 0.69028955\n",
            "  0.38026661 0.31377882 0.56001753 0.1603254  0.43910244 0.48988128\n",
            "  0.51176157 0.06627103 0.71268542 0.76927243 0.61563435 0.82104129\n",
            "  0.58153946 0.45037128 0.19809063 0.73576336 0.77314122 0.56778898\n",
            "  0.47414417 0.61345984 0.68861446 0.44801935 0.96745257 0.94446106\n",
            "  0.67740683 0.15366563 0.09377931 0.87937078 0.73912243 0.85315896\n",
            "  0.55261367 0.342933   0.78097399 0.7912284  0.86978624 0.62440196\n",
            "  0.85685354 0.81943279 0.67029106 0.3130969  0.62915386 0.25360081\n",
            "  0.7715675  0.66263809 0.10976133 0.63774312 0.53584444 0.67737559\n",
            "  0.         0.59963651 0.47074447 0.24994125 0.54070363 0.48228708\n",
            "  0.35758519 0.45820668 0.60906409 0.29668451 0.94384969 0.78138741\n",
            "  0.21657954 0.4280287  0.38970005 0.31654288 0.81376416 0.82676421\n",
            "  0.48712495 0.47186698 0.84667252 1.04852619 0.54912205 0.49475847\n",
            "  0.73710667 0.18029483 0.09305853 0.83235592 0.02827408 0.21404472\n",
            "  0.82097869 0.85594386 0.13471282 0.63234438]\n",
            " [0.33147703 0.48581748 0.70596289 0.46286626 0.35526262 0.70572995\n",
            "  0.47854027 0.31542584 0.69229856 0.71371293 0.35509112 0.66167747\n",
            "  0.26730194 0.34547317 0.65849376 0.3331321  0.14369992 0.10217912\n",
            "  0.6730488  0.39993899 0.32410932 0.56503687 0.18159736 0.51980187\n",
            "  0.26920685 0.54204127 0.21781141 0.68494354 0.22531194 0.24704171\n",
            "  0.50949629 0.21837244 0.43031827 0.24998849 0.41342999 0.15994136\n",
            "  0.13994779 0.19054498 0.12366248 0.44729568 0.3908591  0.4175413\n",
            "  0.11283613 0.75297726 0.57234083 0.51697563 0.17781117 0.3086884\n",
            "  0.13314255 0.86442625 0.18592012 0.66827233 0.36741298 0.64310352\n",
            "  0.59784903 0.53268455 0.12513459 0.30622743 0.39499342 0.36512133\n",
            "  0.24838535 0.26807169 0.49744503 0.21474725 0.26281136 0.27132482\n",
            "  0.59963651 0.         0.77950616 0.7924809  0.10251394 0.12080285\n",
            "  0.45776383 0.17538269 0.57041596 0.60214218 0.34994209 0.20155373\n",
            "  0.61030007 0.69689841 0.34227355 0.28760408 0.6166552  0.75762904\n",
            "  0.24940185 0.66384022 0.31063028 0.47343626 0.19631988 0.45409787\n",
            "  0.65668027 0.46055113 0.68328877 0.46009408 0.6008814  0.66117243\n",
            "  0.75529024 0.42517475 0.46537492 0.7839802 ]\n",
            " [0.45164523 0.29497793 0.54235463 0.56371053 0.89061144 0.32149868\n",
            "  0.34048244 0.7661418  0.53040209 0.49144213 0.88380792 0.25301324\n",
            "  0.63817851 0.92275423 0.13246821 0.45223565 0.63930086 0.88092202\n",
            "  0.11279009 0.7149495  0.52464887 0.62558016 0.70824453 0.92477741\n",
            "  0.84786425 0.50781231 0.97398066 0.46297504 0.64455555 0.90070819\n",
            "  1.00070556 0.5612501  0.43267796 0.76033738 0.68049303 0.65268876\n",
            "  0.72035641 0.89566868 0.79972113 0.3506399  1.02091722 0.93743031\n",
            "  0.79283072 0.49897284 0.38691614 0.74452586 0.82784782 0.88878539\n",
            "  0.66257323 0.29330917 0.90659637 0.50505117 0.85813905 0.31463356\n",
            "  0.6486986  0.64814628 0.77313047 0.51007736 0.52923118 0.47555581\n",
            "  0.812539   0.65984826 0.45158575 0.67295028 0.55599956 0.67340462\n",
            "  0.47074447 0.77950616 0.         0.32516334 0.68033839 0.70684964\n",
            "  0.78474988 0.60542215 0.36174853 0.20448319 1.03904917 0.87922224\n",
            "  0.26043906 0.08287277 0.76469196 0.54869597 0.57505532 0.48723287\n",
            "  0.54216338 0.14072368 0.87516553 1.08635904 0.84524029 0.36884353\n",
            "  0.44270659 0.5955835  0.51724079 0.72338855 0.498958   0.25786577\n",
            "  0.48093445 0.78578127 0.50478223 0.2074585 ]\n",
            " [0.48644946 0.41770462 0.25690013 0.76542499 1.01776526 0.08699482\n",
            "  0.32809648 0.90104413 0.80847981 0.77830305 0.75590365 0.15068084\n",
            "  0.56290974 1.03855501 0.37623772 0.48028645 0.68029519 0.89096754\n",
            "  0.29071102 0.56201548 0.65603084 0.4021988  0.65601104 0.73763794\n",
            "  0.75147273 0.31347949 0.93714705 0.74445551 0.74647616 0.98425841\n",
            "  0.8309445  0.60263747 0.3625426  0.87217785 0.85832963 0.71971138\n",
            "  0.68486087 0.84151036 0.85892956 0.49563712 1.12472921 1.07566775\n",
            "  0.84891329 0.19364792 0.2262978  0.94936185 0.90271315 0.99942312\n",
            "  0.7141966  0.0937731  0.96083326 0.77874449 0.99636858 0.5881274\n",
            "  0.88912811 0.86876044 0.83632961 0.48640362 0.70086754 0.42756314\n",
            "  0.91675385 0.78257652 0.31119721 0.77297613 0.65557562 0.79776341\n",
            "  0.24994125 0.7924809  0.32516334 0.         0.71394358 0.68545678\n",
            "  0.60732205 0.62768427 0.6045233  0.26500022 1.11701217 0.95039336\n",
            "  0.20284405 0.32797352 0.63502655 0.50725748 0.82809735 0.78477841\n",
            "  0.61775414 0.39970501 0.98968297 1.20152499 0.77932903 0.53674011\n",
            "  0.71729606 0.42757372 0.24221079 0.91275775 0.27080671 0.14850765\n",
            "  0.77848478 0.95560915 0.36097046 0.5276375 ]\n",
            " [0.23785167 0.38573827 0.65443864 0.3798281  0.3565973  0.62818601\n",
            "  0.39169527 0.28250039 0.60373364 0.62181355 0.39978071 0.57690009\n",
            "  0.23887785 0.35979954 0.55760148 0.24103009 0.04145971 0.2012185\n",
            "  0.57557692 0.39419222 0.22757619 0.53208941 0.1827685  0.55048236\n",
            "  0.31771765 0.48901459 0.31744898 0.5914889  0.14944931 0.28040033\n",
            "  0.55822332 0.12007792 0.35677676 0.22239027 0.3516055  0.07277727\n",
            "  0.14883657 0.27361749 0.14814686 0.34493941 0.42717484 0.42092821\n",
            "  0.13719018 0.69403677 0.5008923  0.46237685 0.19875897 0.31966015\n",
            "  0.03973639 0.78086787 0.24690072 0.57808245 0.35619766 0.54222746\n",
            "  0.52425013 0.46125673 0.12992906 0.23147946 0.30475059 0.29258844\n",
            "  0.24287824 0.20155045 0.43344334 0.15040062 0.16425097 0.20958787\n",
            "  0.54070363 0.10251394 0.68033839 0.71394358 0.         0.11785483\n",
            "  0.46437428 0.08627566 0.4705733  0.50871261 0.40569719 0.24103743\n",
            "  0.52423756 0.59754092 0.35467909 0.22452557 0.53381353 0.66465961\n",
            "  0.14692149 0.56230937 0.31613902 0.50883439 0.25895965 0.35177649\n",
            "  0.5620959  0.42453433 0.62922897 0.40500941 0.54614177 0.57686039\n",
            "  0.66196959 0.38665662 0.41027488 0.68150966]\n",
            " [0.25662884 0.4222273  0.58622141 0.48860509 0.45997563 0.59846341\n",
            "  0.38498017 0.39757771 0.70506405 0.7186491  0.28385445 0.56217126\n",
            "  0.14649944 0.45623776 0.59499752 0.25501456 0.13536858 0.20832104\n",
            "  0.59626712 0.28602962 0.32446173 0.44446879 0.06732357 0.43266953\n",
            "  0.20447637 0.42314501 0.26752431 0.68616725 0.2658955  0.36345526\n",
            "  0.44227739 0.17047203 0.32360205 0.33520476 0.46884913 0.18865839\n",
            "  0.03115791 0.1931131  0.23272454 0.40138446 0.50927068 0.5238624\n",
            "  0.2209703  0.63502488 0.46166334 0.58010234 0.28812968 0.41754691\n",
            "  0.15581417 0.76184496 0.30666446 0.67765149 0.46512816 0.6175983\n",
            "  0.63728911 0.57554517 0.22456169 0.20593796 0.40827956 0.25961224\n",
            "  0.34772936 0.3189743  0.38314927 0.26824605 0.26054575 0.32736684\n",
            "  0.48228708 0.12080285 0.70684964 0.68545678 0.11785483 0.\n",
            "  0.35111223 0.12036043 0.55156294 0.51687499 0.47073689 0.31895568\n",
            "  0.51306668 0.6259536  0.238832   0.17850762 0.64118043 0.75949477\n",
            "  0.22489212 0.60421374 0.41692574 0.59197391 0.15785706 0.42009211\n",
            "  0.65510781 0.33974979 0.56414808 0.52276801 0.48218767 0.56111833\n",
            "  0.75624995 0.50345691 0.34760717 0.74032549]\n",
            " [0.4491391  0.582498   0.39339659 0.79446394 0.80983648 0.53469922\n",
            "  0.45881318 0.74685171 0.97981197 0.98018754 0.18095953 0.55297961\n",
            "  0.24082988 0.80296299 0.71904551 0.44020787 0.46783189 0.50773752\n",
            "  0.67714376 0.08255941 0.62018584 0.21457544 0.28379528 0.14004644\n",
            "  0.23021949 0.29695565 0.45768553 0.94369384 0.60249157 0.70410716\n",
            "  0.22425874 0.45405201 0.36298354 0.68568528 0.80303148 0.52815373\n",
            "  0.32323616 0.36118516 0.57948932 0.60866411 0.84462247 0.87326424\n",
            "  0.56801508 0.46519569 0.41049659 0.91668543 0.63466878 0.76545179\n",
            "  0.49790167 0.70050671 0.6340428  0.94885616 0.81621218 0.83183732\n",
            "  0.95031197 0.89468014 0.57439952 0.35707201 0.70729118 0.34743147\n",
            "  0.69845522 0.65733725 0.33435996 0.61096166 0.56542946 0.66801272\n",
            "  0.35758519 0.45776383 0.78474988 0.60732205 0.46437428 0.35111223\n",
            "  0.         0.42282094 0.78633422 0.58306644 0.79114841 0.65827083\n",
            "  0.52781813 0.72160541 0.1157747  0.32002252 0.9360727  1.01335799\n",
            "  0.5152615  0.73803441 0.76608368 0.92628633 0.30217047 0.64701121\n",
            "  0.91022986 0.19077087 0.38853122 0.86039849 0.33695281 0.54923129\n",
            "  1.00874198 0.8501827  0.28011069 0.89993461]\n",
            " [0.15609905 0.31358389 0.57413687 0.38035613 0.42837839 0.54191098\n",
            "  0.30642389 0.33890811 0.58917434 0.60069447 0.39264307 0.49130458\n",
            "  0.18384455 0.43655407 0.4870637  0.15797998 0.05797312 0.277545\n",
            "  0.49803505 0.34591971 0.20987331 0.46193172 0.16341161 0.52572507\n",
            "  0.31912461 0.40916212 0.37384697 0.56757836 0.18244998 0.36374107\n",
            "  0.54910019 0.05044278 0.27112784 0.28599113 0.38032299 0.11544849\n",
            "  0.14682004 0.31051724 0.23323283 0.28430483 0.50950436 0.49219633\n",
            "  0.22262385 0.61096954 0.41523925 0.49408376 0.28154599 0.39612217\n",
            "  0.09487102 0.69513905 0.33317468 0.56096099 0.42208257 0.49750851\n",
            "  0.53353313 0.47492297 0.21297451 0.14642903 0.29629044 0.2075191\n",
            "  0.31581713 0.23703963 0.34986288 0.19592792 0.14820473 0.24901275\n",
            "  0.45820668 0.17538269 0.60542215 0.62768427 0.08627566 0.12036043\n",
            "  0.42282094 0.         0.43120811 0.42697177 0.49142334 0.32594607\n",
            "  0.43891043 0.52309453 0.32277859 0.1450361  0.53000365 0.64080015\n",
            "  0.10615412 0.49410367 0.39069256 0.59034648 0.27818182 0.30044259\n",
            "  0.5361277  0.35449599 0.54806579 0.43813166 0.46516028 0.49116777\n",
            "  0.6374043  0.43441227 0.33034895 0.62396678]\n",
            " [0.33850583 0.2264065  0.72293878 0.20918906 0.56284274 0.55243289\n",
            "  0.37361007 0.44149361 0.21448157 0.19983669 0.81055301 0.46448688\n",
            "  0.56321247 0.60112771 0.24272006 0.34688692 0.43248895 0.65844256\n",
            "  0.32208598 0.70400038 0.24857186 0.71561568 0.58696216 0.9146351\n",
            "  0.74529261 0.60614216 0.78772061 0.16230446 0.36828492 0.60623005\n",
            "  0.95961851 0.38138478 0.44946016 0.45551284 0.3324125  0.41275304\n",
            "  0.57733001 0.73863016 0.53941208 0.17834105 0.702513   0.60020929\n",
            "  0.53667289 0.71376788 0.51787479 0.38396201 0.54868322 0.57321269\n",
            "  0.43728156 0.6152802  0.63774957 0.18250963 0.52470347 0.07725787\n",
            "  0.29073187 0.28641022 0.51289692 0.43071341 0.20435321 0.44231301\n",
            "  0.50868309 0.35909651 0.52545504 0.39278937 0.30763539 0.3688401\n",
            "  0.60906409 0.57041596 0.36174853 0.6045233  0.4705733  0.55156294\n",
            "  0.78633422 0.43120811 0.         0.34508758 0.73906196 0.59770561\n",
            "  0.42553367 0.30141522 0.71607842 0.47056869 0.22400646 0.22792094\n",
            "  0.32871225 0.22540456 0.5575947  0.7575744  0.70938527 0.14006957\n",
            "  0.12914771 0.63511702 0.6923091  0.36777589 0.63308912 0.46839268\n",
            "  0.22300711 0.4370206  0.5551216  0.24516759]\n",
            " [0.27115326 0.15634473 0.394604   0.5007903  0.77274354 0.20734774\n",
            "  0.1376105  0.65179884 0.55553507 0.53075462 0.67953226 0.11951825\n",
            "  0.43616003 0.79811704 0.15155971 0.26902408 0.46964835 0.70430616\n",
            "  0.0941028  0.51146836 0.40298779 0.43896192 0.51102422 0.723055\n",
            "  0.6456396  0.31948722 0.78406517 0.49489329 0.5067286  0.75729171\n",
            "  0.7969321  0.38904874 0.22821099 0.63096034 0.5973256  0.49571333\n",
            "  0.52702222 0.70074309 0.64230073 0.23371666 0.89022174 0.82735932\n",
            "  0.63379164 0.37391202 0.20405609 0.68523579 0.67873094 0.76059183\n",
            "  0.49839628 0.29753797 0.7486377  0.52454398 0.74722973 0.34152923\n",
            "  0.6251423  0.6037608  0.61712117 0.3137138  0.43909549 0.27353599\n",
            "  0.67941865 0.53551834 0.25374212 0.53467012 0.4141977  0.55042682\n",
            "  0.29668451 0.60214218 0.20448319 0.26500022 0.50871261 0.51687499\n",
            "  0.58306644 0.42697177 0.34508758 0.         0.89442073 0.72905421\n",
            "  0.08481146 0.13923786 0.5602119  0.34992221 0.56661617 0.54445015\n",
            "  0.38599868 0.17523567 0.74915378 0.9629801  0.647399   0.27271948\n",
            "  0.46517515 0.39602836 0.36525038 0.65028606 0.32433154 0.12333489\n",
            "  0.53836912 0.69715809 0.30448714 0.33633388]\n",
            " [0.63244952 0.75127773 1.05379921 0.55110776 0.20442965 1.03208642\n",
            "  0.79070325 0.30355554 0.76541077 0.80433575 0.65194567 0.97573288\n",
            "  0.61722663 0.15932084 0.90769674 0.6377542  0.43696479 0.28345794\n",
            "  0.94628356 0.74301076 0.51587744 0.9147892  0.52955689 0.82363604\n",
            "  0.57256145 0.88890011 0.37985805 0.78906268 0.39452759 0.13839358\n",
            "  0.78313687 0.5145651  0.7624387  0.28439056 0.43633625 0.39978303\n",
            "  0.48834389 0.44708898 0.25838524 0.68849408 0.08912258 0.21696991\n",
            "  0.26880946 1.09750739 0.90656449 0.4764857  0.2158695  0.1719653\n",
            "  0.40283155 1.17947706 0.16416212 0.75398431 0.24862389 0.81590612\n",
            "  0.6128691  0.55323925 0.28072136 0.63716996 0.53491957 0.69826274\n",
            "  0.23094284 0.38418302 0.83808722 0.36611006 0.48461225 0.37246339\n",
            "  0.94384969 0.34994209 1.03904917 1.11701217 0.40569719 0.47073689\n",
            "  0.79114841 0.49142334 0.73906196 0.89442073 0.         0.16670458\n",
            "  0.92221318 0.95772732 0.67629041 0.62756092 0.6707428  0.85055825\n",
            "  0.50842791 0.90513949 0.18872506 0.14868679 0.49417427 0.67316404\n",
            "  0.77189067 0.81048497 1.03011528 0.44054908 0.94721222 0.97617585\n",
            "  0.85084279 0.36284045 0.81104168 0.98257967]\n",
            " [0.46579649 0.58846138 0.89370564 0.42906726 0.17339196 0.86560282\n",
            "  0.62400356 0.1982296  0.65739033 0.69061031 0.54104999 0.80907095\n",
            "  0.46361955 0.15113643 0.74902361 0.47105619 0.27068046 0.1730431\n",
            "  0.78359323 0.60147665 0.36132766 0.76213662 0.38262622 0.71089505\n",
            "  0.45638346 0.72833659 0.31372516 0.66999875 0.23691518 0.04594674\n",
            "  0.68718026 0.34787191 0.59705819 0.15064372 0.33250885 0.2335892\n",
            "  0.3409921  0.34689046 0.09289095 0.52887497 0.19039674 0.22862236\n",
            "  0.10398311 0.93486253 0.74114533 0.40659773 0.05138908 0.12106573\n",
            "  0.23619874 1.01286788 0.05264924 0.64081155 0.20083277 0.67494337\n",
            "  0.52380345 0.45880522 0.11406421 0.4721959  0.39473286 0.53333055\n",
            "  0.10670641 0.23884279 0.67445836 0.20930588 0.32322457 0.23031153\n",
            "  0.78138741 0.20155373 0.87922224 0.95039336 0.24103743 0.31895568\n",
            "  0.65827083 0.32594607 0.59770561 0.72905421 0.16670458 0.\n",
            "  0.75557814 0.79719819 0.54253405 0.46487582 0.56732702 0.73700907\n",
            "  0.34325299 0.7480563  0.12956932 0.27309512 0.37809839 0.51760203\n",
            "  0.64845682 0.6559734  0.86912786 0.3572947  0.78605059 0.80949552\n",
            "  0.73632146 0.2949112  0.6498941  0.83669124]\n",
            " [0.28978688 0.21916741 0.31004442 0.56844477 0.81590607 0.13108702\n",
            "  0.13254275 0.69844221 0.63778199 0.61430057 0.64145433 0.05377754\n",
            "  0.41185064 0.83774561 0.23404335 0.28481304 0.48803185 0.71138836\n",
            "  0.16377643 0.46208067 0.45322115 0.36627213 0.49623196 0.66747383\n",
            "  0.61733136 0.24771029 0.77609534 0.57814434 0.54523889 0.7874796\n",
            "  0.7474403  0.40839138 0.19706329 0.67091007 0.65694039 0.52282991\n",
            "  0.51829225 0.68679354 0.66555418 0.29638111 0.92573552 0.8732951\n",
            "  0.65608671 0.28985612 0.12744507 0.75069826 0.706735   0.79896774\n",
            "  0.52022593 0.2573212  0.76975485 0.60648585 0.79383793 0.42573259\n",
            "  0.69973245 0.67417512 0.64183668 0.30736375 0.50028602 0.25555796\n",
            "  0.71653843 0.58012374 0.19346014 0.5721461  0.4537367  0.59529338\n",
            "  0.21657954 0.61030007 0.26043906 0.20284405 0.52423756 0.51306668\n",
            "  0.52781813 0.43891043 0.42553367 0.08481146 0.92221318 0.75557814\n",
            "  0.         0.21153524 0.51959749 0.33685917 0.64454331 0.62886817\n",
            "  0.4178656  0.25822187 0.78877865 1.00143224 0.62919903 0.33960986\n",
            "  0.54791898 0.33737382 0.28091199 0.71221238 0.24470023 0.05489408\n",
            "  0.62281206 0.75322518 0.2481981  0.4163735 ]\n",
            " [0.37003366 0.21210535 0.51402481 0.49507575 0.81271855 0.30215981\n",
            "  0.26817297 0.68841672 0.48887033 0.45480661 0.81151705 0.22056083\n",
            "  0.56272667 0.84386374 0.05906054 0.37100702 0.55647385 0.79821707\n",
            "  0.04776369 0.64879869 0.44455965 0.57600328 0.62957463 0.86148404\n",
            "  0.77211269 0.45665609 0.89270689 0.4227911  0.56321048 0.81934132\n",
            "  0.93354796 0.47858167 0.36299557 0.68033998 0.60830753 0.56999317\n",
            "  0.64027608 0.81578139 0.71713696 0.2692912  0.94132277 0.86103426\n",
            "  0.71016569 0.48055957 0.33824989 0.67852828 0.74584734 0.80928971\n",
            "  0.57970845 0.31972689 0.82406037 0.46093622 0.78134411 0.26765062\n",
            "  0.59200082 0.58532055 0.6905969  0.43180509 0.4542283  0.40089325\n",
            "  0.7321972  0.58016261 0.39291198 0.59164521 0.47400902 0.59396508\n",
            "  0.4280287  0.69689841 0.08287277 0.32797352 0.59754092 0.6259536\n",
            "  0.72160541 0.52309453 0.30141522 0.13923786 0.95772732 0.79719819\n",
            "  0.21153524 0.         0.69409784 0.47133821 0.52226489 0.45807455\n",
            "  0.45937806 0.07712844 0.79595427 1.00799413 0.76656965 0.29033404\n",
            "  0.39838662 0.53520884 0.48652782 0.65380586 0.45619309 0.22549793\n",
            "  0.45175467 0.71306941 0.44364028 0.20857623]\n",
            " [0.37858616 0.52948047 0.4551183  0.70148754 0.69535682 0.55449387\n",
            "  0.42592489 0.63627225 0.89885753 0.90366998 0.12249676 0.55433315\n",
            "  0.15310968 0.6876572  0.68227831 0.37098783 0.36240651 0.39312233\n",
            "  0.65309927 0.08215339 0.52817673 0.27994357 0.17207554 0.20375165\n",
            "  0.13047932 0.32366776 0.35511604 0.86816962 0.49741132 0.58838643\n",
            "  0.24594021 0.36002862 0.33202368 0.57402724 0.69990569 0.42146004\n",
            "  0.20977903 0.25531703 0.46447989 0.54240507 0.72890468 0.75854412\n",
            "  0.45308221 0.52112146 0.41817745 0.81289225 0.51951717 0.65039349\n",
            "  0.39005326 0.72510041 0.51843902 0.86883772 0.70292943 0.76885636\n",
            "  0.85583893 0.7976959  0.46022942 0.28781152 0.6156316  0.29701983\n",
            "  0.58465771 0.55192738 0.33331209 0.50358771 0.46965078 0.56173527\n",
            "  0.38970005 0.34227355 0.76469196 0.63502655 0.35467909 0.238832\n",
            "  0.1157747  0.32277859 0.71607842 0.5602119  0.67629041 0.54253405\n",
            "  0.51959749 0.69409784 0.         0.24645533 0.84792797 0.93968935\n",
            "  0.42210592 0.69864862 0.65136337 0.81063921 0.19272681 0.5760823\n",
            "  0.83515031 0.20947758 0.44318784 0.75601451 0.37578879 0.55134654\n",
            "  0.9354908  0.74133548 0.27857659 0.85562058]\n",
            " [0.13228221 0.28735164 0.4301     0.47960182 0.57337452 0.42027076\n",
            "  0.21343634 0.48065268 0.65988899 0.66135052 0.3507211  0.38470017\n",
            "  0.09625746 0.58127942 0.45004573 0.12453494 0.20290559 0.38410356\n",
            "  0.43607472 0.23763759 0.30652432 0.31997064 0.16128383 0.4442476\n",
            "  0.30182071 0.26477406 0.43925867 0.62521112 0.31954667 0.50490668\n",
            "  0.49188576 0.15204468 0.14509641 0.43020344 0.50545784 0.2594591\n",
            "  0.18147333 0.35171306 0.3721585  0.2959577  0.65168125 0.63711948\n",
            "  0.36090562 0.47011006 0.28491724 0.61861075 0.42325208 0.54086732\n",
            "  0.2397654  0.58340859 0.46528155 0.62904797 0.56619973 0.52240569\n",
            "  0.63587533 0.58368969 0.35439779 0.04212245 0.39197623 0.08156626\n",
            "  0.46083913 0.37215481 0.21086744 0.33692731 0.25921035 0.38552622\n",
            "  0.31654288 0.28760408 0.54869597 0.50725748 0.22452557 0.17850762\n",
            "  0.32002252 0.1450361  0.47056869 0.34992221 0.62756092 0.46487582\n",
            "  0.33685917 0.47133821 0.24645533 0.         0.61719026 0.69582642\n",
            "  0.20667889 0.46370457 0.53566881 0.73320737 0.29748606 0.33050568\n",
            "  0.59189912 0.21378648 0.40470885 0.56497723 0.3216268  0.38345704\n",
            "  0.69142643 0.57094968 0.18594309 0.61518698]\n",
            " [0.49584018 0.4330432  0.9320103  0.15418654 0.46971183 0.77346256\n",
            "  0.57518764 0.37344648 0.09576888 0.14034958 0.92219249 0.68610742\n",
            "  0.69792751 0.51419071 0.46445579 0.50578885 0.50645744 0.68131948\n",
            "  0.54563226 0.85421432 0.32048791 0.90206933 0.69316413 1.05163486\n",
            "  0.84556948 0.80139822 0.82764844 0.13950204 0.39136489 0.55844171\n",
            "  1.07909288 0.48832948 0.63608221 0.41753818 0.23677598 0.46227807\n",
            "  0.67129393 0.8045556  0.54189783 0.36589719 0.61118662 0.48507173\n",
            "  0.54404432 0.92925312 0.7262459  0.21728351 0.52818332 0.49933353\n",
            "  0.4943958  0.8387594  0.6170276  0.09350181 0.4256681  0.26076885\n",
            "  0.08058856 0.11980228 0.52003313 0.58369078 0.23374084 0.61273116\n",
            "  0.46208007 0.35250076 0.72026656 0.40386459 0.3821456  0.35342081\n",
            "  0.81376416 0.6166552  0.57505532 0.82809735 0.53381353 0.64118043\n",
            "  0.9360727  0.53000365 0.22400646 0.56661617 0.6707428  0.56732702\n",
            "  0.64454331 0.52226489 0.84792797 0.61719026 0.         0.18418135\n",
            "  0.42634819 0.44526201 0.48254647 0.6458575  0.79245296 0.31921676\n",
            "  0.14199302 0.81040527 0.90124066 0.23373403 0.83564494 0.68982672\n",
            "  0.18575525 0.31436127 0.74061904 0.41424646]\n",
            " [0.56452269 0.44981506 0.93567617 0.30833285 0.65175268 0.74713693\n",
            "  0.59633768 0.54927436 0.08911172 0.04647052 1.0290678  0.65936092\n",
            "  0.78658095 0.69577707 0.40886035 0.57325466 0.63094012 0.83373016\n",
            "  0.49426986 0.93089919 0.43758634 0.94103844 0.80187207 1.14001482\n",
            "  0.95948819 0.82919088 0.97426583 0.0733641  0.53652969 0.73276104\n",
            "  1.18110008 0.59309657 0.67616042 0.58640117 0.41425819 0.59798932\n",
            "  0.78742187 0.93812462 0.70004491 0.40623202 0.79393158 0.66909285\n",
            "  0.7003669  0.91834067 0.73376723 0.40049434 0.69412686 0.67862262\n",
            "  0.62733766 0.77494684 0.78448795 0.09674145 0.60804188 0.20334007\n",
            "  0.25833636 0.30381502 0.6759221  0.65682056 0.36285778 0.67020841\n",
            "  0.63448606 0.50805843 0.74932189 0.55465823 0.50177121 0.51236194\n",
            "  0.82676421 0.75762904 0.48723287 0.78477841 0.66465961 0.75949477\n",
            "  1.01335799 0.64080015 0.22792094 0.54445015 0.85055825 0.73700907\n",
            "  0.62886817 0.45807455 0.93968935 0.69582642 0.18418135 0.\n",
            "  0.53486375 0.38512369 0.66184707 0.83000113 0.91640283 0.36635187\n",
            "  0.10498363 0.86269479 0.90549657 0.41734512 0.85203978 0.66382523\n",
            "  0.00633214 0.49799006 0.78147999 0.29106282]\n",
            " [0.13408394 0.24781485 0.60850074 0.27977294 0.40213267 0.53605643\n",
            "  0.28993143 0.29242609 0.48325133 0.49456792 0.49807901 0.47164296\n",
            "  0.27463826 0.42093059 0.41576902 0.14213746 0.106287   0.3461324\n",
            "  0.44213821 0.43513398 0.10607991 0.52254046 0.26901207 0.62584759\n",
            "  0.42527752 0.44917965 0.46304483 0.46159361 0.13062548 0.37157646\n",
            "  0.65372468 0.06208081 0.2892745  0.25543486 0.2992552  0.11109115\n",
            "  0.25255874 0.40992291 0.25869207 0.19920574 0.50788956 0.46239867\n",
            "  0.25119111 0.63399267 0.42596782 0.41206904 0.29275509 0.38167647\n",
            "  0.12168343 0.67389343 0.36571708 0.45487659 0.38523101 0.39792808\n",
            "  0.43516929 0.37977628 0.232657   0.18552702 0.19352586 0.2369881\n",
            "  0.2990037  0.17551537 0.37777464 0.15577972 0.05260725 0.19026482\n",
            "  0.48712495 0.24940185 0.54216338 0.61775414 0.14692149 0.22489212\n",
            "  0.5152615  0.10615412 0.32871225 0.38599868 0.50842791 0.34325299\n",
            "  0.4178656  0.45937806 0.42210592 0.20667889 0.42634819 0.53486375\n",
            "  0.         0.41873262 0.37216071 0.58383619 0.38245156 0.20502122\n",
            "  0.43031922 0.41861595 0.57998335 0.35897553 0.49970583 0.47257927\n",
            "  0.53153484 0.37107262 0.37342593 0.5345886 ]\n",
            " [0.34847645 0.1820078  0.56777308 0.4235209  0.75163188 0.36528263\n",
            "  0.27928658 0.6271463  0.41245783 0.3795345  0.81187648 0.27925563\n",
            "  0.55858962 0.78469853 0.02455493 0.35151311 0.52085433 0.76344454\n",
            "  0.10917636 0.66140642 0.38931205 0.61070974 0.61594782 0.87663548\n",
            "  0.76522098 0.49164137 0.86761127 0.34680379 0.51166629 0.76714912\n",
            "  0.94234689 0.44660774 0.37506604 0.62403948 0.5397724  0.52702614\n",
            "  0.62173526 0.79672402 0.67220122 0.22075719 0.88364385 0.79747473\n",
            "  0.6661255  0.54099188 0.37890477 0.60545465 0.69671067 0.75151672\n",
            "  0.54040039 0.39634721 0.77833657 0.38419324 0.71843334 0.19104232\n",
            "  0.51556767 0.51067327 0.6452816  0.42226788 0.38900538 0.4016599\n",
            "  0.67675327 0.52328099 0.42066052 0.53982493 0.42605362 0.53643237\n",
            "  0.47186698 0.66384022 0.14072368 0.39970501 0.56230937 0.60421374\n",
            "  0.73803441 0.49410367 0.22540456 0.17523567 0.90513949 0.7480563\n",
            "  0.25822187 0.07712844 0.69864862 0.46370457 0.44526201 0.38512369\n",
            "  0.41873262 0.         0.73754046 0.94765088 0.75183967 0.23213845\n",
            "  0.32173185 0.55773165 0.53896488 0.58303851 0.49942405 0.2839881\n",
            "  0.37883897 0.64505807 0.46686039 0.16386373]\n",
            " [0.50533397 0.59798465 0.96429295 0.36372025 0.0451534  0.90821134\n",
            "  0.66207831 0.1167257  0.57692017 0.61561365 0.66194278 0.84247764\n",
            "  0.55372501 0.04901997 0.74273919 0.51261028 0.33276629 0.30122212\n",
            "  0.78999831 0.70293018 0.35186042 0.84818826 0.48375529 0.82945935\n",
            "  0.57633599 0.79967527 0.4432375  0.600518   0.24359147 0.09416579\n",
            "  0.81159337 0.39718395 0.65310663 0.11823664 0.24761168 0.27889993\n",
            "  0.44321866 0.47339728 0.18714524 0.52844866 0.14630412 0.10718632\n",
            "  0.19837733 0.99794082 0.79454558 0.29628843 0.13313615 0.01679337\n",
            "  0.29590571 1.04294244 0.17899291 0.56526087 0.07361881 0.63363578\n",
            "  0.42723502 0.3659949  0.19237526 0.53363228 0.35553107 0.59329093\n",
            "  0.07510752 0.2160684  0.73725179 0.21671585 0.33570907 0.20202094\n",
            "  0.84667252 0.31063028 0.87516553 0.98968297 0.31613902 0.41692574\n",
            "  0.76608368 0.39069256 0.5575947  0.74915378 0.18872506 0.12956932\n",
            "  0.78877865 0.79595427 0.65136337 0.53566881 0.48254647 0.66184707\n",
            "  0.37216071 0.73754046 0.         0.21386898 0.49948349 0.50632635\n",
            "  0.58386977 0.74058666 0.93768387 0.25494597 0.85506804 0.84364442\n",
            "  0.66211902 0.18120394 0.72092389 0.80252171]\n",
            " [0.71570986 0.81174601 1.16325513 0.55357564 0.19619593 1.11915175\n",
            "  0.87350033 0.32056408 0.74147139 0.78539138 0.7949625  1.05518643\n",
            "  0.73664828 0.16501509 0.95390067 0.72250115 0.53285656 0.42218129\n",
            "  1.00322162 0.87287769 0.56494043 1.03509959 0.655003   0.96672181\n",
            "  0.71362231 0.99784253 0.52801582 0.77678556 0.45685528 0.22962388\n",
            "  0.9297535  0.60360972 0.85877366 0.33201989 0.42961701 0.48462198\n",
            "  0.6133422  0.59132637 0.36307628 0.74156212 0.08270532 0.16144573\n",
            "  0.37474143 1.20127276 1.00177282 0.43286706 0.31013706 0.20261755\n",
            "  0.49633086 1.25630005 0.29227086 0.73616007 0.23289333 0.831563\n",
            "  0.57659266 0.52620555 0.37890972 0.7362301  0.56093261 0.79693841\n",
            "  0.28489754 0.42935433 0.94011404 0.42947164 0.5492354  0.4149843\n",
            "  1.04852619 0.47343626 1.08635904 1.20152499 0.50883439 0.59197391\n",
            "  0.92628633 0.59034648 0.7575744  0.9629801  0.14868679 0.27309512\n",
            "  1.00143224 1.00799413 0.81063921 0.73320737 0.6458575  0.83000113\n",
            "  0.58383619 0.94765088 0.21386898 0.         0.63471515 0.71778198\n",
            "  0.76542341 0.92870142 1.13785295 0.41336117 1.05479775 1.05623628\n",
            "  0.83138572 0.33319606 0.9190791  1.00236791]\n",
            " [0.40379296 0.57042241 0.63252513 0.63864458 0.54462241 0.69390111\n",
            "  0.51057301 0.51171667 0.85989074 0.87504095 0.16296247 0.67341913\n",
            "  0.21842001 0.52872454 0.74067461 0.40035085 0.28712315 0.21256067\n",
            "  0.73290368 0.27085812 0.47985226 0.46494976 0.13701702 0.33335956\n",
            "  0.07897888 0.48378044 0.16611472 0.84304218 0.40649584 0.42354964\n",
            "  0.31366171 0.32811306 0.4322756  0.44629847 0.60429727 0.33138458\n",
            "  0.13307956 0.06513417 0.31631493 0.55628689 0.55507991 0.60455092\n",
            "  0.30651715 0.69300547 0.55345974 0.71088576 0.36698767 0.4951213\n",
            "  0.29863126 0.86345357 0.34473706 0.83314115 0.56080504 0.77491759\n",
            "  0.7824954  0.71877633 0.32112028 0.33516848 0.56154261 0.37567308\n",
            "  0.44248335 0.45541174 0.46813604 0.40211381 0.4155737  0.46093451\n",
            "  0.54912205 0.19631988 0.84524029 0.77932903 0.25895965 0.15785706\n",
            "  0.30217047 0.27818182 0.70938527 0.647399   0.49417427 0.37809839\n",
            "  0.62919903 0.76656965 0.19272681 0.29748606 0.79245296 0.91640283\n",
            "  0.38245156 0.75183967 0.49948349 0.63471515 0.         0.57706444\n",
            "  0.81226792 0.37743508 0.61646509 0.65365155 0.54112255 0.67149983\n",
            "  0.91326816 0.62140791 0.42036718 0.89348301]\n",
            " [0.19852456 0.12050403 0.61382643 0.22900094 0.52238724 0.47069659\n",
            "  0.25628269 0.39809088 0.33964957 0.33434283 0.67194248 0.38740398\n",
            "  0.42331237 0.55393781 0.2364145  0.20704596 0.31130777 0.54887694\n",
            "  0.28952959 0.56456867 0.15729106 0.5868797  0.45071821 0.77462783\n",
            "  0.60876632 0.48290609 0.66789656 0.29737255 0.28070957 0.53534732\n",
            "  0.81995508 0.2500017  0.31964878 0.39201734 0.3265443  0.30477379\n",
            "  0.44412402 0.61080057 0.44549393 0.04674066 0.65215841 0.5711901\n",
            "  0.44041208 0.61511718 0.40850959 0.41265886 0.46641671 0.5200112\n",
            "  0.32344769 0.56758888 0.55023178 0.3076493  0.49130788 0.19816526\n",
            "  0.36443135 0.3347935  0.41842155 0.29079677 0.16849497 0.30539446\n",
            "  0.44463807 0.29131803 0.40167606 0.30859422 0.19955284 0.30467945\n",
            "  0.49475847 0.45409787 0.36884353 0.53674011 0.35177649 0.42009211\n",
            "  0.64701121 0.30044259 0.14006957 0.27271948 0.67316404 0.51760203\n",
            "  0.33960986 0.29033404 0.5760823  0.33050568 0.31921676 0.36635187\n",
            "  0.20502122 0.23213845 0.50632635 0.71778198 0.57706444 0.\n",
            "  0.26380186 0.50097911 0.58308041 0.37800469 0.51643955 0.39033156\n",
            "  0.36173403 0.42884412 0.42525268 0.33027012]\n",
            " [0.46111241 0.35532662 0.84962262 0.2212296  0.57903981 0.67161488\n",
            "  0.50256489 0.46837376 0.09118512 0.07089981 0.92408431 0.58331393\n",
            "  0.68206072 0.62157737 0.34342473 0.47002905 0.52756877 0.73575995\n",
            "  0.42805446 0.8277032  0.33457671 0.84468602 0.69695024 1.03590056\n",
            "  0.8546469  0.73522437 0.87400687 0.03358421 0.43838602 0.64815165\n",
            "  1.07621891 0.48823546 0.57828187 0.49881303 0.33850289 0.49675874\n",
            "  0.68283696 0.83517729 0.60515522 0.3054721  0.72192053 0.60407365\n",
            "  0.60467879 0.83752122 0.64529282 0.35007903 0.60340691 0.60045516\n",
            "  0.52534827 0.71804233 0.69404921 0.06265105 0.53668063 0.13073693\n",
            "  0.22219416 0.2472754  0.58024185 0.55332127 0.26371322 0.56890994\n",
            "  0.54908539 0.41422454 0.65458538 0.45820245 0.39850078 0.42003675\n",
            "  0.73710667 0.65668027 0.44270659 0.71729606 0.5620959  0.65510781\n",
            "  0.91022986 0.5361277  0.12914771 0.46517515 0.77189067 0.64845682\n",
            "  0.54791898 0.39838662 0.83515031 0.59189912 0.14199302 0.10498363\n",
            "  0.43031922 0.32173185 0.58386977 0.76542341 0.81226792 0.26380186\n",
            "  0.         0.76315713 0.81910376 0.35381197 0.76146392 0.58749626\n",
            "  0.10132611 0.43266652 0.68402285 0.27256423]\n",
            " [0.31531333 0.41696496 0.25555377 0.68256661 0.7803354  0.34980599\n",
            "  0.28023415 0.69302864 0.84052395 0.83403903 0.32869144 0.36245618\n",
            "  0.19326082 0.7842135  0.53734598 0.30521324 0.4107943  0.5406373\n",
            "  0.48972609 0.13448924 0.51346363 0.10767761 0.28437085 0.33012659\n",
            "  0.33359926 0.11452682 0.54318809 0.79668398 0.53302921 0.69911585\n",
            "  0.41304753 0.36581123 0.18869308 0.64021972 0.71786669 0.46993984\n",
            "  0.32401809 0.44251414 0.56588798 0.45774428 0.84613036 0.84455383\n",
            "  0.55415567 0.31603499 0.22037082 0.83041722 0.62001104 0.74415532\n",
            "  0.44685789 0.51902809 0.64638686 0.80858984 0.77624912 0.67073403\n",
            "  0.83779441 0.78951814 0.55231471 0.23445936 0.5955949  0.19768591\n",
            "  0.66677753 0.58590322 0.14411797 0.54947637 0.47119408 0.5991867\n",
            "  0.18029483 0.46055113 0.5955835  0.42757372 0.42453433 0.33974979\n",
            "  0.19077087 0.35449599 0.63511702 0.39602836 0.81048497 0.6559734\n",
            "  0.33737382 0.53520884 0.20947758 0.21378648 0.81040527 0.86269479\n",
            "  0.41861595 0.55773165 0.74058666 0.92870142 0.37743508 0.50097911\n",
            "  0.76315713 0.         0.23908407 0.77758776 0.16682113 0.35878499\n",
            "  0.85757356 0.78470936 0.09159147 0.72124805]\n",
            " [0.45014935 0.46889814 0.03076997 0.80114859 0.97344915 0.19931206\n",
            "  0.32707741 0.87146499 0.90677283 0.88760901 0.55573238 0.2668709\n",
            "  0.42082322 0.98425029 0.51466414 0.44075977 0.60594464 0.77073476\n",
            "  0.43949569 0.36241906 0.65284503 0.17412257 0.51616917 0.50846523\n",
            "  0.5709408  0.14129782 0.78205309 0.85067631 0.70816475 0.90957737\n",
            "  0.60630057 0.54220368 0.29111333 0.82763869 0.86598468 0.65897053\n",
            "  0.55333026 0.6815099  0.77661187 0.53639553 1.05638964 1.03626555\n",
            "  0.76525972 0.07799724 0.17508016 0.97180727 0.82796001 0.94381869\n",
            "  0.64278925 0.3342339  0.86655424 0.87481608 0.96202379 0.70225835\n",
            "  0.9465069  0.91046663 0.75910433 0.40415503 0.72109139 0.34547669\n",
            "  0.86258436 0.75549662 0.2022701  0.72997287 0.62886049 0.77020021\n",
            "  0.09305853 0.68328877 0.51724079 0.24221079 0.62922897 0.56414808\n",
            "  0.38853122 0.54806579 0.6923091  0.36525038 1.03011528 0.86912786\n",
            "  0.28091199 0.48652782 0.44318784 0.40470885 0.90124066 0.90549657\n",
            "  0.57998335 0.53896488 0.93768387 1.13785295 0.61646509 0.58308041\n",
            "  0.81910376 0.23908407 0.         0.92512575 0.08309445 0.26190582\n",
            "  0.89957233 0.94899947 0.21924914 0.69453953]\n",
            " [0.47707496 0.49514798 0.95489413 0.15980788 0.23727315 0.8423353\n",
            "  0.6072858  0.15982827 0.32948747 0.37230895 0.80365132 0.76238195\n",
            "  0.6218958  0.28220597 0.59536094 0.48693164 0.39363325 0.49949571\n",
            "  0.66214304 0.78404692 0.27237993 0.88120502 0.58601011 0.95492689\n",
            "  0.71991626 0.80197683 0.64991788 0.36362852 0.25860329 0.33928208\n",
            "  0.96170028 0.41401218 0.63603151 0.21944946 0.05988046 0.33499194\n",
            "  0.55382213 0.64938391 0.35744444 0.4172008  0.37771562 0.25204983\n",
            "  0.36324647 0.97022794 0.75860887 0.05743786 0.32797462 0.27148551\n",
            "  0.36724426 0.94551254 0.4095973  0.32285935 0.19294449 0.43490529\n",
            "  0.17245087 0.1141005  0.34225652 0.54406428 0.21196092 0.59178167\n",
            "  0.25106239 0.20422243 0.72594134 0.2547097  0.30642135 0.19542178\n",
            "  0.83235592 0.46009408 0.72338855 0.91275775 0.40500941 0.52276801\n",
            "  0.86039849 0.43813166 0.36777589 0.65028606 0.44054908 0.3572947\n",
            "  0.71221238 0.65380586 0.75601451 0.56497723 0.23373403 0.41734512\n",
            "  0.35897553 0.58303851 0.25494597 0.41336117 0.65365155 0.37800469\n",
            "  0.35381197 0.77758776 0.92512575 0.         0.84841101 0.76493615\n",
            "  0.41849848 0.08065408 0.72890149 0.60519731]\n",
            " [0.37180423 0.4070502  0.10937479 0.72905293 0.89113722 0.20399308\n",
            "  0.26093895 0.79036513 0.84714024 0.83112396 0.49302397 0.24675119\n",
            "  0.34010565 0.90149574 0.47588586 0.3621677  0.52307182 0.689376\n",
            "  0.40842951 0.29785273 0.57606693 0.13436523 0.43591223 0.46708318\n",
            "  0.50029476 0.05914139 0.70580052 0.79380345 0.62699466 0.82648415\n",
            "  0.560207   0.46027018 0.21247302 0.74560311 0.78896426 0.57650926\n",
            "  0.4722808  0.60586743 0.69352135 0.46974778 0.97330758 0.95412144\n",
            "  0.68217357 0.15363007 0.12072465 0.8962866  0.74487878 0.86106018\n",
            "  0.55993546 0.3643675  0.78375329 0.81497117 0.88032835 0.65004106\n",
            "  0.87721124 0.8384978  0.67602451 0.32180681 0.64716265 0.26387316\n",
            "  0.77998413 0.67508712 0.12258962 0.64834613 0.54933025 0.68967306\n",
            "  0.02827408 0.6008814  0.498958   0.27080671 0.54614177 0.48218767\n",
            "  0.33695281 0.46516028 0.63308912 0.32433154 0.94721222 0.78605059\n",
            "  0.24470023 0.45619309 0.37578879 0.3216268  0.83564494 0.85203978\n",
            "  0.49970583 0.49942405 0.85506804 1.05479775 0.54112255 0.51643955\n",
            "  0.76146392 0.16682113 0.08309445 0.84841101 0.         0.24205808\n",
            "  0.84629379 0.86981783 0.13621323 0.66022078]\n",
            " [0.34375664 0.27043198 0.28880186 0.61932742 0.87079657 0.08416594\n",
            "  0.185631   0.75322406 0.67814133 0.65212102 0.67379829 0.00496558\n",
            "  0.45319161 0.89260628 0.25943524 0.33847905 0.54122303 0.76174963\n",
            "  0.17933801 0.48867408 0.50760768 0.37202536 0.54067125 0.68751323\n",
            "  0.65510266 0.25795433 0.82177011 0.61668572 0.60011668 0.84177593\n",
            "  0.77172263 0.46195452 0.24017347 0.72579359 0.71014286 0.57705609\n",
            "  0.56474654 0.73054883 0.7191356  0.34819059 0.98040352 0.92813398\n",
            "  0.70954467 0.25702586 0.13887365 0.80246758 0.76086163 0.85379755\n",
            "  0.57383923 0.20400866 0.82289682 0.64734156 0.84864073 0.46201862\n",
            "  0.74742983 0.72404096 0.69564059 0.35639311 0.55297977 0.30189653\n",
            "  0.77133905 0.63495574 0.21877008 0.62699568 0.50863066 0.65012055\n",
            "  0.21404472 0.66117243 0.25786577 0.14850765 0.57686039 0.56111833\n",
            "  0.54923129 0.49116777 0.46839268 0.12333489 0.97617585 0.80949552\n",
            "  0.05489408 0.22549793 0.55134654 0.38345704 0.68982672 0.66382523\n",
            "  0.47257927 0.2839881  0.84364442 1.05623628 0.67149983 0.39033156\n",
            "  0.58749626 0.35878499 0.26190582 0.76493615 0.24205808 0.\n",
            "  0.65766049 0.80712082 0.27423364 0.43404469]\n",
            " [0.56001042 0.44437319 0.92973735 0.30744095 0.65244801 0.74094826\n",
            "  0.59080415 0.54922852 0.09132965 0.0465268  1.02528761 0.65319146\n",
            "  0.78238127 0.69637679 0.40258872 0.56870107 0.62803931 0.83190283\n",
            "  0.48798964 0.92630228 0.4347489  0.93562801 0.79826851 1.13564625\n",
            "  0.95597185 0.82363038 0.97207758 0.07048076 0.5346068  0.73246674\n",
            "  1.17711488 0.58956115 0.67090561 0.58575196 0.41450762 0.59557086\n",
            "  0.78407954 0.93536119 0.69861749 0.4013459  0.7947459  0.67037374\n",
            "  0.69883568 0.91224853 0.7279428  0.40247193 0.69319212 0.67888653\n",
            "  0.62477107 0.768615   0.7836106  0.09685884 0.60881611 0.19736404\n",
            "  0.26074761 0.30518376 0.6743855  0.6523152  0.36069409 0.66532008\n",
            "  0.63407584 0.50668761 0.74382033 0.55297874 0.4988808  0.51116831\n",
            "  0.82097869 0.75529024 0.48093445 0.77848478 0.66196959 0.75624995\n",
            "  1.00874198 0.6374043  0.22300711 0.53836912 0.85084279 0.73632146\n",
            "  0.62281206 0.45175467 0.9354908  0.69142643 0.18575525 0.00633214\n",
            "  0.53153484 0.37883897 0.66211902 0.83138572 0.91326816 0.36173403\n",
            "  0.10132611 0.85757356 0.89957233 0.41849848 0.84629379 0.65766049\n",
            "  0.         0.49911934 0.77617376 0.28498634]\n",
            " [0.49892209 0.54082529 0.9780392  0.22803814 0.15854411 0.88144606\n",
            "  0.64031719 0.10986896 0.41012332 0.45289437 0.7773006  0.8049485\n",
            "  0.61681042 0.2036895  0.65553116 0.50824645 0.38354355 0.4500514\n",
            "  0.71749299 0.77727822 0.30164244 0.89066625 0.56936484 0.93524384\n",
            "  0.69204762 0.82016019 0.59954208 0.44359117 0.25232031 0.27079084\n",
            "  0.93370966 0.41906862 0.65793577 0.17533995 0.10546071 0.32265804\n",
            "  0.53379515 0.60977154 0.31174559 0.46370404 0.29747895 0.17176025\n",
            "  0.31946622 0.99900634 0.78798128 0.11509568 0.27353156 0.19715707\n",
            "  0.3522889  0.994403   0.34753357 0.40334135 0.11422998 0.50727614\n",
            "  0.25077857 0.1946426  0.3015205  0.55548541 0.26045968 0.60802145\n",
            "  0.19280874 0.19880886 0.74740391 0.23976753 0.32052563 0.18577203\n",
            "  0.85594386 0.42517475 0.78578127 0.95560915 0.38665662 0.50345691\n",
            "  0.8501827  0.43441227 0.4370206  0.69715809 0.36284045 0.2949112\n",
            "  0.75322518 0.71306941 0.74133548 0.57094968 0.31436127 0.49799006\n",
            "  0.37107262 0.64505807 0.18120394 0.33319606 0.62140791 0.42884412\n",
            "  0.43266652 0.78470936 0.94899947 0.08065408 0.86981783 0.80712082\n",
            "  0.49911934 0.         0.7444481  0.67833249]\n",
            " [0.25381767 0.33259487 0.24417814 0.6210198  0.757849   0.27770409\n",
            "  0.19119382 0.6604559  0.76430541 0.75487041 0.40099743 0.27751486\n",
            "  0.20927772 0.7669     0.44619867 0.24368213 0.38832205 0.55557684\n",
            "  0.398269   0.2147033  0.45854061 0.16167804 0.30523768 0.42006891\n",
            "  0.39063033 0.07884528 0.58173758 0.71736295 0.49737119 0.69050266\n",
            "  0.49937218 0.32908655 0.10583218 0.61325322 0.66905651 0.44316\n",
            "  0.33961453 0.48377267 0.55742624 0.38027243 0.83743509 0.82124303\n",
            "  0.54605108 0.28762422 0.13964133 0.77925231 0.60903319 0.72646957\n",
            "  0.42521997 0.44864825 0.64767713 0.73215383 0.74871293 0.58617413\n",
            "  0.77391999 0.72972649 0.54019976 0.19015362 0.53581227 0.13713966\n",
            "  0.64593891 0.54734246 0.05551363 0.51736077 0.4247407  0.56155901\n",
            "  0.13471282 0.46537492 0.50478223 0.36097046 0.41027488 0.34760717\n",
            "  0.28011069 0.33034895 0.5551216  0.30448714 0.81104168 0.6498941\n",
            "  0.2481981  0.44364028 0.27857659 0.18594309 0.74061904 0.78147999\n",
            "  0.37342593 0.46686039 0.72092389 0.9190791  0.42036718 0.42525268\n",
            "  0.68402285 0.09159147 0.21924914 0.72890149 0.13621323 0.27423364\n",
            "  0.77617376 0.7444481  0.         0.63056265]\n",
            " [0.49144857 0.32784618 0.72233099 0.45072555 0.80794846 0.50999157\n",
            "  0.44192337 0.68659559 0.34962907 0.30471947 0.96570374 0.42911355\n",
            "  0.71124829 0.84627767 0.1857353  0.49625931 0.64066698 0.87913018\n",
            "  0.25508577 0.82223441 0.47783377 0.7740877  0.76023729 1.03784714\n",
            "  0.91391848 0.65483057 0.99602442 0.28351927 0.60212334 0.84818522\n",
            "  1.1006764  0.57410481 0.53713388 0.69833551 0.57512524 0.63439504\n",
            "  0.76106138 0.93327833 0.77152818 0.3396648  0.94764029 0.84418487\n",
            "  0.76736999 0.68874772 0.54032105 0.61257129 0.78655147 0.81802782\n",
            "  0.65371697 0.50076566 0.87374827 0.33012477 0.769477   0.17118457\n",
            "  0.49378639 0.5101166  0.74453442 0.57313359 0.44786234 0.5591657\n",
            "  0.75172853 0.59992664 0.58450543 0.6284736  0.52834912 0.61069875\n",
            "  0.63234438 0.7839802  0.2074585  0.5276375  0.68150966 0.74032549\n",
            "  0.89993461 0.62396678 0.24516759 0.33633388 0.98257967 0.83669124\n",
            "  0.4163735  0.20857623 0.85562058 0.61518698 0.41424646 0.29106282\n",
            "  0.5345886  0.16386373 0.80252171 1.00236791 0.89348301 0.33027012\n",
            "  0.27256423 0.72124805 0.69453953 0.60519731 0.66022078 0.43404469\n",
            "  0.28498634 0.67833249 0.63056265 0.        ]]\n"
          ]
        }
      ],
      "source": [
        "arr=np.random.rand(100,2)\n",
        "print(arr)\n",
        "X,Y=np.atleast_2d(arr[:,0],arr[:,1])\n",
        "D=np.sqrt((X-X.T)**2+(Y-Y.T)**2)\n",
        "print(D)"
      ]
    },
    {
      "cell_type": "markdown",
      "id": "3581ca30",
      "metadata": {
        "id": "3581ca30"
      },
      "source": [
        "#### 53. How to convert a float (32 bits) array into an integer (32 bits) array in place?"
      ]
    },
    {
      "cell_type": "code",
      "execution_count": 16,
      "id": "72732a66",
      "metadata": {
        "id": "72732a66",
        "colab": {
          "base_uri": "https://localhost:8080/"
        },
        "outputId": "182049ec-ecb9-47ae-b235-e4658c685709"
      },
      "outputs": [
        {
          "output_type": "stream",
          "name": "stdout",
          "text": [
            "[0 1 2 3 4 5 6 7 8 9]\n"
          ]
        }
      ],
      "source": [
        "arr=np.arange(10,dtype=np.float32)\n",
        "arr=arr.astype(np.int32,copy=False)\n",
        "print(arr)"
      ]
    },
    {
      "cell_type": "markdown",
      "id": "3f440ff2",
      "metadata": {
        "id": "3f440ff2"
      },
      "source": [
        "#### 54. How to read the following file? (★★☆)\n",
        "```\n",
        "1, 2, 3, 4, 5\n",
        "6,  ,  , 7, 8\n",
        " ,  , 9,10,11\n",
        "```"
      ]
    },
    {
      "cell_type": "code",
      "execution_count": null,
      "id": "9d03d55d",
      "metadata": {
        "id": "9d03d55d"
      },
      "outputs": [],
      "source": [
        "file_data=np.genfromtxt('file.txt',delimiter=',',dtype=np.int32)\n",
        "print(file_data)"
      ]
    },
    {
      "cell_type": "markdown",
      "id": "8ef1aff5",
      "metadata": {
        "id": "8ef1aff5"
      },
      "source": [
        "#### 55. What is the equivalent of enumerate for numpy arrays? (★★☆)"
      ]
    },
    {
      "cell_type": "code",
      "source": [
        "arr=np.array([1,2,3])\n",
        "for index,value in np.ndenumerate(arr):\n",
        "    print(index,value)\n",
        "for index in np.ndindex(arr.shape):\n",
        "    print(index,arr[index])"
      ],
      "metadata": {
        "colab": {
          "base_uri": "https://localhost:8080/"
        },
        "id": "kWDOp54IHoP0",
        "outputId": "b3eb6145-9d70-4e5e-a06a-e764a00646c6"
      },
      "id": "kWDOp54IHoP0",
      "execution_count": 17,
      "outputs": [
        {
          "output_type": "stream",
          "name": "stdout",
          "text": [
            "(0,) 1\n",
            "(1,) 2\n",
            "(2,) 3\n",
            "(0,) 1\n",
            "(1,) 2\n",
            "(2,) 3\n"
          ]
        }
      ]
    },
    {
      "cell_type": "markdown",
      "id": "b8737694",
      "metadata": {
        "id": "b8737694"
      },
      "source": [
        "#### 56. Generate a generic 2D Gaussian-like array (★★☆)"
      ]
    },
    {
      "cell_type": "code",
      "execution_count": 25,
      "id": "e38c976d",
      "metadata": {
        "id": "e38c976d",
        "colab": {
          "base_uri": "https://localhost:8080/"
        },
        "outputId": "277b5e46-d520-4400-d7db-10613e8c3772"
      },
      "outputs": [
        {
          "output_type": "stream",
          "name": "stdout",
          "text": [
            "[[8.30757302e-01 4.51096051e-01 1.66621956e-01 3.65467241e-01\n",
            "  4.49037123e-01]\n",
            " [5.73739014e-01 4.81329860e-04 8.46314122e-01 9.86123428e-01\n",
            "  1.96084157e-01]\n",
            " [9.30129623e-01 6.68158256e-01 8.93817431e-01 2.68524590e-01\n",
            "  5.92823448e-01]\n",
            " [4.48145754e-01 7.41664780e-01 1.82935662e-01 6.23793586e-01\n",
            "  2.63002848e-01]\n",
            " [1.19437588e-01 6.72622929e-01 5.80132701e-01 6.42810518e-01\n",
            "  3.51032445e-01]]\n"
          ]
        }
      ],
      "source": []
    },
    {
      "cell_type": "markdown",
      "id": "1f7a093e",
      "metadata": {
        "id": "1f7a093e"
      },
      "source": [
        "#### 57. How to randomly place p elements in a 2D array? (★★☆)"
      ]
    },
    {
      "cell_type": "code",
      "execution_count": 18,
      "id": "aa14eab2",
      "metadata": {
        "id": "aa14eab2",
        "colab": {
          "base_uri": "https://localhost:8080/"
        },
        "outputId": "e953263b-4843-447e-d8a5-a4259c0442a9"
      },
      "outputs": [
        {
          "output_type": "stream",
          "name": "stdout",
          "text": [
            "[[0. 0. 0. 0. 0. 0. 0. 0. 0. 0.]\n",
            " [0. 0. 0. 0. 1. 0. 0. 0. 0. 0.]\n",
            " [0. 0. 0. 0. 0. 0. 0. 0. 0. 0.]\n",
            " [1. 0. 0. 0. 0. 0. 0. 0. 0. 0.]\n",
            " [0. 0. 0. 0. 0. 0. 0. 0. 0. 0.]\n",
            " [0. 1. 0. 0. 0. 0. 0. 0. 0. 0.]\n",
            " [0. 0. 0. 0. 0. 0. 0. 0. 0. 0.]\n",
            " [0. 0. 0. 0. 0. 0. 0. 0. 0. 0.]\n",
            " [0. 0. 0. 0. 0. 0. 0. 0. 0. 0.]\n",
            " [0. 0. 0. 0. 0. 0. 0. 0. 0. 0.]]\n"
          ]
        }
      ],
      "source": [
        "n = 10\n",
        "p = 3\n",
        "Z = np.zeros((n,n))\n",
        "np.put(Z, np.random.choice(range(n*n), p, replace=False),1)\n",
        "print(Z)\n"
      ]
    },
    {
      "cell_type": "markdown",
      "id": "4b1f4144",
      "metadata": {
        "id": "4b1f4144"
      },
      "source": [
        "#### 58. Subtract the mean of each row of a matrix (★★☆)"
      ]
    },
    {
      "cell_type": "code",
      "execution_count": 19,
      "id": "39be0ed4",
      "metadata": {
        "id": "39be0ed4",
        "colab": {
          "base_uri": "https://localhost:8080/"
        },
        "outputId": "c44fc342-2b08-452f-de28-5e8081643012"
      },
      "outputs": [
        {
          "output_type": "stream",
          "name": "stdout",
          "text": [
            "[[ 0.44337631 -1.5604525   0.85272032]\n",
            " [ 0.52921467  1.84147109  0.19601813]\n",
            " [-0.4113751   0.92172929 -0.54267774]]\n",
            "[[ 0.53149493 -1.47233388  0.94083894]\n",
            " [-0.32635329  0.98590313 -0.65954983]\n",
            " [-0.40060058  0.93250381 -0.53190322]]\n"
          ]
        }
      ],
      "source": [
        "matrix=np.random.randn(3,3)\n",
        "print(matrix)\n",
        "print(matrix-matrix.mean(axis=1,keepdims=True))"
      ]
    },
    {
      "cell_type": "markdown",
      "id": "36c47776",
      "metadata": {
        "id": "36c47776"
      },
      "source": [
        "#### 59. How to sort an array by the nth column? (★★☆)"
      ]
    },
    {
      "cell_type": "code",
      "execution_count": 20,
      "id": "43867c6a",
      "metadata": {
        "id": "43867c6a",
        "colab": {
          "base_uri": "https://localhost:8080/"
        },
        "outputId": "b3758cf9-e7b5-49bd-97a7-444eb8c3959c"
      },
      "outputs": [
        {
          "output_type": "stream",
          "name": "stdout",
          "text": [
            "[[[4 6 2]\n",
            "  [4 4 2]\n",
            "  [4 6 2]]\n",
            "\n",
            " [[4 4 2]\n",
            "  [4 6 2]\n",
            "  [4 4 2]]\n",
            "\n",
            " [[6 6 8]\n",
            "  [6 6 8]\n",
            "  [6 6 8]]]\n"
          ]
        }
      ],
      "source": [
        "arr=np.random.randint(0,10,(3,3))\n",
        "arr_sort=arr.argsort(axis=0)\n",
        "print(arr[arr_sort])"
      ]
    },
    {
      "cell_type": "markdown",
      "id": "d798a57f",
      "metadata": {
        "id": "d798a57f"
      },
      "source": [
        "#### 60. How to tell if a given 2D array has null columns? (★★☆)"
      ]
    },
    {
      "cell_type": "code",
      "execution_count": 24,
      "id": "d2059b5c",
      "metadata": {
        "id": "d2059b5c",
        "colab": {
          "base_uri": "https://localhost:8080/"
        },
        "outputId": "12a42bfa-0101-445f-8edf-f286a0938822"
      },
      "outputs": [
        {
          "output_type": "stream",
          "name": "stdout",
          "text": [
            "[[0 2 0 0 0 0 0 2 2 2]\n",
            " [0 2 0 2 1 0 2 1 1 2]\n",
            " [0 2 1 0 2 0 0 1 0 0]]\n",
            "True\n"
          ]
        }
      ],
      "source": [
        "import numpy as np\n",
        "arr=np.random.randint(0,3,(3,10))\n",
        "print(arr)\n",
        "print((~arr.any(axis=0)).any())"
      ]
    },
    {
      "cell_type": "markdown",
      "id": "eee145c4",
      "metadata": {
        "id": "eee145c4"
      },
      "source": [
        "#### 61. Find the nearest value from a given value in an array (★★☆)"
      ]
    },
    {
      "cell_type": "code",
      "execution_count": 3,
      "id": "1b1b5829",
      "metadata": {
        "id": "1b1b5829",
        "colab": {
          "base_uri": "https://localhost:8080/"
        },
        "outputId": "684976c9-50c2-4227-b218-e4c5ed6f9444"
      },
      "outputs": [
        {
          "output_type": "stream",
          "name": "stdout",
          "text": [
            "0.5460647716166307\n"
          ]
        }
      ],
      "source": [
        "import numpy as np\n",
        "Z = np.random.uniform(0,1,10)\n",
        "z = 0.5\n",
        "m = Z.flat[np.abs(Z - z).argmin()]\n",
        "print(m)"
      ]
    },
    {
      "cell_type": "markdown",
      "id": "745bdd9a",
      "metadata": {
        "id": "745bdd9a"
      },
      "source": [
        "#### 62. Considering two arrays with shape (1,3) and (3,1), how to compute their sum using an iterator? (★★☆)"
      ]
    },
    {
      "cell_type": "code",
      "execution_count": 5,
      "id": "3a9859f9",
      "metadata": {
        "id": "3a9859f9",
        "colab": {
          "base_uri": "https://localhost:8080/"
        },
        "outputId": "0a48d09f-22a6-46c8-cc94-d30df632a108"
      },
      "outputs": [
        {
          "output_type": "stream",
          "name": "stdout",
          "text": [
            "[[0 1 2]]\n",
            "[[0]\n",
            " [1]\n",
            " [2]]\n",
            "[[0 1 2]\n",
            " [1 2 3]\n",
            " [2 3 4]]\n"
          ]
        }
      ],
      "source": [
        "arr1=np.arange(3).reshape(1,3)\n",
        "arr2=np.arange(3).reshape(3,1)\n",
        "print(arr1)\n",
        "print(arr2)\n",
        "it=np.nditer([arr1,arr2,None])\n",
        "for x,y,z in it:\n",
        "    z[...]=x+y\n",
        "print(it.operands[2])"
      ]
    },
    {
      "cell_type": "markdown",
      "id": "652b80f0",
      "metadata": {
        "id": "652b80f0"
      },
      "source": [
        "#### 63. Create an array class that has a name attribute (★★☆)"
      ]
    },
    {
      "cell_type": "code",
      "execution_count": 6,
      "id": "cfe2e2a7",
      "metadata": {
        "id": "cfe2e2a7"
      },
      "outputs": [],
      "source": [
        "import numpy as np\n",
        "class NamedArray(np.ndarray):\n",
        "    def __new__(cls, array, name=\"no name\"):\n",
        "        obj = np.asarray(array).view(cls)\n",
        "        obj.name = name\n",
        "        return obj\n",
        "    def __array_finalize__(self, obj):\n",
        "        if obj is None: return\n",
        "        self.name = getattr(obj, 'name', \"no name\")"
      ]
    },
    {
      "cell_type": "markdown",
      "id": "58349a3a",
      "metadata": {
        "id": "58349a3a"
      },
      "source": [
        "#### 64. Consider a given vector, how to add 1 to each element indexed by a second vector (be careful with repeated indices)? (★★★)"
      ]
    },
    {
      "cell_type": "code",
      "execution_count": 13,
      "id": "7d5f94a6",
      "metadata": {
        "id": "7d5f94a6",
        "colab": {
          "base_uri": "https://localhost:8080/"
        },
        "outputId": "3fe4a39e-bdd4-4ec2-c26f-2702516826cf"
      },
      "outputs": [
        {
          "output_type": "stream",
          "name": "stdout",
          "text": [
            "[2. 4. 3. 2. 3. 2. 5. 3. 4. 2.]\n"
          ]
        }
      ],
      "source": [
        "import numpy as np\n",
        "Z = np.ones(10)\n",
        "I = np.random.randint(0,len(Z),20)\n",
        "np.add.at(Z, I, 1)\n",
        "print(Z)"
      ]
    },
    {
      "cell_type": "markdown",
      "id": "13247c07",
      "metadata": {
        "id": "13247c07"
      },
      "source": [
        "#### 65. How to accumulate elements of a vector (X) to an array (F) based on an index list (I)? (★★★)"
      ]
    },
    {
      "cell_type": "code",
      "execution_count": 18,
      "id": "074b5598",
      "metadata": {
        "id": "074b5598",
        "colab": {
          "base_uri": "https://localhost:8080/"
        },
        "outputId": "eb7dcd66-5900-4455-c760-7d6c6aa5649d"
      },
      "outputs": [
        {
          "output_type": "stream",
          "name": "stdout",
          "text": [
            "[0. 7. 0. 6. 5. 0. 0. 0. 0. 3.]\n"
          ]
        }
      ],
      "source": [
        "import numpy as np\n",
        "X = [1,2,3,4,5,6]\n",
        "I = [1,3,9,3,4,1]\n",
        "F = np.bincount(I,X)\n",
        "print(F)"
      ]
    },
    {
      "cell_type": "markdown",
      "id": "8996b4be",
      "metadata": {
        "id": "8996b4be"
      },
      "source": [
        "#### 66. Considering a (w,h,3) image of (dtype=ubyte), compute the number of unique colors (★★☆)"
      ]
    },
    {
      "cell_type": "code",
      "execution_count": 20,
      "id": "4541bada",
      "metadata": {
        "id": "4541bada",
        "colab": {
          "base_uri": "https://localhost:8080/"
        },
        "outputId": "fa5c0dfd-792a-4d07-d2cd-af2151b4ea03"
      },
      "outputs": [
        {
          "output_type": "stream",
          "name": "stdout",
          "text": [
            "64\n"
          ]
        }
      ],
      "source": [
        "w, h = 256, 256\n",
        "I = np.random.randint(0, 4, (h, w, 3)).astype(np.ubyte)\n",
        "colors = np.unique(I.reshape(-1, 3), axis=0)\n",
        "n = len(colors)\n",
        "print(n)"
      ]
    },
    {
      "cell_type": "markdown",
      "id": "1de1a251",
      "metadata": {
        "id": "1de1a251"
      },
      "source": [
        "#### 67. Considering a four dimensions array, how to get sum over the last two axis at once? (★★★)"
      ]
    },
    {
      "cell_type": "code",
      "execution_count": null,
      "id": "855d4734",
      "metadata": {
        "id": "855d4734"
      },
      "outputs": [],
      "source": [
        "import numpy as np\n",
        "A = np.random.randint(0,10,(3,4,3,4))\n",
        "sum = A.reshape(A.shape[:-2] + (-1,)).sum(axis=-1)\n",
        "print(sum)"
      ]
    },
    {
      "cell_type": "markdown",
      "id": "2c3a49fa",
      "metadata": {
        "id": "2c3a49fa"
      },
      "source": [
        "#### 68. Considering a one-dimensional vector D, how to compute means of subsets of D using a vector S of same size describing subset  indices? (★★★)"
      ]
    },
    {
      "cell_type": "code",
      "execution_count": 21,
      "id": "9785a70e",
      "metadata": {
        "id": "9785a70e",
        "colab": {
          "base_uri": "https://localhost:8080/"
        },
        "outputId": "2c2d048a-8549-4d38-bcae-c97e993d9573"
      },
      "outputs": [
        {
          "output_type": "stream",
          "name": "stdout",
          "text": [
            "{np.int64(1): np.float64(30.0), np.int64(2): np.float64(30.0)}\n"
          ]
        }
      ],
      "source": [
        "import numpy as np\n",
        "\n",
        "D = np.array([10, 20, 30, 40, 50])\n",
        "S = np.array([1, 2, 1, 2, 1])  # subset labels (integers)\n",
        "\n",
        "# Unique labels\n",
        "labels, inverse = np.unique(S, return_inverse=True)\n",
        "\n",
        "# Compute sum and count per subset\n",
        "subset_sum = np.bincount(inverse, weights=D)\n",
        "subset_count = np.bincount(inverse)\n",
        "\n",
        "# Mean per subset\n",
        "subset_mean = subset_sum / subset_count\n",
        "\n",
        "print(dict(zip(labels, subset_mean)))\n",
        "\n"
      ]
    },
    {
      "cell_type": "markdown",
      "id": "d97e5ce6",
      "metadata": {
        "id": "d97e5ce6"
      },
      "source": [
        "#### 69. How to get the diagonal of a dot product? (★★★)"
      ]
    },
    {
      "cell_type": "code",
      "execution_count": 24,
      "id": "b8adf4c7",
      "metadata": {
        "id": "b8adf4c7",
        "colab": {
          "base_uri": "https://localhost:8080/"
        },
        "outputId": "6ca487d7-400a-49a7-aae0-8c2c748fdb84"
      },
      "outputs": [
        {
          "output_type": "stream",
          "name": "stdout",
          "text": [
            "[5]\n"
          ]
        }
      ],
      "source": [
        "arr1=np.arange(9).reshape(3,3)\n",
        "arr1=np.arange(9).reshape(3,3)\n",
        "print(np.diag(np.dot(arr1,arr2)))"
      ]
    },
    {
      "cell_type": "markdown",
      "id": "59f04026",
      "metadata": {
        "id": "59f04026"
      },
      "source": [
        "#### 70. Consider the vector [1, 2, 3, 4, 5], how to build a new vector with 3 consecutive zeros interleaved between each value? (★★★)"
      ]
    },
    {
      "cell_type": "code",
      "execution_count": 25,
      "id": "9bf72549",
      "metadata": {
        "id": "9bf72549",
        "colab": {
          "base_uri": "https://localhost:8080/"
        },
        "outputId": "77d6826c-8b37-409b-af1e-520a29a70114"
      },
      "outputs": [
        {
          "output_type": "stream",
          "name": "stdout",
          "text": [
            "[1. 0. 0. 0. 2. 0. 0. 0. 3. 0. 0. 0. 4. 0. 0. 0. 5.]\n"
          ]
        }
      ],
      "source": [
        "vector=np.array([1,2,3,4,5])\n",
        "vector_1=np.zeros(len(vector)+(len(vector)-1)*3)\n",
        "vector_1[::4]=vector\n",
        "print(vector_1)"
      ]
    },
    {
      "cell_type": "markdown",
      "id": "5915be32",
      "metadata": {
        "id": "5915be32"
      },
      "source": [
        "#### 71. Consider an array of dimension (5,5,3), how to multiply it by an array with dimensions (5,5)? (★★★)"
      ]
    },
    {
      "cell_type": "code",
      "execution_count": 26,
      "id": "615685a1",
      "metadata": {
        "id": "615685a1",
        "colab": {
          "base_uri": "https://localhost:8080/"
        },
        "outputId": "49e4f952-8086-4256-d79e-c93b4dad9c7b"
      },
      "outputs": [
        {
          "output_type": "stream",
          "name": "stdout",
          "text": [
            "[[[0.20468685 0.93716371 0.4724694 ]\n",
            "  [0.05484833 0.88098578 0.13733391]\n",
            "  [0.01974479 0.51489188 0.37991707]\n",
            "  [0.13654931 0.51485568 0.13906501]\n",
            "  [0.31207448 0.32212368 0.29083586]]\n",
            "\n",
            " [[0.91948661 0.62672987 0.7058055 ]\n",
            "  [0.14577295 0.32073608 0.46695584]\n",
            "  [0.72625151 0.1023812  0.29784791]\n",
            "  [0.19259106 0.47298357 0.05105109]\n",
            "  [0.05164772 0.59200287 0.53314675]]\n",
            "\n",
            " [[0.9777426  0.57125572 0.99107052]\n",
            "  [0.07205004 0.16328604 0.60352759]\n",
            "  [0.26215067 0.63907696 0.5754528 ]\n",
            "  [0.60750737 0.77953806 0.02647815]\n",
            "  [0.68218913 0.2491321  0.61101067]]\n",
            "\n",
            " [[0.27704628 0.77853342 0.06222471]\n",
            "  [0.35843522 0.69010327 0.28121505]\n",
            "  [0.1702188  0.72799637 0.74779283]\n",
            "  [0.46188339 0.89406955 0.25760454]\n",
            "  [0.66610047 0.39096892 0.65321346]]\n",
            "\n",
            " [[0.45959608 0.54722414 0.54165902]\n",
            "  [0.68082101 0.7021022  0.03030819]\n",
            "  [0.26365568 0.59225185 0.7151865 ]\n",
            "  [0.95362239 0.06374855 0.78957739]\n",
            "  [0.96367228 0.9850963  0.1048577 ]]] [[[0.02608379 0.56717939 0.97195899 0.01240393 0.24245026]]\n",
            "\n",
            " [[0.27818215 0.532785   0.43318585 0.5976789  0.7308538 ]]\n",
            "\n",
            " [[0.74805207 0.65860983 0.80753585 0.57863114 0.42128744]]\n",
            "\n",
            " [[0.87291855 0.3303223  0.712229   0.6164486  0.12725167]]\n",
            "\n",
            " [[0.82917816 0.00814297 0.23688655 0.24095351 0.13981321]]]\n"
          ]
        }
      ],
      "source": [
        "arr=np.random.rand(5,5,3)\n",
        "arr2=np.random.rand(5,5)\n",
        "print(arr,arr2[::,None])"
      ]
    },
    {
      "cell_type": "markdown",
      "id": "88afd68d",
      "metadata": {
        "id": "88afd68d"
      },
      "source": [
        "#### 72. How to swap two rows of an array? (★★★)"
      ]
    },
    {
      "cell_type": "code",
      "execution_count": 28,
      "id": "ab382690",
      "metadata": {
        "id": "ab382690",
        "colab": {
          "base_uri": "https://localhost:8080/"
        },
        "outputId": "df8a6f8e-d0c3-47cd-8c0a-403d09fcfd7d"
      },
      "outputs": [
        {
          "output_type": "stream",
          "name": "stdout",
          "text": [
            "[[ 0.35869235  0.40881298  1.51809814]\n",
            " [ 1.75301189  0.33576483 -1.20185851]\n",
            " [ 1.29308078  1.08250539  0.61622316]]\n",
            "[[ 1.75301189  0.33576483 -1.20185851]\n",
            " [ 0.35869235  0.40881298  1.51809814]\n",
            " [ 1.29308078  1.08250539  0.61622316]]\n"
          ]
        }
      ],
      "source": [
        "arr1=np.random.randn(3,3)\n",
        "print(arr1)\n",
        "arr1[[1,0]]=arr1[[0,1]]\n",
        "print(arr1)"
      ]
    },
    {
      "cell_type": "markdown",
      "id": "103b64e3",
      "metadata": {
        "id": "103b64e3"
      },
      "source": [
        "#### 73. Consider a set of 10 triplets describing 10 triangles (with shared vertices), find the set of unique line segments composing all the  triangles (★★★)"
      ]
    },
    {
      "cell_type": "code",
      "execution_count": null,
      "id": "ea64e9b8",
      "metadata": {
        "id": "ea64e9b8"
      },
      "outputs": [],
      "source": [
        "import numpy as np\n",
        "\n",
        "# Generate 10 triangles randomly with vertex labels from 0 to 5\n",
        "num_triangles = 10\n",
        "num_vertices = 6  # vertex labels 0,1,...,5\n",
        "\n",
        "# Random triangles (integer vertex labels)\n",
        "triangles = np.random.randint(0, num_vertices, size=(num_triangles, 3))\n",
        "print(\"Triangles:\\n\", triangles)\n",
        "\n",
        "# Step 1: Extract all edges\n",
        "edges = np.vstack([\n",
        "    triangles[:, [0, 1]],\n",
        "    triangles[:, [1, 2]],\n",
        "    triangles[:, [2, 0]]\n",
        "])\n",
        "\n",
        "# Step 2: Make edges order-independent\n",
        "edges = np.sort(edges, axis=1)\n",
        "\n",
        "# Step 3: Get unique edges\n",
        "unique_edges = np.unique(edges, axis=0)\n",
        "print(\"\\nUnique edges:\\n\", unique_edges)\n",
        "\n"
      ]
    },
    {
      "cell_type": "markdown",
      "id": "69e0c2c7",
      "metadata": {
        "id": "69e0c2c7"
      },
      "source": [
        "#### 74. Given a sorted array C that corresponds to a bincount, how to produce an array A such that np.bincount(A) == C? (★★★)"
      ]
    },
    {
      "cell_type": "code",
      "execution_count": 30,
      "id": "7935210d",
      "metadata": {
        "id": "7935210d",
        "colab": {
          "base_uri": "https://localhost:8080/"
        },
        "outputId": "6809f852-94c0-4428-d27b-7d4e4dcfdb47"
      },
      "outputs": [
        {
          "output_type": "stream",
          "name": "stdout",
          "text": [
            "[1 1 2 3 4 4 6]\n"
          ]
        }
      ],
      "source": [
        "import numpy as np\n",
        "C = np.bincount([1,1,2,3,4,4,6])\n",
        "A = np.repeat(np.arange(len(C)), C)\n",
        "print(A)\n"
      ]
    },
    {
      "cell_type": "markdown",
      "id": "a217bfc5",
      "metadata": {
        "id": "a217bfc5"
      },
      "source": [
        "#### 75. How to compute averages using a sliding window over an array? (★★★)"
      ]
    },
    {
      "cell_type": "code",
      "execution_count": 31,
      "id": "16cd9bde",
      "metadata": {
        "id": "16cd9bde",
        "colab": {
          "base_uri": "https://localhost:8080/"
        },
        "outputId": "43e0bc40-2801-4a29-9b5d-61d2cb941338"
      },
      "outputs": [
        {
          "output_type": "stream",
          "name": "stdout",
          "text": [
            "[ 1.  2.  3.  4.  5.  6.  7.  8.  9. 10. 11. 12. 13. 14. 15. 16. 17. 18.]\n"
          ]
        }
      ],
      "source": [
        "\n",
        "from numpy.lib.stride_tricks import sliding_window_view\n",
        "\n",
        "Z = np.arange(20)\n",
        "print(sliding_window_view(Z, window_shape=3).mean(axis=-1))"
      ]
    },
    {
      "cell_type": "markdown",
      "id": "1da33793",
      "metadata": {
        "id": "1da33793"
      },
      "source": [
        "#### 76. Consider a one-dimensional array Z, build a two-dimensional array whose first row is (Z[0],Z[1],Z[2]) and each subsequent row is  shifted by 1 (last row should be (Z[-3],Z[-2],Z[-1]) (★★★)"
      ]
    },
    {
      "cell_type": "code",
      "execution_count": 32,
      "id": "8059a53b",
      "metadata": {
        "id": "8059a53b",
        "colab": {
          "base_uri": "https://localhost:8080/"
        },
        "outputId": "d41b2d48-c10d-43f8-d170-d3ac05254bcd"
      },
      "outputs": [
        {
          "output_type": "stream",
          "name": "stdout",
          "text": [
            "[0 1 2 3 4]\n",
            "[[0 1 2]\n",
            " [1 2 3]\n",
            " [2 3 4]]\n"
          ]
        }
      ],
      "source": [
        "z=np.arange(5)\n",
        "print(z)\n",
        "print(sliding_window_view(z,window_shape=3))"
      ]
    },
    {
      "cell_type": "markdown",
      "id": "f6c798af",
      "metadata": {
        "id": "f6c798af"
      },
      "source": [
        "#### 77. How to negate a boolean, or to change the sign of a float inplace? (★★★)"
      ]
    },
    {
      "cell_type": "code",
      "execution_count": 33,
      "id": "95d52799",
      "metadata": {
        "id": "95d52799",
        "colab": {
          "base_uri": "https://localhost:8080/"
        },
        "outputId": "220c611f-01cc-44a1-daf3-513eb0eeb443"
      },
      "outputs": [
        {
          "output_type": "stream",
          "name": "stdout",
          "text": [
            "Negated booleans: [False  True False]\n",
            "Flipped floats: [-1.5  2.  -3. ]\n"
          ]
        }
      ],
      "source": [
        "import numpy as np\n",
        "\n",
        "bool_arr = np.array([True, False, True])\n",
        "float_arr = np.array([1.5, -2.0, 3.0])\n",
        "\n",
        "bool_arr[:] = ~bool_arr  # or np.logical_not(bool_arr)\n",
        "\n",
        "float_arr *= -1\n",
        "\n",
        "print(\"Negated booleans:\", bool_arr)\n",
        "print(\"Flipped floats:\", float_arr)\n"
      ]
    },
    {
      "cell_type": "markdown",
      "id": "ed6b13c8",
      "metadata": {
        "id": "ed6b13c8"
      },
      "source": [
        "#### 78. Consider 2 sets of points P0,P1 describing lines (2d) and a point p, how to compute distance from p to each line i (P0[i],P1[i])? (★★★)"
      ]
    },
    {
      "cell_type": "code",
      "execution_count": 36,
      "id": "2870e6b4",
      "metadata": {
        "id": "2870e6b4",
        "colab": {
          "base_uri": "https://localhost:8080/"
        },
        "outputId": "aa3bbe25-315c-40b6-d323-ede3c1add2b4"
      },
      "outputs": [
        {
          "output_type": "stream",
          "name": "stdout",
          "text": [
            "[[9.19068123 6.6688116 ]]\n"
          ]
        }
      ],
      "source": [
        "import numpy as np\n",
        "P0 = np.random.uniform(-10,10,(10,2))\n",
        "P1 = np.random.uniform(-10,10,(10,2))\n",
        "p  = np.random.uniform(-10,10,( 1,2))\n",
        "print(p)"
      ]
    },
    {
      "cell_type": "markdown",
      "id": "7f9a94ca",
      "metadata": {
        "id": "7f9a94ca"
      },
      "source": [
        "#### 79. Consider 2 sets of points P0,P1 describing lines (2d) and a set of points P, how to compute distance from each point j (P[j]) to each line i (P0[i],P1[i])? (★★★)"
      ]
    },
    {
      "cell_type": "code",
      "execution_count": 40,
      "id": "de27d0c4",
      "metadata": {
        "id": "de27d0c4",
        "colab": {
          "base_uri": "https://localhost:8080/",
          "height": 185
        },
        "outputId": "52b52509-bd93-4702-f19e-336a5c710ab7"
      },
      "outputs": [
        {
          "output_type": "error",
          "ename": "ValueError",
          "evalue": "setting an array element with a sequence. The requested array has an inhomogeneous shape after 2 dimensions. The detected shape was (10, 3) + inhomogeneous part.",
          "traceback": [
            "\u001b[0;31m---------------------------------------------------------------------------\u001b[0m",
            "\u001b[0;31mValueError\u001b[0m                                Traceback (most recent call last)",
            "\u001b[0;32m/tmp/ipython-input-2384946688.py\u001b[0m in \u001b[0;36m<cell line: 0>\u001b[0;34m()\u001b[0m\n\u001b[1;32m      3\u001b[0m \u001b[0mP1\u001b[0m \u001b[0;34m=\u001b[0m \u001b[0mnp\u001b[0m\u001b[0;34m.\u001b[0m\u001b[0mrandom\u001b[0m\u001b[0;34m.\u001b[0m\u001b[0muniform\u001b[0m\u001b[0;34m(\u001b[0m\u001b[0;34m-\u001b[0m\u001b[0;36m10\u001b[0m\u001b[0;34m,\u001b[0m\u001b[0;36m10\u001b[0m\u001b[0;34m,\u001b[0m\u001b[0;34m(\u001b[0m\u001b[0;36m10\u001b[0m\u001b[0;34m,\u001b[0m\u001b[0;36m2\u001b[0m\u001b[0;34m)\u001b[0m\u001b[0;34m)\u001b[0m\u001b[0;34m\u001b[0m\u001b[0;34m\u001b[0m\u001b[0m\n\u001b[1;32m      4\u001b[0m \u001b[0mp\u001b[0m \u001b[0;34m=\u001b[0m \u001b[0mnp\u001b[0m\u001b[0;34m.\u001b[0m\u001b[0mrandom\u001b[0m\u001b[0;34m.\u001b[0m\u001b[0muniform\u001b[0m\u001b[0;34m(\u001b[0m\u001b[0;34m-\u001b[0m\u001b[0;36m10\u001b[0m\u001b[0;34m,\u001b[0m \u001b[0;36m10\u001b[0m\u001b[0;34m,\u001b[0m \u001b[0;34m(\u001b[0m\u001b[0;36m10\u001b[0m\u001b[0;34m,\u001b[0m\u001b[0;36m2\u001b[0m\u001b[0;34m)\u001b[0m\u001b[0;34m)\u001b[0m\u001b[0;34m\u001b[0m\u001b[0;34m\u001b[0m\u001b[0m\n\u001b[0;32m----> 5\u001b[0;31m \u001b[0mprint\u001b[0m\u001b[0;34m(\u001b[0m\u001b[0mnp\u001b[0m\u001b[0;34m.\u001b[0m\u001b[0marray\u001b[0m\u001b[0;34m(\u001b[0m\u001b[0;34m[\u001b[0m\u001b[0;34m(\u001b[0m\u001b[0mP0\u001b[0m\u001b[0;34m,\u001b[0m\u001b[0mP1\u001b[0m\u001b[0;34m,\u001b[0m\u001b[0mp_i\u001b[0m\u001b[0;34m)\u001b[0m \u001b[0;32mfor\u001b[0m \u001b[0mp_i\u001b[0m \u001b[0;32min\u001b[0m \u001b[0mp\u001b[0m\u001b[0;34m]\u001b[0m\u001b[0;34m)\u001b[0m\u001b[0;34m)\u001b[0m\u001b[0;34m\u001b[0m\u001b[0;34m\u001b[0m\u001b[0m\n\u001b[0m",
            "\u001b[0;31mValueError\u001b[0m: setting an array element with a sequence. The requested array has an inhomogeneous shape after 2 dimensions. The detected shape was (10, 3) + inhomogeneous part."
          ]
        }
      ],
      "source": [
        "import numpy as np\n",
        "P0 = np.random.uniform(-10, 10, (10,2))\n",
        "P1 = np.random.uniform(-10,10,(10,2))\n",
        "p = np.random.uniform(-10, 10, (10,2))\n",
        "print(np.array([(P0,P1,p_i) for p_i in p]))"
      ]
    },
    {
      "cell_type": "markdown",
      "id": "61709616",
      "metadata": {
        "id": "61709616"
      },
      "source": [
        "#### 80. Consider an arbitrary array, write a function that extracts a subpart with a fixed shape and centered on a given element (pad with a `fill` value when necessary) (★★★)"
      ]
    },
    {
      "cell_type": "code",
      "execution_count": 42,
      "id": "952b826a",
      "metadata": {
        "id": "952b826a"
      },
      "outputs": [],
      "source": [
        "def extract_subarray(arr, center, shape, fill=0):\n",
        "    arr = np.asarray(arr)\n",
        "    h, w = shape\n",
        "    pad_h, pad_w = h//2, w//2\n",
        "    arr_padded = np.pad(arr, ((pad_h,pad_h),(pad_w,pad_w)), constant_values=fill)\n",
        "    r, c = center\n",
        "    r_new, c_new = r + pad_h, c + pad_w\n",
        "    return arr_padded[r_new-pad_h:r_new+pad_h+1, c_new-pad_w:c_new+pad_w+1]\n"
      ]
    },
    {
      "cell_type": "markdown",
      "id": "585a0296",
      "metadata": {
        "id": "585a0296"
      },
      "source": [
        "#### 81. Consider an array Z = [1,2,3,4,5,6,7,8,9,10,11,12,13,14], how to generate an array R = [[1,2,3,4], [2,3,4,5], [3,4,5,6], ..., [11,12,13,14]]? (★★★)"
      ]
    },
    {
      "cell_type": "code",
      "execution_count": 2,
      "id": "66729fa0",
      "metadata": {
        "id": "66729fa0",
        "colab": {
          "base_uri": "https://localhost:8080/"
        },
        "outputId": "d3b13c81-443b-4fb7-96e9-dc2489c63540"
      },
      "outputs": [
        {
          "output_type": "stream",
          "name": "stdout",
          "text": [
            "[ 1  2  3  4  5  6  7  8  9 10 11 12 13 14]\n",
            "[[ 1  2  3  4]\n",
            " [ 2  3  4  5]\n",
            " [ 3  4  5  6]\n",
            " [ 4  5  6  7]\n",
            " [ 5  6  7  8]\n",
            " [ 6  7  8  9]\n",
            " [ 7  8  9 10]\n",
            " [ 8  9 10 11]\n",
            " [ 9 10 11 12]\n",
            " [10 11 12 13]\n",
            " [11 12 13 14]]\n"
          ]
        }
      ],
      "source": [
        "import numpy as np\n",
        "arrayZ=np.arange(1,15)\n",
        "print(arrayZ)\n",
        "arrayR=np.array([arrayZ[i:i+4] for i in range(len(arrayZ)-3)])\n",
        "print(arrayR)"
      ]
    },
    {
      "cell_type": "markdown",
      "id": "f6ea03b3",
      "metadata": {
        "id": "f6ea03b3"
      },
      "source": [
        "#### 82. Compute a matrix rank (★★★)"
      ]
    },
    {
      "cell_type": "code",
      "execution_count": 4,
      "id": "80b6d0f4",
      "metadata": {
        "id": "80b6d0f4",
        "colab": {
          "base_uri": "https://localhost:8080/"
        },
        "outputId": "e5270f2f-7b74-4d2e-d03b-5cb98bcbcafc"
      },
      "outputs": [
        {
          "output_type": "stream",
          "name": "stdout",
          "text": [
            "[[ 1.50587007e+00 -2.32817176e-01  1.84007931e-03]\n",
            " [-5.99936022e-01  3.88370179e-01  2.58317141e+00]\n",
            " [-2.70852212e-01 -8.13324318e-01 -1.02590032e+00]]\n",
            "3\n"
          ]
        }
      ],
      "source": [
        "import numpy as np\n",
        "matrix=np.random.randn(3,3)\n",
        "print(matrix)\n",
        "rank=np.linalg.matrix_rank(matrix)\n",
        "print(rank)\n"
      ]
    },
    {
      "cell_type": "markdown",
      "id": "1ef1692e",
      "metadata": {
        "id": "1ef1692e"
      },
      "source": [
        "#### 83. How to find the most frequent value in an array?"
      ]
    },
    {
      "cell_type": "code",
      "execution_count": 7,
      "id": "de8f66cc",
      "metadata": {
        "id": "de8f66cc",
        "colab": {
          "base_uri": "https://localhost:8080/"
        },
        "outputId": "b0ab7b9b-db09-4eee-bfcb-10dfa012375f"
      },
      "outputs": [
        {
          "output_type": "stream",
          "name": "stdout",
          "text": [
            "[ 1  2  2  2  2  2  2  2  3  3  3 35 55]\n",
            "2\n"
          ]
        }
      ],
      "source": [
        "import numpy as np\n",
        "arr=np.array([1,2,2,2,2,2,2,2,3,3,3,35,55])\n",
        "print(arr)\n",
        "print(np.bincount(arr).argmax())"
      ]
    },
    {
      "cell_type": "markdown",
      "id": "310aa04e",
      "metadata": {
        "id": "310aa04e"
      },
      "source": [
        "#### 84. Extract all the contiguous 3x3 blocks from a random 10x10 matrix (★★★)"
      ]
    },
    {
      "cell_type": "code",
      "execution_count": 8,
      "id": "f2639e17",
      "metadata": {
        "id": "f2639e17",
        "colab": {
          "base_uri": "https://localhost:8080/"
        },
        "outputId": "1e993dea-527d-4940-e762-55bbffb1c64c"
      },
      "outputs": [
        {
          "output_type": "stream",
          "name": "stdout",
          "text": [
            "[[0.46653605 0.29237689 0.18153909 0.61255871 0.71850211 0.37192792\n",
            "  0.40137534 0.26086267 0.84697646 0.65025534]\n",
            " [0.41966103 0.82948564 0.95065097 0.41575791 0.54635501 0.84209344\n",
            "  0.22167398 0.05972032 0.70992927 0.55569402]\n",
            " [0.09309549 0.16097731 0.25457655 0.89789312 0.29584937 0.71721053\n",
            "  0.93511043 0.91731204 0.42872099 0.33420933]\n",
            " [0.66190467 0.7167376  0.8544244  0.70348943 0.911666   0.74417532\n",
            "  0.33015468 0.84226149 0.8046223  0.50905301]\n",
            " [0.90271318 0.4969139  0.56492075 0.59965362 0.9968798  0.63514491\n",
            "  0.63766559 0.01227797 0.56016462 0.83358081]\n",
            " [0.15372954 0.54302836 0.56501312 0.25842685 0.58901896 0.00182435\n",
            "  0.60240796 0.76305829 0.6079703  0.89985952]\n",
            " [0.6793079  0.27259302 0.53890536 0.60457781 0.98804877 0.4240632\n",
            "  0.86334916 0.25488395 0.13984519 0.84474576]\n",
            " [0.84127867 0.59063187 0.7144304  0.94267919 0.43767307 0.31852872\n",
            "  0.62632116 0.15781541 0.24167017 0.03180123]\n",
            " [0.43645337 0.58262932 0.61157077 0.05485716 0.43179862 0.00862547\n",
            "  0.45492763 0.74084276 0.16943571 0.19274189]\n",
            " [0.81832914 0.43961106 0.57955239 0.83743344 0.79030599 0.3864421\n",
            "  0.96142574 0.99053253 0.59503929 0.65284581]]\n",
            "[[[[0.46653605 0.29237689 0.18153909]\n",
            "   [0.41966103 0.82948564 0.95065097]\n",
            "   [0.09309549 0.16097731 0.25457655]]\n",
            "\n",
            "  [[0.29237689 0.18153909 0.61255871]\n",
            "   [0.82948564 0.95065097 0.41575791]\n",
            "   [0.16097731 0.25457655 0.89789312]]\n",
            "\n",
            "  [[0.18153909 0.61255871 0.71850211]\n",
            "   [0.95065097 0.41575791 0.54635501]\n",
            "   [0.25457655 0.89789312 0.29584937]]\n",
            "\n",
            "  [[0.61255871 0.71850211 0.37192792]\n",
            "   [0.41575791 0.54635501 0.84209344]\n",
            "   [0.89789312 0.29584937 0.71721053]]\n",
            "\n",
            "  [[0.71850211 0.37192792 0.40137534]\n",
            "   [0.54635501 0.84209344 0.22167398]\n",
            "   [0.29584937 0.71721053 0.93511043]]\n",
            "\n",
            "  [[0.37192792 0.40137534 0.26086267]\n",
            "   [0.84209344 0.22167398 0.05972032]\n",
            "   [0.71721053 0.93511043 0.91731204]]\n",
            "\n",
            "  [[0.40137534 0.26086267 0.84697646]\n",
            "   [0.22167398 0.05972032 0.70992927]\n",
            "   [0.93511043 0.91731204 0.42872099]]\n",
            "\n",
            "  [[0.26086267 0.84697646 0.65025534]\n",
            "   [0.05972032 0.70992927 0.55569402]\n",
            "   [0.91731204 0.42872099 0.33420933]]]\n",
            "\n",
            "\n",
            " [[[0.41966103 0.82948564 0.95065097]\n",
            "   [0.09309549 0.16097731 0.25457655]\n",
            "   [0.66190467 0.7167376  0.8544244 ]]\n",
            "\n",
            "  [[0.82948564 0.95065097 0.41575791]\n",
            "   [0.16097731 0.25457655 0.89789312]\n",
            "   [0.7167376  0.8544244  0.70348943]]\n",
            "\n",
            "  [[0.95065097 0.41575791 0.54635501]\n",
            "   [0.25457655 0.89789312 0.29584937]\n",
            "   [0.8544244  0.70348943 0.911666  ]]\n",
            "\n",
            "  [[0.41575791 0.54635501 0.84209344]\n",
            "   [0.89789312 0.29584937 0.71721053]\n",
            "   [0.70348943 0.911666   0.74417532]]\n",
            "\n",
            "  [[0.54635501 0.84209344 0.22167398]\n",
            "   [0.29584937 0.71721053 0.93511043]\n",
            "   [0.911666   0.74417532 0.33015468]]\n",
            "\n",
            "  [[0.84209344 0.22167398 0.05972032]\n",
            "   [0.71721053 0.93511043 0.91731204]\n",
            "   [0.74417532 0.33015468 0.84226149]]\n",
            "\n",
            "  [[0.22167398 0.05972032 0.70992927]\n",
            "   [0.93511043 0.91731204 0.42872099]\n",
            "   [0.33015468 0.84226149 0.8046223 ]]\n",
            "\n",
            "  [[0.05972032 0.70992927 0.55569402]\n",
            "   [0.91731204 0.42872099 0.33420933]\n",
            "   [0.84226149 0.8046223  0.50905301]]]\n",
            "\n",
            "\n",
            " [[[0.09309549 0.16097731 0.25457655]\n",
            "   [0.66190467 0.7167376  0.8544244 ]\n",
            "   [0.90271318 0.4969139  0.56492075]]\n",
            "\n",
            "  [[0.16097731 0.25457655 0.89789312]\n",
            "   [0.7167376  0.8544244  0.70348943]\n",
            "   [0.4969139  0.56492075 0.59965362]]\n",
            "\n",
            "  [[0.25457655 0.89789312 0.29584937]\n",
            "   [0.8544244  0.70348943 0.911666  ]\n",
            "   [0.56492075 0.59965362 0.9968798 ]]\n",
            "\n",
            "  [[0.89789312 0.29584937 0.71721053]\n",
            "   [0.70348943 0.911666   0.74417532]\n",
            "   [0.59965362 0.9968798  0.63514491]]\n",
            "\n",
            "  [[0.29584937 0.71721053 0.93511043]\n",
            "   [0.911666   0.74417532 0.33015468]\n",
            "   [0.9968798  0.63514491 0.63766559]]\n",
            "\n",
            "  [[0.71721053 0.93511043 0.91731204]\n",
            "   [0.74417532 0.33015468 0.84226149]\n",
            "   [0.63514491 0.63766559 0.01227797]]\n",
            "\n",
            "  [[0.93511043 0.91731204 0.42872099]\n",
            "   [0.33015468 0.84226149 0.8046223 ]\n",
            "   [0.63766559 0.01227797 0.56016462]]\n",
            "\n",
            "  [[0.91731204 0.42872099 0.33420933]\n",
            "   [0.84226149 0.8046223  0.50905301]\n",
            "   [0.01227797 0.56016462 0.83358081]]]\n",
            "\n",
            "\n",
            " [[[0.66190467 0.7167376  0.8544244 ]\n",
            "   [0.90271318 0.4969139  0.56492075]\n",
            "   [0.15372954 0.54302836 0.56501312]]\n",
            "\n",
            "  [[0.7167376  0.8544244  0.70348943]\n",
            "   [0.4969139  0.56492075 0.59965362]\n",
            "   [0.54302836 0.56501312 0.25842685]]\n",
            "\n",
            "  [[0.8544244  0.70348943 0.911666  ]\n",
            "   [0.56492075 0.59965362 0.9968798 ]\n",
            "   [0.56501312 0.25842685 0.58901896]]\n",
            "\n",
            "  [[0.70348943 0.911666   0.74417532]\n",
            "   [0.59965362 0.9968798  0.63514491]\n",
            "   [0.25842685 0.58901896 0.00182435]]\n",
            "\n",
            "  [[0.911666   0.74417532 0.33015468]\n",
            "   [0.9968798  0.63514491 0.63766559]\n",
            "   [0.58901896 0.00182435 0.60240796]]\n",
            "\n",
            "  [[0.74417532 0.33015468 0.84226149]\n",
            "   [0.63514491 0.63766559 0.01227797]\n",
            "   [0.00182435 0.60240796 0.76305829]]\n",
            "\n",
            "  [[0.33015468 0.84226149 0.8046223 ]\n",
            "   [0.63766559 0.01227797 0.56016462]\n",
            "   [0.60240796 0.76305829 0.6079703 ]]\n",
            "\n",
            "  [[0.84226149 0.8046223  0.50905301]\n",
            "   [0.01227797 0.56016462 0.83358081]\n",
            "   [0.76305829 0.6079703  0.89985952]]]\n",
            "\n",
            "\n",
            " [[[0.90271318 0.4969139  0.56492075]\n",
            "   [0.15372954 0.54302836 0.56501312]\n",
            "   [0.6793079  0.27259302 0.53890536]]\n",
            "\n",
            "  [[0.4969139  0.56492075 0.59965362]\n",
            "   [0.54302836 0.56501312 0.25842685]\n",
            "   [0.27259302 0.53890536 0.60457781]]\n",
            "\n",
            "  [[0.56492075 0.59965362 0.9968798 ]\n",
            "   [0.56501312 0.25842685 0.58901896]\n",
            "   [0.53890536 0.60457781 0.98804877]]\n",
            "\n",
            "  [[0.59965362 0.9968798  0.63514491]\n",
            "   [0.25842685 0.58901896 0.00182435]\n",
            "   [0.60457781 0.98804877 0.4240632 ]]\n",
            "\n",
            "  [[0.9968798  0.63514491 0.63766559]\n",
            "   [0.58901896 0.00182435 0.60240796]\n",
            "   [0.98804877 0.4240632  0.86334916]]\n",
            "\n",
            "  [[0.63514491 0.63766559 0.01227797]\n",
            "   [0.00182435 0.60240796 0.76305829]\n",
            "   [0.4240632  0.86334916 0.25488395]]\n",
            "\n",
            "  [[0.63766559 0.01227797 0.56016462]\n",
            "   [0.60240796 0.76305829 0.6079703 ]\n",
            "   [0.86334916 0.25488395 0.13984519]]\n",
            "\n",
            "  [[0.01227797 0.56016462 0.83358081]\n",
            "   [0.76305829 0.6079703  0.89985952]\n",
            "   [0.25488395 0.13984519 0.84474576]]]\n",
            "\n",
            "\n",
            " [[[0.15372954 0.54302836 0.56501312]\n",
            "   [0.6793079  0.27259302 0.53890536]\n",
            "   [0.84127867 0.59063187 0.7144304 ]]\n",
            "\n",
            "  [[0.54302836 0.56501312 0.25842685]\n",
            "   [0.27259302 0.53890536 0.60457781]\n",
            "   [0.59063187 0.7144304  0.94267919]]\n",
            "\n",
            "  [[0.56501312 0.25842685 0.58901896]\n",
            "   [0.53890536 0.60457781 0.98804877]\n",
            "   [0.7144304  0.94267919 0.43767307]]\n",
            "\n",
            "  [[0.25842685 0.58901896 0.00182435]\n",
            "   [0.60457781 0.98804877 0.4240632 ]\n",
            "   [0.94267919 0.43767307 0.31852872]]\n",
            "\n",
            "  [[0.58901896 0.00182435 0.60240796]\n",
            "   [0.98804877 0.4240632  0.86334916]\n",
            "   [0.43767307 0.31852872 0.62632116]]\n",
            "\n",
            "  [[0.00182435 0.60240796 0.76305829]\n",
            "   [0.4240632  0.86334916 0.25488395]\n",
            "   [0.31852872 0.62632116 0.15781541]]\n",
            "\n",
            "  [[0.60240796 0.76305829 0.6079703 ]\n",
            "   [0.86334916 0.25488395 0.13984519]\n",
            "   [0.62632116 0.15781541 0.24167017]]\n",
            "\n",
            "  [[0.76305829 0.6079703  0.89985952]\n",
            "   [0.25488395 0.13984519 0.84474576]\n",
            "   [0.15781541 0.24167017 0.03180123]]]\n",
            "\n",
            "\n",
            " [[[0.6793079  0.27259302 0.53890536]\n",
            "   [0.84127867 0.59063187 0.7144304 ]\n",
            "   [0.43645337 0.58262932 0.61157077]]\n",
            "\n",
            "  [[0.27259302 0.53890536 0.60457781]\n",
            "   [0.59063187 0.7144304  0.94267919]\n",
            "   [0.58262932 0.61157077 0.05485716]]\n",
            "\n",
            "  [[0.53890536 0.60457781 0.98804877]\n",
            "   [0.7144304  0.94267919 0.43767307]\n",
            "   [0.61157077 0.05485716 0.43179862]]\n",
            "\n",
            "  [[0.60457781 0.98804877 0.4240632 ]\n",
            "   [0.94267919 0.43767307 0.31852872]\n",
            "   [0.05485716 0.43179862 0.00862547]]\n",
            "\n",
            "  [[0.98804877 0.4240632  0.86334916]\n",
            "   [0.43767307 0.31852872 0.62632116]\n",
            "   [0.43179862 0.00862547 0.45492763]]\n",
            "\n",
            "  [[0.4240632  0.86334916 0.25488395]\n",
            "   [0.31852872 0.62632116 0.15781541]\n",
            "   [0.00862547 0.45492763 0.74084276]]\n",
            "\n",
            "  [[0.86334916 0.25488395 0.13984519]\n",
            "   [0.62632116 0.15781541 0.24167017]\n",
            "   [0.45492763 0.74084276 0.16943571]]\n",
            "\n",
            "  [[0.25488395 0.13984519 0.84474576]\n",
            "   [0.15781541 0.24167017 0.03180123]\n",
            "   [0.74084276 0.16943571 0.19274189]]]\n",
            "\n",
            "\n",
            " [[[0.84127867 0.59063187 0.7144304 ]\n",
            "   [0.43645337 0.58262932 0.61157077]\n",
            "   [0.81832914 0.43961106 0.57955239]]\n",
            "\n",
            "  [[0.59063187 0.7144304  0.94267919]\n",
            "   [0.58262932 0.61157077 0.05485716]\n",
            "   [0.43961106 0.57955239 0.83743344]]\n",
            "\n",
            "  [[0.7144304  0.94267919 0.43767307]\n",
            "   [0.61157077 0.05485716 0.43179862]\n",
            "   [0.57955239 0.83743344 0.79030599]]\n",
            "\n",
            "  [[0.94267919 0.43767307 0.31852872]\n",
            "   [0.05485716 0.43179862 0.00862547]\n",
            "   [0.83743344 0.79030599 0.3864421 ]]\n",
            "\n",
            "  [[0.43767307 0.31852872 0.62632116]\n",
            "   [0.43179862 0.00862547 0.45492763]\n",
            "   [0.79030599 0.3864421  0.96142574]]\n",
            "\n",
            "  [[0.31852872 0.62632116 0.15781541]\n",
            "   [0.00862547 0.45492763 0.74084276]\n",
            "   [0.3864421  0.96142574 0.99053253]]\n",
            "\n",
            "  [[0.62632116 0.15781541 0.24167017]\n",
            "   [0.45492763 0.74084276 0.16943571]\n",
            "   [0.96142574 0.99053253 0.59503929]]\n",
            "\n",
            "  [[0.15781541 0.24167017 0.03180123]\n",
            "   [0.74084276 0.16943571 0.19274189]\n",
            "   [0.99053253 0.59503929 0.65284581]]]]\n"
          ]
        }
      ],
      "source": [
        "import numpy as np\n",
        "matrix=np.random.rand(10,10)\n",
        "print(matrix)\n",
        "blocks=np.lib.stride_tricks.sliding_window_view(matrix,(3,3))\n",
        "print(blocks)"
      ]
    },
    {
      "cell_type": "markdown",
      "id": "cdf46958",
      "metadata": {
        "id": "cdf46958"
      },
      "source": [
        "#### 85. Create a 2D array subclass such that Z[i,j] == Z[j,i] (★★★)"
      ]
    },
    {
      "cell_type": "code",
      "execution_count": 9,
      "id": "7f3cb2c9",
      "metadata": {
        "id": "7f3cb2c9"
      },
      "outputs": [],
      "source": [
        "import numpy as np\n",
        "class Symetric(np.ndarray):\n",
        "    def __setitem__(self, index, value):\n",
        "        i,j = index"
      ]
    },
    {
      "cell_type": "markdown",
      "id": "9ab6b1ca",
      "metadata": {
        "id": "9ab6b1ca"
      },
      "source": [
        "#### 86. Consider a set of p matrices with shape (n,n) and a set of p vectors with shape (n,1). How to compute the sum of of the p matrix products at once? (result has shape (n,1)) (★★★)"
      ]
    },
    {
      "cell_type": "code",
      "execution_count": 10,
      "id": "a6f93a7b",
      "metadata": {
        "id": "a6f93a7b",
        "colab": {
          "base_uri": "https://localhost:8080/"
        },
        "outputId": "9f0c6e07-be7f-4e42-fe58-0c9fc555266c"
      },
      "outputs": [
        {
          "output_type": "stream",
          "name": "stdout",
          "text": [
            "[[0.69029297 0.41442529 0.49806028]\n",
            " [0.97317091 0.85095012 0.7551872 ]\n",
            " [0.9445949  0.36248899 0.25856238]]\n",
            "[[0.32064574]\n",
            " [0.51868772]\n",
            " [0.73465766]]\n",
            "[[0.80220061]\n",
            " [1.30822455]\n",
            " [0.68085376]]\n"
          ]
        }
      ],
      "source": [
        "import numpy as np\n",
        "p_matrix=np.random.rand(3,3)\n",
        "p_vector=np.random.rand(3,1)\n",
        "print(p_matrix)\n",
        "print(p_vector)\n",
        "print(np.dot(p_matrix,p_vector))\n"
      ]
    },
    {
      "cell_type": "markdown",
      "id": "2c8cd60e",
      "metadata": {
        "id": "2c8cd60e"
      },
      "source": [
        "#### 87. Consider a 16x16 array, how to get the block-sum (block size is 4x4)? (★★★)"
      ]
    },
    {
      "cell_type": "code",
      "execution_count": null,
      "id": "1f8d7f5f",
      "metadata": {
        "id": "1f8d7f5f"
      },
      "outputs": [],
      "source": [
        "arr=np.randomrand(16,16)\n",
        "print(arr)\n",
        "block_sum=np.add.reduceat(np.add.reduceat(arr,np.arange(0,arr.shape[0],4),axis=0),np.arange(0,arr.shape[1],4),axis=1)"
      ]
    },
    {
      "cell_type": "markdown",
      "id": "cbd5321e",
      "metadata": {
        "id": "cbd5321e"
      },
      "source": [
        "#### 88. How to implement the Game of Life using numpy arrays? (★★★)"
      ]
    },
    {
      "cell_type": "code",
      "execution_count": null,
      "id": "a8bd84fd",
      "metadata": {
        "id": "a8bd84fd"
      },
      "outputs": [],
      "source": [
        "def iterate(Z):\n",
        "    # Count neighbours\n",
        "    N = (Z[0:-2,0:-2] + Z[0:-2,1:-1] + Z[0:-2,2:] +\n",
        "         Z[1:-1,0:-2]                + Z[1:-1,2:] +\n",
        "         Z[2:  ,0:-2] + Z[2:  ,1:-1] + Z[2:  ,2:])\n",
        "\n",
        "    # Apply rules\n",
        "    birth = (N==3) & (Z[1:-1,1:-1]==0)\n",
        "    survive = ((N==2) | (N==3)) & (Z[1:-1,1:-1]==1)\n",
        "    Z[...] = 0\n",
        "    Z[1:-1,1:-1][birth | survive] = 1\n",
        "    return Z\n",
        "\n",
        "Z = np.random.randint(0,2,(50,50))\n",
        "for i in range(100): Z = iterate(Z)\n",
        "print(Z)\n",
        "```"
      ]
    },
    {
      "cell_type": "markdown",
      "id": "f9c4b416",
      "metadata": {
        "id": "f9c4b416"
      },
      "source": [
        "#### 89. How to get the n largest values of an array (★★★)"
      ]
    },
    {
      "cell_type": "code",
      "execution_count": 11,
      "id": "c4123ace",
      "metadata": {
        "id": "c4123ace",
        "colab": {
          "base_uri": "https://localhost:8080/"
        },
        "outputId": "e4e7d8ef-dce9-4859-a108-7fff745d07ae"
      },
      "outputs": [
        {
          "output_type": "stream",
          "name": "stdout",
          "text": [
            "[0.75092201 0.6311908  0.35275309 0.34835384 0.61528611 0.5456255\n",
            " 0.75121171 0.49754492 0.80830504 0.76372407]\n",
            "[0.75121171 0.76372407 0.80830504]\n"
          ]
        }
      ],
      "source": [
        "import numpy as np\n",
        "arr=np.random.rand(10)\n",
        "print(arr)\n",
        "print(np.sort(arr)[-3:])"
      ]
    },
    {
      "cell_type": "markdown",
      "id": "495897e7",
      "metadata": {
        "id": "495897e7"
      },
      "source": [
        "#### 90. Given an arbitrary number of vectors, build the cartesian product (every combination of every item) (★★★)"
      ]
    },
    {
      "cell_type": "code",
      "execution_count": 14,
      "id": "9a9ed4a7",
      "metadata": {
        "id": "9a9ed4a7"
      },
      "outputs": [],
      "source": [
        "import numpy as np\n",
        "def cartesian(arrays):\n",
        "    arrays = [np.asarray(a) for a in arrays]\n",
        "    shape = (len(x) for x in arrays)\n",
        "\n",
        "    ix = np.indices(shape, dtype=int)\n",
        "    ix = ix.reshape(len(arrays), -1).T\n",
        "\n",
        "    for n, arr in enumerate(arrays):\n",
        "        ix[:, n] = arrays[n][ix[:, n]]\n",
        "\n",
        "    return ix\n",
        ""
      ]
    },
    {
      "cell_type": "markdown",
      "id": "c26bde0b",
      "metadata": {
        "id": "c26bde0b"
      },
      "source": [
        "#### 91. How to create a record array from a regular array? (★★★)"
      ]
    },
    {
      "cell_type": "code",
      "source": [
        "Z = np.array([(\"Hello\", 2.5, 3),\n",
        "              (\"World\", 3.6, 2)])\n",
        "R = np.core.records.fromarrays(Z.T,\n",
        "                               names='col1, col2, col3',\n",
        "                               formats = 'S8, f8, i8')\n",
        "print(R)\n"
      ],
      "metadata": {
        "id": "6kLcY7JINf9S"
      },
      "id": "6kLcY7JINf9S",
      "execution_count": null,
      "outputs": []
    },
    {
      "cell_type": "code",
      "execution_count": null,
      "id": "4958f3a6",
      "metadata": {
        "id": "4958f3a6"
      },
      "outputs": [],
      "source": []
    },
    {
      "cell_type": "markdown",
      "id": "d6c5435c",
      "metadata": {
        "id": "d6c5435c"
      },
      "source": [
        "#### 92. Consider a large vector Z, compute Z to the power of 3 using 3 different methods (★★★)"
      ]
    },
    {
      "cell_type": "code",
      "execution_count": 15,
      "id": "5269d1ec",
      "metadata": {
        "id": "5269d1ec",
        "colab": {
          "base_uri": "https://localhost:8080/"
        },
        "outputId": "c10880d1-ece7-4e9d-dcf5-e68692d6c2d7"
      },
      "outputs": [
        {
          "output_type": "stream",
          "name": "stdout",
          "text": [
            "[0.81862437 0.92720965 0.22504553 0.4581074  0.85225368 0.26814627\n",
            " 0.76231288 0.30009102 0.67349501 0.52032062]\n",
            "[0.54859773 0.79713858 0.01139754 0.09613951 0.6190228  0.01928037\n",
            " 0.44299597 0.02702458 0.30549433 0.14086824]\n",
            "[0.54859773 0.79713858 0.01139754 0.09613951 0.6190228  0.01928037\n",
            " 0.44299597 0.02702458 0.30549433 0.14086824]\n"
          ]
        }
      ],
      "source": [
        "vectorZ=np.random.rand(10)\n",
        "print(vectorZ)\n",
        "print(np.power(vectorZ,3))\n",
        "print(vectorZ*vectorZ*vectorZ)"
      ]
    },
    {
      "cell_type": "markdown",
      "id": "9f7efc22",
      "metadata": {
        "id": "9f7efc22"
      },
      "source": [
        "#### 93. Consider two arrays A and B of shape (8,3) and (2,2). How to find rows of A that contain elements of each row of B regardless of the order of the elements in B? (★★★)"
      ]
    },
    {
      "cell_type": "code",
      "execution_count": 17,
      "id": "1d9166aa",
      "metadata": {
        "id": "1d9166aa",
        "colab": {
          "base_uri": "https://localhost:8080/"
        },
        "outputId": "c00b93be-6efb-4a8c-910e-1cffea6e9d10"
      },
      "outputs": [
        {
          "output_type": "stream",
          "name": "stdout",
          "text": [
            "[[4 1 4]\n",
            " [4 4 4]\n",
            " [0 1 2]\n",
            " [1 2 2]\n",
            " [4 1 4]\n",
            " [0 2 4]\n",
            " [1 4 0]\n",
            " [1 2 3]]\n",
            "[[1 4]\n",
            " [4 4]]\n",
            "[0 1 4 5 6]\n"
          ]
        }
      ],
      "source": [
        "A=np.random.randint(0,5,(8,3))\n",
        "B=np.random.randint(0,5,(2,2))\n",
        "print(A)\n",
        "print(B)\n",
        "C=(A[...,np.newaxis,np.newaxis]==B)\n",
        "rows=np.where(C.any((3,1)).all(1))[0]\n",
        "print(rows)"
      ]
    },
    {
      "cell_type": "markdown",
      "id": "2bfe9e3c",
      "metadata": {
        "id": "2bfe9e3c"
      },
      "source": [
        "#### 94. Considering a 10x3 matrix, extract rows with unequal values (e.g. [2,2,3]) (★★★)"
      ]
    },
    {
      "cell_type": "code",
      "execution_count": 18,
      "id": "c00f8f84",
      "metadata": {
        "id": "c00f8f84",
        "colab": {
          "base_uri": "https://localhost:8080/"
        },
        "outputId": "bba39fd4-b6c5-4f97-e885-a1af59c7d0cc"
      },
      "outputs": [
        {
          "output_type": "stream",
          "name": "stdout",
          "text": [
            "[[0.43462723 0.52987242 0.20016766]\n",
            " [0.80998066 0.10489114 0.61567526]\n",
            " [0.52735237 0.36164343 0.62504481]\n",
            " [0.4634079  0.02322749 0.98126517]\n",
            " [0.24688367 0.42533767 0.89272821]\n",
            " [0.35594485 0.51257858 0.23327783]\n",
            " [0.75828396 0.59266473 0.76844206]\n",
            " [0.72290554 0.55420319 0.64595388]\n",
            " [0.02544827 0.48069676 0.76764811]\n",
            " [0.68509291 0.76291341 0.94597755]]\n",
            "[[0.43462723 0.52987242 0.20016766]\n",
            " [0.80998066 0.10489114 0.61567526]\n",
            " [0.52735237 0.36164343 0.62504481]\n",
            " [0.4634079  0.02322749 0.98126517]\n",
            " [0.24688367 0.42533767 0.89272821]\n",
            " [0.35594485 0.51257858 0.23327783]\n",
            " [0.75828396 0.59266473 0.76844206]\n",
            " [0.72290554 0.55420319 0.64595388]\n",
            " [0.02544827 0.48069676 0.76764811]\n",
            " [0.68509291 0.76291341 0.94597755]]\n"
          ]
        }
      ],
      "source": [
        "matrix=np.random.rand(10,3)\n",
        "print(matrix)\n",
        "print(matrix[~np.all(matrix[:,1:]==matrix[:,:-1],axis=1)])"
      ]
    },
    {
      "cell_type": "markdown",
      "id": "1bebee22",
      "metadata": {
        "id": "1bebee22"
      },
      "source": [
        "#### 95. Convert a vector of ints into a matrix binary representation (★★★)"
      ]
    },
    {
      "cell_type": "code",
      "execution_count": null,
      "id": "4bf1b73f",
      "metadata": {
        "id": "4bf1b73f"
      },
      "outputs": [],
      "source": []
    },
    {
      "cell_type": "markdown",
      "id": "37acca61",
      "metadata": {
        "id": "37acca61"
      },
      "source": [
        "#### 96. Given a two dimensional array, how to extract unique rows? (★★★)"
      ]
    },
    {
      "cell_type": "code",
      "execution_count": 19,
      "id": "7051b1d7",
      "metadata": {
        "id": "7051b1d7",
        "colab": {
          "base_uri": "https://localhost:8080/"
        },
        "outputId": "9a485280-8f62-4fc2-e401-47eaf59e8816"
      },
      "outputs": [
        {
          "output_type": "stream",
          "name": "stdout",
          "text": [
            "[[0 0 1]\n",
            " [1 0 0]\n",
            " [1 0 0]\n",
            " [0 1 0]\n",
            " [0 1 1]\n",
            " [0 0 1]]\n",
            "[[0 0 1]\n",
            " [0 1 0]\n",
            " [0 1 1]\n",
            " [1 0 0]]\n"
          ]
        }
      ],
      "source": [
        "arr=np.random.randint(0,2,(6,3))\n",
        "print(arr)\n",
        "unique_rows=np.unique(arr,axis=0)\n",
        "print(unique_rows)"
      ]
    },
    {
      "cell_type": "markdown",
      "id": "6c8a313c",
      "metadata": {
        "id": "6c8a313c"
      },
      "source": [
        "#### 97. Considering 2 vectors A & B, write the einsum equivalent of inner, outer, sum, and mul function (★★★)"
      ]
    },
    {
      "cell_type": "code",
      "execution_count": 21,
      "id": "7bb32dd1",
      "metadata": {
        "id": "7bb32dd1",
        "colab": {
          "base_uri": "https://localhost:8080/"
        },
        "outputId": "5b0648b9-bd2e-4e3b-ad3f-80a2e8e675cf"
      },
      "outputs": [
        {
          "output_type": "stream",
          "name": "stdout",
          "text": [
            "6.487882777275253\n",
            "[0.81489798 0.61544967 0.4877429  0.36821192 0.42355323 0.34529031\n",
            " 0.42408277 0.19686124 0.18898993 0.02112501]\n",
            "3.886204956333488\n",
            "[[0.81489798 0.56078343 0.4497534  0.51552002 0.53107978 0.38466153\n",
            "  0.5615513  0.36975463 0.90593295 0.29708294]\n",
            " [0.89433578 0.61544967 0.49359621 0.56577389 0.58285045 0.42215907\n",
            "  0.61629239 0.40579902 0.99424501 0.32604315]\n",
            " [0.8837303  0.60815135 0.4877429  0.55906466 0.57593871 0.41715289\n",
            "  0.60898408 0.40098685 0.98245475 0.32217677]\n",
            " [0.58204364 0.40054147 0.32123789 0.36821192 0.37932553 0.2747458\n",
            "  0.40108992 0.2640985  0.64706568 0.2121925 ]\n",
            " [0.64990739 0.44724285 0.35869282 0.41114382 0.42355323 0.30677996\n",
            "  0.44785526 0.29489123 0.72251071 0.23693322]\n",
            " [0.73149081 0.50338562 0.40371984 0.46275505 0.47672223 0.34529031\n",
            "  0.5040749  0.33190918 0.81320809 0.26667564]\n",
            " [0.61540983 0.42350287 0.33965314 0.38932001 0.40107072 0.29049586\n",
            "  0.42408277 0.27923819 0.68415931 0.22435663]\n",
            " [0.43386022 0.29856698 0.23945342 0.27446826 0.28275244 0.20479783\n",
            "  0.2989758  0.19686124 0.48232819 0.15817007]\n",
            " [0.1699988  0.11698705 0.09382467 0.10754449 0.11079046 0.08024563\n",
            "  0.11714724 0.07713584 0.18898993 0.06197554]\n",
            " [0.05794585 0.03987625 0.03198111 0.03665765 0.03776408 0.02735255\n",
            "  0.03993085 0.02629255 0.06441918 0.02112501]]\n"
          ]
        }
      ],
      "source": [
        "a=np.random.rand(10)\n",
        "b=np.random.rand(10)\n",
        "print(np.einsum('i->',a))\n",
        "print(np.einsum('i,i->i',a,b))\n",
        "print(np.einsum('i,i',a,b))\n",
        "print(np.einsum('i,j',a,b))"
      ]
    },
    {
      "cell_type": "markdown",
      "id": "dffed116",
      "metadata": {
        "id": "dffed116"
      },
      "source": [
        "#### 98. Considering a path described by two vectors (X,Y), how to sample it using equidistant samples (★★★)?"
      ]
    },
    {
      "cell_type": "code",
      "execution_count": 23,
      "id": "c8a0a05f",
      "metadata": {
        "id": "c8a0a05f",
        "colab": {
          "base_uri": "https://localhost:8080/"
        },
        "outputId": "76ce5d63-d75d-4f63-c8fd-bed97ef937a7"
      },
      "outputs": [
        {
          "output_type": "stream",
          "name": "stdout",
          "text": [
            "[[ 0.00000000e+00  0.00000000e+00]\n",
            " [ 9.95004165e-02  9.98334166e-03]\n",
            " [ 1.96013316e-01  3.97338662e-02]\n",
            " [ 2.86600947e-01  8.86560620e-02]\n",
            " [ 3.68424398e-01  1.55767337e-01]\n",
            " [ 4.38791281e-01  2.39712769e-01]\n",
            " [ 4.95201369e-01  3.38785484e-01]\n",
            " [ 5.35389531e-01  4.50952381e-01]\n",
            " [ 5.57365367e-01  5.73884873e-01]\n",
            " [ 5.59448971e-01  7.04994219e-01]\n",
            " [ 5.40302306e-01  8.41470985e-01]\n",
            " [ 4.98955734e-01  9.80328096e-01]\n",
            " [ 4.34829305e-01  1.11844690e+00]\n",
            " [ 3.47748477e-01  1.25262564e+00]\n",
            " [ 2.37954000e-01  1.37962962e+00]\n",
            " [ 1.06105803e-01  1.49624248e+00]\n",
            " [-4.67192357e-02  1.59931776e+00]\n",
            " [-2.19035640e-01  1.68583018e+00]\n",
            " [-4.08963770e-01  1.75292574e+00]\n",
            " [-6.14250177e-01  1.79797017e+00]\n",
            " [-8.32293673e-01  1.81859485e+00]\n",
            " [-1.06017682e+00  1.81273967e+00]\n",
            " [-1.29470246e+00  1.77869209e+00]\n",
            " [-1.53243485e+00  1.71512199e+00]\n",
            " [-1.76974492e+00  1.62111163e+00]\n",
            " [-2.00285904e+00  1.49618036e+00]\n",
            " [-2.22791076e+00  1.34030357e+00]\n",
            " [-2.44099478e+00  1.15392568e+00]\n",
            " [-2.63822255e+00  9.37966820e-01]\n",
            " [-2.81577868e+00  6.93823055e-01]\n",
            " [-2.96997749e+00  4.23360024e-01]\n",
            " [-3.09731897e+00  1.28900054e-01]\n",
            " [-3.19454328e+00 -1.86797259e-01]\n",
            " [-3.25868324e+00 -5.20560791e-01]\n",
            " [-3.28711385e+00 -8.68839747e-01]\n",
            " [-3.27759841e+00 -1.22774130e+00]\n",
            " [-3.22833030e+00 -1.59307360e+00]\n",
            " [-3.13797012e+00 -1.96039372e+00]\n",
            " [-3.00567731e+00 -2.32505999e+00]\n",
            " [-2.83113599e+00 -2.68228802e+00]\n",
            " [-2.61457448e+00 -3.02720998e+00]\n",
            " [-2.35677818e+00 -3.35493616e+00]\n",
            " [-2.05909545e+00 -3.66061824e+00]\n",
            " [-1.72343644e+00 -3.93951353e+00]\n",
            " [-1.35226463e+00 -4.18704913e+00]\n",
            " [-9.48581097e-01 -4.39888553e+00]\n",
            " [-5.15901624e-01 -4.57097862e+00]\n",
            " [-5.82267183e-02 -4.69963931e+00]\n",
            " [ 4.19995121e-01 -4.78159012e+00]\n",
            " [ 9.13910610e-01 -4.81401780e+00]\n",
            " [ 1.41831093e+00 -4.79462137e+00]\n",
            " [ 1.92768649e+00 -4.72165488e+00]\n",
            " [ 2.43628669e+00 -4.59396421e+00]\n",
            " [ 2.93818398e+00 -4.41101744e+00]\n",
            " [ 3.42734153e+00 -4.17292823e+00]\n",
            " [ 3.89768376e+00 -3.88047179e+00]\n",
            " [ 4.34316892e+00 -3.53509317e+00]\n",
            " [ 4.75786287e+00 -3.13890759e+00]\n",
            " [ 5.13601320e+00 -2.69469264e+00]\n",
            " [ 5.47212274e+00 -2.20587232e+00]\n",
            " [ 5.76102172e+00 -1.67649299e+00]\n",
            " [ 5.99793747e+00 -1.11119128e+00]\n",
            " [ 6.17856100e+00 -5.15154297e-01]\n",
            " [ 6.29910941e+00  1.05927573e-01]\n",
            " [ 6.35638348e+00  7.45914911e-01]\n",
            " [ 6.34781957e+00  1.39827992e+00]\n",
            " [ 6.27153511e+00  2.05617300e+00]\n",
            " [ 6.12636709e+00  2.71249447e+00]\n",
            " [ 5.91190293e+00  3.35997079e+00]\n",
            " [ 5.62850319e+00  3.99123437e+00]\n",
            " [ 5.27731578e+00  4.59890619e+00]\n",
            " [ 4.86028133e+00  5.17568018e+00]\n",
            " [ 4.38012946e+00  5.71440862e+00]\n",
            " [ 3.84036588e+00  6.20818733e+00]\n",
            " [ 3.24525022e+00  6.65043991e+00]\n",
            " [ 2.59976488e+00  7.03499983e+00]\n",
            " [ 1.90957480e+00  7.35618951e+00]\n",
            " [ 1.18097874e+00  7.60889540e+00]\n",
            " [ 4.20852280e-01  7.78863809e+00]\n",
            " [-3.63416793e-01  7.89163660e+00]\n",
            " [-1.16400027e+00  7.91486597e+00]\n",
            " [-1.97270765e+00  7.85610747e+00]\n",
            " [-2.78106986e+00  7.71399056e+00]\n",
            " [-3.58042781e+00  7.48802622e+00]\n",
            " [-4.36202469e+00  7.17863083e+00]\n",
            " [-5.11710117e+00  6.78714046e+00]\n",
            " [-5.83699241e+00  6.31581504e+00]\n",
            " [-6.51322582e+00  5.76783230e+00]\n",
            " [-7.13761852e+00  5.14727130e+00]\n",
            " [-7.70237336e+00  4.45908562e+00]\n",
            " [-8.20017236e+00  3.70906637e+00]\n",
            " [-8.62426658e+00  2.90379510e+00]\n",
            " [-8.96856132e+00  2.05058721e+00]\n",
            " [-9.22769553e+00  1.15742614e+00]\n",
            " [-9.39711460e+00  2.32888999e-01]\n",
            " [-9.47313548e+00 -7.13935644e-01]\n",
            " [-9.45300342e+00 -1.67353710e+00]\n",
            " [-9.33493933e+00 -2.63607808e+00]\n",
            " [-9.11817747e+00 -3.59149547e+00]\n",
            " [-8.80299241e+00 -4.52960535e+00]\n",
            " [-8.39071529e+00 -5.44021111e+00]\n",
            " [-7.88373862e+00 -6.31321355e+00]\n",
            " [-7.28550965e+00 -7.13872181e+00]\n",
            " [-6.60051210e+00 -7.90716384e+00]\n",
            " [-5.83423628e+00 -8.60939528e+00]\n",
            " [-4.99313774e+00 -9.23680548e+00]\n",
            " [-4.08458482e+00 -9.78141947e+00]\n",
            " [-3.11679531e+00 -1.02359947e+01]\n",
            " [-2.09876299e+00 -1.05941113e+01]\n",
            " [-1.04017448e+00 -1.08502552e+01]\n",
            " [ 4.86826779e-02 -1.09998923e+01]\n",
            " [ 1.15701990e+00 -1.10395337e+01]\n",
            " [ 2.27365447e+00 -1.09667906e+01]\n",
            " [ 3.38712238e+00 -1.07804175e+01]\n",
            " [ 4.48579588e+00 -1.04803452e+01]\n",
            " [ 5.55800473e+00 -1.00677000e+01]\n",
            " [ 6.59215971e+00 -9.54481170e+00]\n",
            " [ 7.57687716e+00 -8.91520793e+00]\n",
            " [ 8.50110325e+00 -8.18359600e+00]\n",
            " [ 9.35423652e+00 -7.35583164e+00]\n",
            " [ 1.01262475e+01 -6.43887502e+00]\n",
            " [ 1.08077939e+01 -5.44073432e+00]\n",
            " [ 1.13903305e+01 -4.37039724e+00]\n",
            " [ 1.18662112e+01 -3.23775103e+00]\n",
            " [ 1.22287845e+01 -2.05349178e+00]\n",
            " [ 1.24724785e+01 -8.29023717e-01]\n",
            " [ 1.25928758e+01  4.23650395e-01]\n",
            " [ 1.25867779e+01  1.69204693e+00]\n",
            " [ 1.24522568e+01  2.96332576e+00]\n",
            " [ 1.21886945e+01  4.22442026e+00]\n",
            " [ 1.17968082e+01  5.46217148e+00]\n",
            " [ 1.12786627e+01  6.66346518e+00]\n",
            " [ 1.06376682e+01  7.81537039e+00]\n",
            " [ 9.87856400e+00  8.90527784e+00]\n",
            " [ 9.00738732e+00  9.92103693e+00]\n",
            " [ 8.03142895e+00  1.08510898e+01]\n",
            " [ 6.95917430e+00  1.16846007e+01]\n",
            " [ 5.80023126e+00  1.24115800e+01]\n",
            " [ 4.56524532e+00  1.30230002e+01]\n",
            " [ 3.26580248e+00  1.35109043e+01]\n",
            " [ 1.91432105e+00  1.38685030e+01]\n",
            " [ 5.23933226e-01  1.40902624e+01]\n",
            " [-8.91642466e-01  1.41719785e+01]\n",
            " [-2.31823644e+00  1.41108391e+01]\n",
            " [-3.74136993e+00  1.39054720e+01]\n",
            " [-5.14640187e+00  1.35559783e+01]\n",
            " [-6.51867941e+00  1.30639511e+01]\n",
            " [-7.84369048e+00  1.24324784e+01]\n",
            " [-9.10721675e+00  1.16661306e+01]\n",
            " [-1.02954855e+01  1.07709321e+01]\n",
            " [-1.13953187e+01  9.75431760e+00]\n",
            " [-1.23942777e+01  8.62507273e+00]\n",
            " [-1.32808021e+01  7.39326007e+00]\n",
            " [-1.40443409e+01  6.07013077e+00]\n",
            " [-1.46754749e+01  4.66802269e+00]\n",
            " [-1.51660287e+01  3.20024597e+00]\n",
            " [-1.55091710e+01  1.68095698e+00]\n",
            " [-1.56995022e+01  1.25021985e-01]\n",
            " [-1.57331282e+01 -1.45212823e+00]\n",
            " [-1.56077189e+01 -3.03465144e+00]\n",
            " [-1.53225517e+01 -4.60645307e+00]\n",
            " [-1.48785381e+01 -6.15134982e+00]\n",
            " [-1.42782343e+01 -7.65323618e+00]\n",
            " [-1.35258345e+01 -9.09625202e+00]\n",
            " [-1.26271466e+01 -1.04649496e+01]\n",
            " [-1.15895514e+01 -1.17444581e+01]\n",
            " [-1.04219454e+01 -1.29206445e+01]\n",
            " [-9.13466558e+00 -1.39802677e+01]\n",
            " [-7.73940027e+00 -1.49111262e+01]\n",
            " [-6.24908366e+00 -1.57021958e+01]\n",
            " [-4.67777675e+00 -1.63437574e+01]\n",
            " [-3.04053512e+00 -1.68275116e+01]\n",
            " [-1.35326495e+00 -1.71466811e+01]\n",
            " [ 3.67431381e-01 -1.72960977e+01]\n",
            " [ 2.10441864e+00 -1.72722732e+01]\n",
            " [ 3.84019936e+00 -1.70734551e+01]\n",
            " [ 5.55709009e+00 -1.66996632e+01]\n",
            " [ 7.23740149e+00 -1.61527094e+01]\n",
            " [ 8.86362041e+00 -1.54361988e+01]\n",
            " [ 1.04185921e+01 -1.45555123e+01]\n",
            " [ 1.18857007e+01 -1.35177704e+01]\n",
            " [ 1.32490461e+01 -1.23317792e+01]\n",
            " [ 1.44936150e+01 -1.10079574e+01]\n",
            " [ 1.56054449e+01 -9.55824719e+00]\n",
            " [ 1.65717792e+01 -7.99600745e+00]\n",
            " [ 1.73812105e+01 -6.33589144e+00]\n",
            " [ 1.80238128e+01 -4.59371011e+00]\n",
            " [ 1.84912583e+01 -2.78628178e+00]\n",
            " [ 1.87769203e+01 -9.31270049e-01]\n",
            " [ 1.88759586e+01  9.52988800e-01]\n",
            " [ 1.87853877e+01  2.84766698e+00]\n",
            " [ 1.85041270e+01  4.73363337e+00]\n",
            " [ 1.80330307e+01  6.59164663e+00]\n",
            " [ 1.73748994e+01  8.40255146e+00]\n",
            " [ 1.65344711e+01  1.01474758e+01]\n",
            " [ 1.55183919e+01  1.18080275e+01]\n",
            " [ 1.43351675e+01  1.33664870e+01]\n",
            " [ 1.29950942e+01  1.48059963e+01]\n",
            " [ 1.15101719e+01  1.61107400e+01]\n",
            " [ 9.89399732e+00  1.72661176e+01]\n",
            " [ 8.16164124e+00  1.82589050e+01]\n",
            " [ 6.32950824e+00  1.90774035e+01]\n",
            " [ 4.41518203e+00  1.97115745e+01]\n",
            " [ 2.43725688e+00  2.01531580e+01]\n",
            " [ 4.15157204e-01  2.03957752e+01]\n",
            " [-1.63105313e+00  2.04350108e+01]\n",
            " [-3.68086990e+00  2.02684779e+01]\n",
            " [-5.71355400e+00  1.98958614e+01]\n",
            " [-7.70834118e+00  1.93189409e+01]\n",
            " [-9.64465412e+00  1.85415923e+01]\n",
            " [-1.15023145e+01  1.75697684e+01]\n",
            " [-1.32617527e+01  1.64114568e+01]\n",
            " [-1.49042139e+01  1.50766179e+01]\n",
            " [-1.64119566e+01  1.35771013e+01]\n",
            " [-1.77684437e+01  1.19265421e+01]\n",
            " [-1.89585221e+01  1.01402386e+01]\n",
            " [-1.99685903e+01  8.23501062e+00]\n",
            " [-2.07867513e+01  6.22904253e+00]\n",
            " [-2.14029494e+01  4.14170953e+00]\n",
            " [-2.18090897e+01  1.99339091e+00]\n",
            " [-2.19991382e+01 -1.94728804e-01]\n",
            " [-2.19692018e+01 -2.40086876e+00]\n",
            " [-2.17175874e+01 -4.60286854e+00]\n",
            " [-2.12448381e+01 -6.77841078e+00]\n",
            " [-2.05537483e+01 -8.90524730e+00]\n",
            " [-1.96493544e+01 -1.09614265e+01]\n",
            " [-1.85389034e+01 -1.29255198e+01]\n",
            " [-1.72317983e+01 -1.47768443e+01]\n",
            " [-1.57395212e+01 -1.64956804e+01]\n",
            " [-1.40755342e+01 -1.80634807e+01]\n",
            " [-1.22551595e+01 -1.94630693e+01]\n",
            " [-1.02954390e+01 -2.06788282e+01]\n",
            " [-8.21497601e+00 -2.16968700e+01]\n",
            " [-6.03375864e+00 -2.25051940e+01]\n",
            " [-3.77296837e+00 -2.30938241e+01]\n",
            " [-1.45477441e+00 -2.34549277e+01]\n",
            " [ 8.97883560e-01 -2.35829134e+01]\n",
            " [ 3.26152240e+00 -2.34745068e+01]\n",
            " [ 5.61234990e+00 -2.31288030e+01]\n",
            " [ 7.92650424e+00 -2.25472954e+01]\n",
            " [ 1.01802962e+01 -2.17338807e+01]\n",
            " [ 1.23504514e+01 -2.06948388e+01]\n",
            " [ 1.44143504e+01 -1.94387886e+01]\n",
            " [ 1.63502644e+01 -1.79766196e+01]\n",
            " [ 1.81375829e+01 -1.63213996e+01]\n",
            " [ 1.97570326e+01 -1.44882595e+01]\n",
            " [ 2.11908840e+01 -1.24942561e+01]\n",
            " [ 2.24231441e+01 -1.03582146e+01]\n",
            " [ 2.34397328e+01 -8.10055113e+00]\n",
            " [ 2.42286412e+01 -5.74307808e+00]\n",
            " [ 2.47800703e+01 -3.30879375e+00]\n",
            " [ 2.50865478e+01 -8.21658021e-01]\n",
            " [ 2.51430223e+01  1.69364343e+00]\n",
            " [ 2.49469342e+01  4.21194409e+00]\n",
            " [ 2.44982605e+01  6.70784844e+00]\n",
            " [ 2.37995354e+01  9.15598803e+00]\n",
            " [ 2.28558439e+01  1.15312792e+01]\n",
            " [ 2.16747906e+01  1.38091801e+01]\n",
            " [ 2.02664414e+01  1.59659436e+01]\n",
            " [ 1.86432405e+01  1.79788649e+01]\n",
            " [ 1.68199024e+01  1.98265197e+01]\n",
            " [ 1.48132796e+01  2.14889913e+01]\n",
            " [ 1.26422082e+01  2.29480843e+01]\n",
            " [ 1.03273315e+01  2.41875221e+01]\n",
            " [ 7.89090473e+00  2.51931265e+01]\n",
            " [ 5.35658069e+00  2.59529775e+01]\n",
            " [ 2.74918094e+00  2.64575510e+01]\n",
            " [ 9.44525352e-02  2.66998329e+01]\n",
            " [-2.58118617e+00  2.66754096e+01]\n",
            " [-5.25090838e+00  2.63825314e+01]\n",
            " [-7.88774784e+00  2.58221501e+01]\n",
            " [-1.04648712e+01  2.49979293e+01]\n",
            " [-1.29558509e+01  2.39162273e+01]\n",
            " [-1.53349362e+01  2.25860517e+01]\n",
            " [-1.75773189e+01  2.10189881e+01]\n",
            " [-1.96593916e+01  1.92291009e+01]\n",
            " [-2.15589957e+01  1.72328089e+01]\n",
            " [-2.32556562e+01  1.50487360e+01]\n",
            " [-2.47308012e+01  1.26975380e+01]\n",
            " [-2.59679640e+01  1.02017081e+01]\n",
            " [-2.69529643e+01  7.58536207e+00]\n",
            " [-2.76740685e+01  4.87400556e+00]\n",
            " [-2.81221260e+01  2.09428557e+00]\n",
            " [-2.82906792e+01 -7.26271386e-01]\n",
            " [-2.81760489e+01 -3.55953178e+00]\n",
            " [-2.77773904e+01 -6.37703575e+00]\n",
            " [-2.70967216e+01 -9.15028291e+00]\n",
            " [-2.61389233e+01 -1.18510207e+01]\n",
            " [-2.49117086e+01 -1.44515319e+01]\n",
            " [-2.34255654e+01 -1.69249191e+01]\n",
            " [-2.16936684e+01 -1.92453826e+01]\n",
            " [-1.97317648e+01 -2.13884889e+01]\n",
            " [-1.75580325e+01 -2.33314272e+01]\n",
            " [-1.51929123e+01 -2.50532516e+01]\n",
            " [-1.26589169e+01 -2.65351055e+01]\n",
            " [-9.98041672e+00 -2.77604265e+01]\n",
            " [-7.18340625e+00 -2.87151297e+01]\n",
            " [-4.29525175e+00 -2.93877664e+01]\n",
            " [-1.34442375e+00 -2.97696578e+01]\n",
            " [ 1.63978364e+00 -2.98550014e+01]\n",
            " [ 4.62754350e+00 -2.96409487e+01]\n",
            " [ 7.58879418e+00 -2.91276536e+01]\n",
            " [ 1.04935418e+01 -2.83182906e+01]\n",
            " [ 1.33121641e+01 -2.72190427e+01]\n",
            " [ 1.60157120e+01 -2.58390590e+01]\n",
            " [ 1.85762073e+01 -2.41903808e+01]\n",
            " [ 2.09669314e+01 -2.22878395e+01]\n",
            " [ 2.31627037e+01 -2.01489244e+01]\n",
            " [ 2.51401465e+01 -1.77936234e+01]\n",
            " [ 2.68779323e+01 -1.52442367e+01]\n",
            " [ 2.83570131e+01 -1.25251670e+01]\n",
            " [ 2.95608272e+01 -9.66268557e+00]\n",
            " [ 3.04754830e+01 -6.68467926e+00]\n",
            " [ 3.10899157e+01 -3.62037882e+00]\n",
            " [ 3.13960177e+01 -5.00072086e-01]]\n"
          ]
        }
      ],
      "source": [
        "import numpy as np\n",
        "phi = np.arange(0, 10*np.pi, 0.1)\n",
        "a = 1\n",
        "x = a*phi*np.cos(phi)\n",
        "y = a*phi*np.sin(phi)\n",
        "data_2d = np.array([x, y]).T\n",
        "print(data_2d)"
      ]
    },
    {
      "cell_type": "markdown",
      "id": "e2208f4e",
      "metadata": {
        "id": "e2208f4e"
      },
      "source": [
        "#### 99. Given an integer n and a 2D array X, select from X the rows which can be interpreted as draws from a multinomial distribution with n degrees, i.e., the rows which only contain integers and which sum to n. (★★★)"
      ]
    },
    {
      "cell_type": "code",
      "execution_count": null,
      "id": "5a240dba",
      "metadata": {
        "id": "5a240dba"
      },
      "outputs": [],
      "source": [
        "X = np.asarray([[1.0, 0.0, 3.0, 8.0],\n",
        "                [2.0, 0.0, 1.0, 1.0],\n",
        "                [1.5, 2.5, 1.0, 0.0]])\n",
        "n = 4\n",
        "M = np.logical_and.reduce(np.mod(X, 1) == 0, axis=-1)\n",
        "M &= (X.sum(axis=-1) == n)\n",
        "print(X[M])\n",
        "```"
      ]
    },
    {
      "cell_type": "markdown",
      "id": "21157036",
      "metadata": {
        "id": "21157036"
      },
      "source": [
        "#### 100. Compute bootstrapped 95% confidence intervals for the mean of a 1D array X (i.e., resample the elements of an array with replacement N times, compute the mean of each sample, and then compute percentiles over the means). (★★★)"
      ]
    },
    {
      "cell_type": "code",
      "execution_count": null,
      "id": "66c8a5db",
      "metadata": {
        "id": "66c8a5db"
      },
      "outputs": [],
      "source": [
        "X = np.random.randn(100) # random 1D array\n",
        "N = 1000 # number of bootstrap samples\n",
        "idx = np.random.randint(0, X.size, (N, X.size))\n",
        "means = X[idx].mean(axis=1)\n",
        "confint = np.percentile(means, [2.5, 97.5])\n",
        "print(confint)"
      ]
    },
    {
      "cell_type": "code",
      "metadata": {
        "id": "0f90a25b"
      },
      "source": [],
      "id": "0f90a25b",
      "execution_count": 18,
      "outputs": []
    }
  ],
  "metadata": {
    "colab": {
      "provenance": [],
      "include_colab_link": true
    },
    "language_info": {
      "name": "python"
    },
    "kernelspec": {
      "name": "python3",
      "display_name": "Python 3"
    }
  },
  "nbformat": 4,
  "nbformat_minor": 5
}